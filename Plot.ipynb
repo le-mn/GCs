{
 "cells": [
  {
   "cell_type": "code",
   "execution_count": 9,
   "id": "ca2092cb-39d8-45db-9860-65db84e86d9a",
   "metadata": {},
   "outputs": [],
   "source": [
    "import numpy as np\n",
    "import matplotlib.pyplot as plt\n",
    "from matplotlib import gridspec\n",
    "path ='/Users/ngoc/Desktop/project/GCs/'"
   ]
  },
  {
   "cell_type": "code",
   "execution_count": 44,
   "id": "94768fdf-7a10-4cef-9eb2-10b274b28f78",
   "metadata": {},
   "outputs": [],
   "source": [
    "# plot the histogram of redshift of halos that can form GCs, here using parameter from PCH 2008\n",
    "z = np.loadtxt(path+'/code/GCs-in-tree.txt', usecols = (0))"
   ]
  },
  {
   "cell_type": "code",
   "execution_count": 45,
   "id": "bae5f682-761a-4106-9589-033a33d0a8ec",
   "metadata": {},
   "outputs": [
    {
     "data": {
      "image/png": "[encoded data removed]",
      "text/plain": [
       "<Figure size 432x288 with 1 Axes>"
      ]
     },
     "metadata": {
      "needs_background": "light"
     },
     "output_type": "display_data"
    }
   ],
   "source": [
    "plt.hist(z)\n",
    "plt.show()"
   ]
  },
  {
   "cell_type": "code",
   "execution_count": 48,
   "id": "6a6f4d1f-b4b6-44b9-8e47-070cfa3a8902",
   "metadata": {},
   "outputs": [],
   "source": [
    "z_Benson = np.loadtxt(path+'/code/GCs-in-tree(Benson2017).txt', usecols = (0))"
   ]
  },
  {
   "cell_type": "code",
   "execution_count": 49,
   "id": "81a4399e-9eb4-4a81-bd49-2a8d0b2bfeb2",
   "metadata": {},
   "outputs": [
    {
     "data": {
      "image/png": "[encoded data removed]",
      "text/plain": [
       "<Figure size 432x288 with 1 Axes>"
      ]
     },
     "metadata": {
      "needs_background": "light"
     },
     "output_type": "display_data"
    }
   ],
   "source": [
    "plt.hist(z_Benson)\n",
    "plt.show()"
   ]
  },
  {
   "cell_type": "code",
   "execution_count": null,
   "id": "ce3cdc78-b513-43f6-8bdc-1d07d90d1067",
   "metadata": {},
   "outputs": [],
   "source": []
  }
 ],
 "metadata": {
  "kernelspec": {
   "display_name": "Python 3",
   "language": "python",
   "name": "python3"
  },
  "language_info": {
   "codemirror_mode": {
    "name": "ipython",
    "version": 3
   },
   "file_extension": ".py",
   "mimetype": "text/x-python",
   "name": "python",
   "nbconvert_exporter": "python",
   "pygments_lexer": "ipython3",
   "version": "3.8.8"
  }
 },
 "nbformat": 4,
 "nbformat_minor": 5
}

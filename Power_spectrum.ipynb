{
 "cells": [
  {
   "cell_type": "markdown",
   "id": "aa7b687a-a4bc-4109-9fd2-f5497fc89c93",
   "metadata": {},
   "source": [
    "Using CLASS to calculate matter Power spectrum with cosmological parameters given by Creasey et. al. 2018"
   ]
  },
  {
   "cell_type": "code",
   "execution_count": 1,
   "id": "78fac991-66cd-4e7b-a411-39760f9b4be6",
   "metadata": {},
   "outputs": [],
   "source": [
    "import numpy as np\n",
    "import matplotlib.pyplot as plt\n",
    "from matplotlib import gridspec\n",
    "from classy import Class\n",
    "path ='/Users/ngoc/Desktop/project/GCs/'\n",
    "from scipy.interpolate import InterpolatedUnivariateSpline as spline "
   ]
  },
  {
   "cell_type": "code",
   "execution_count": 2,
   "id": "5477ddb5-8adf-4dee-80d4-7024fc3977c4",
   "metadata": {},
   "outputs": [
    {
     "ename": "CosmoComputationError",
     "evalue": "\n\nError in Class: background_init(L:702) :condition (pba->shooting_failed == _TRUE_) is true; Shooting failed, try optimising input_get_guess(). Error message:\n\ninput_init(L:393) :error in input_find_root(&xzero, &fevals, &fzw, ppr->tol_shooting_1d, errmsg);\n=>input_find_root(L:4073) :error in input_fzerofun_1d(x1, pfzw, &f1, errmsg);\n=>input_fzerofun_1d(L:3547) :error in input_try_unknown_parameters(&input, 1, pfzw, output, error_message);\n=>input_try_unknown_parameters(L:3756) :error in thermodynamics_init(&pr,&ba,&th);\n=>thermodynamics_init(L:341) :error in thermodynamics_helium_from_bbn(ppr,pba,pth);\n=>thermodynamics_helium_from_bbn(L:1619) :could not open fA with name /Users/ngoc/Downloads/class_public-2.9.4/bbn/sBBN_2017.dat and mode \"r\"",
     "output_type": "error",
     "traceback": [
      "\u001b[0;31m---------------------------------------------------------------------------\u001b[0m",
      "\u001b[0;31mCosmoComputationError\u001b[0m                     Traceback (most recent call last)",
      "\u001b[0;32m<ipython-input-2-316726d14f54>\u001b[0m in \u001b[0;36m<module>\u001b[0;34m\u001b[0m\n\u001b[1;32m     22\u001b[0m                'P_k_max_1/Mpc':100.0})\n\u001b[1;32m     23\u001b[0m \u001b[0;34m\u001b[0m\u001b[0m\n\u001b[0;32m---> 24\u001b[0;31m \u001b[0mLambdaCDM\u001b[0m\u001b[0;34m.\u001b[0m\u001b[0mcompute\u001b[0m\u001b[0;34m(\u001b[0m\u001b[0;34m)\u001b[0m\u001b[0;34m\u001b[0m\u001b[0;34m\u001b[0m\u001b[0m\n\u001b[0m",
      "\u001b[0;32mclassy.pyx\u001b[0m in \u001b[0;36mclassy.Class.compute\u001b[0;34m()\u001b[0m\n",
      "\u001b[0;31mCosmoComputationError\u001b[0m: \n\nError in Class: background_init(L:702) :condition (pba->shooting_failed == _TRUE_) is true; Shooting failed, try optimising input_get_guess(). Error message:\n\ninput_init(L:393) :error in input_find_root(&xzero, &fevals, &fzw, ppr->tol_shooting_1d, errmsg);\n=>input_find_root(L:4073) :error in input_fzerofun_1d(x1, pfzw, &f1, errmsg);\n=>input_fzerofun_1d(L:3547) :error in input_try_unknown_parameters(&input, 1, pfzw, output, error_message);\n=>input_try_unknown_parameters(L:3756) :error in thermodynamics_init(&pr,&ba,&th);\n=>thermodynamics_init(L:341) :error in thermodynamics_helium_from_bbn(ppr,pba,pth);\n=>thermodynamics_helium_from_bbn(L:1619) :could not open fA with name /Users/ngoc/Downloads/class_public-2.9.4/bbn/sBBN_2017.dat and mode \"r\""
     ]
    }
   ],
   "source": [
    "# number of bins in k-space \n",
    "kbins     = 2000\n",
    "\n",
    "# Cosmological parameters from Creasey et. al. 2018 paper\n",
    "h         = 0.673\n",
    "z         = 0.\n",
    "Omega_m   = 0.315\n",
    "Omega_b   = 0.0\n",
    "LambdaCDM = Class()\n",
    "sigma8    = 0.829\n",
    "n_s       = 0.9603\n",
    "\n",
    "LambdaCDM.set({'Omega_b': Omega_b ,\n",
    "               'Omega_cdm': Omega_m - Omega_b ,\n",
    "               'h': h ,\n",
    "               'sigma8' : sigma8,             # amplitude of density fluctuations sigma8\n",
    "               'n_s': n_s ,\n",
    "               'tau_reio':0.0925,\n",
    "               'z_pk': z})\n",
    "\n",
    "LambdaCDM.set({'output':'mPk',\n",
    "               'P_k_max_1/Mpc':100.0})\n",
    "\n",
    "LambdaCDM.compute()"
   ]
  },
  {
   "cell_type": "code",
   "execution_count": null,
   "id": "99fbf612-7d7e-4e25-b7c1-5a8b7247d6aa",
   "metadata": {},
   "outputs": [],
   "source": [
    "f = LambdaCDM.scale_independent_growth_factor_f(z)\n",
    "D = LambdaCDM.scale_independent_growth_factor(z)"
   ]
  }
 ],
 "metadata": {
  "kernelspec": {
   "display_name": "Python 3",
   "language": "python",
   "name": "python3"
  },
  "language_info": {
   "codemirror_mode": {
    "name": "ipython",
    "version": 3
   },
   "file_extension": ".py",
   "mimetype": "text/x-python",
   "name": "python",
   "nbconvert_exporter": "python",
   "pygments_lexer": "ipython3",
   "version": "3.8.8"
  }
 },
 "nbformat": 4,
 "nbformat_minor": 5
}

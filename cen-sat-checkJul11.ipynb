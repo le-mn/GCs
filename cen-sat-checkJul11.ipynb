{
 "cells": [
  {
   "cell_type": "markdown",
   "id": "03b65885-91fd-4795-b45d-7eed6a131c40",
   "metadata": {},
   "source": [
    "Week of Jul 11 - 15:\n",
    "\n",
    "1. Check the central galaxies and their satellites: \n",
    "\n",
    "- by compare M_V of central to all of its satellites. \n",
    "\n",
    "- If any of its satellite is brighter than it => check the central galaxy again; \n",
    "\n",
    "2. Calculate total GCs: adding #GCs in galaxies which are not considered before since they did not match to any in Atlas;"
   ]
  },
  {
   "cell_type": "code",
   "execution_count": 134,
   "id": "de1a0210-80ec-4e09-81eb-2030f6425a69",
   "metadata": {},
   "outputs": [],
   "source": [
    "import numpy as np\n",
    "import matplotlib.pyplot as plt\n",
    "import astropy.io.fits as pyfits\n",
    "\n",
    "path ='/home/ngoc/Downloads/GCs/'\n",
    "path1 ='/home/ngoc/Downloads/GCs/code/'"
   ]
  },
  {
   "cell_type": "code",
   "execution_count": 135,
   "id": "1ef7603d-dc9b-461a-b786-72014722d3f5",
   "metadata": {},
   "outputs": [],
   "source": [
    "from astropy.coordinates import Angle\n",
    "from astropy import units as u\n",
    "from astropy.coordinates import SkyCoord"
   ]
  },
  {
   "cell_type": "code",
   "execution_count": 136,
   "id": "083f9e93-b67a-4d87-800d-d240c17c6ae7",
   "metadata": {},
   "outputs": [],
   "source": [
    "#load the coordinates, halo mass and #GC after match\n",
    "M_h  = np.loadtxt(path+\"code/data_Atlas_Harris13_by_rpes.txt\",usecols=(0))\n",
    "N_GC = np.loadtxt(path+\"code/data_Atlas_Harris13_by_rpes.txt\",usecols=(1))\n",
    "ra   = np.loadtxt(path+\"code/data_Atlas_Harris13_by_rpes.txt\",usecols=(2))\n",
    "dec  = np.loadtxt(path+\"code/data_Atlas_Harris13_by_rpes.txt\",usecols=(3))\n",
    "id_H = np.loadtxt(path+\"code/data_Atlas_Harris13_by_rpes.txt\",usecols=(4))\n",
    "m_stellar_match = np.loadtxt(path+\"code/data_Atlas_Harris13_by_rpes.txt\",usecols=(5))"
   ]
  },
  {
   "cell_type": "code",
   "execution_count": 137,
   "id": "5dca2224-ce6e-46fc-ad2f-14d7b03b59ef",
   "metadata": {},
   "outputs": [
    {
     "name": "stdout",
     "output_type": "stream",
     "text": [
      "75\n",
      "[4.46262589e+11 7.01641536e+08 1.87869607e+11 8.36665774e+11\n",
      " 2.26297795e+10 7.70946302e+11 9.78707064e+12 1.41803459e+12\n",
      " 1.14112319e+12 4.77511302e+10 7.23359069e+11 2.33830372e+13\n",
      " 5.15628117e+12 1.78295267e+13 3.26563346e+10 3.58637292e+11\n",
      " 1.44704923e+10 3.60313447e+11 2.54213356e+13 5.33245203e+11\n",
      " 1.17161259e+11 1.98606704e+11 6.41520982e+10 4.86449528e+11\n",
      " 9.69418876e+12 2.07226504e+11 3.95946076e+11 1.30552123e+12\n",
      " 4.53004031e+11 3.33460710e+10 7.41547783e+11 1.09559124e+11\n",
      " 3.93987074e+11 4.85956608e+13 2.57044900e+13 2.19712616e+11\n",
      " 6.57096595e+11 4.40742505e+11 1.41355668e+12 2.83157242e+13\n",
      " 1.66592963e+13 6.12451735e+10 1.28993284e+13 1.33443521e+11\n",
      " 2.90473383e+10 9.49850283e+10 2.25952357e+11 6.58604592e+10\n",
      " 2.98626941e+10 9.93895119e+10 7.03205057e+10 6.81961327e+10\n",
      " 1.19810299e+10 6.62477905e+10 1.45507066e+11 3.84082640e+12\n",
      " 3.45194382e+11 2.81495483e+10 4.72380953e+11 4.31362018e+11\n",
      " 1.30231739e+11 5.90754089e+10 2.80413433e+10 6.43239812e+10\n",
      " 3.63621104e+10 9.74891427e+10 6.67554581e+10 1.36056437e+11\n",
      " 2.16213919e+11 4.20948373e+11 3.13399239e+11 2.79968982e+10\n",
      " 6.99839713e+10 4.20252810e+11 2.31468591e+12 2.51189000e+11\n",
      " 2.62902328e+11 7.42019387e+11 1.20227389e+11 9.45329763e+10\n",
      " 1.10906775e+11 7.68649355e+10 8.27874147e+10 9.20719155e+10\n",
      " 2.91182825e+11 7.51125797e+10 4.99702210e+10 5.28714682e+10\n",
      " 1.22441414e+11 2.12746402e+11 3.23619121e+11 4.59430848e+10\n",
      " 1.33586864e+11 1.78146083e+11 7.80619600e+10 1.01418046e+11\n",
      " 1.69157131e+11 7.96383073e+10 7.59929245e+10 4.34359390e+10\n",
      " 1.50899897e+11 1.08653629e+12 2.17288683e+11 3.13747881e+10\n",
      " 8.50361999e+12 4.22936692e+11 3.12905878e+11 2.10544364e+11\n",
      " 6.45095238e+10 4.02008775e+11 1.47672719e+11 1.60226885e+11\n",
      " 1.76332530e+11 7.78971188e+10 6.04768046e+10 1.02591189e+13\n",
      " 1.98782425e+11 4.59132674e+10 4.97143388e+11 1.36104216e+12\n",
      " 9.03948147e+10 6.98121458e+10 1.31918726e+11 1.28183268e+11\n",
      " 1.86689303e+11 5.83279820e+10 7.50853381e+09 4.27514915e+10\n",
      " 3.75441213e+10 3.70336936e+10 1.25052678e+11 2.38081200e+10\n",
      " 3.98184702e+11 6.80503852e+10 1.31321356e+11 2.93374464e+10\n",
      " 6.31377553e+10 1.01671668e+11 2.66878950e+11 1.88405556e+12\n",
      " 6.57131089e+10 4.56416979e+11 1.28747343e+12 1.23371602e+11\n",
      " 1.27934899e+12 6.05463282e+10 7.16534767e+10 1.22840381e+11\n",
      " 1.78570560e+12 8.28715493e+10 8.70597596e+10 1.17231958e+11\n",
      " 1.04703026e+12 4.05330363e+10 6.82003696e+10 1.07971253e+10\n",
      " 6.29250303e+11 5.04258746e+10 6.19082133e+10 2.71817405e+10\n",
      " 3.11823668e+11 3.38164372e+11 4.39420370e+12 6.05976743e+10\n",
      " 5.34377308e+12 3.52680883e+11 1.27287007e+11 6.02305346e+12\n",
      " 1.13488427e+11 6.76992646e+10 1.51752406e+12 8.56893570e+11\n",
      " 5.80979292e+11 2.00224169e+13 1.37114211e+13 8.99504648e+11\n",
      " 7.73573687e+11 7.37838349e+11 3.99727940e+11 2.44201852e+13\n",
      " 1.52597094e+12 2.01155977e+12 3.59539353e+11 5.99081226e+13\n",
      " 2.71403258e+11 6.29117177e+11 3.87951267e+11 6.07933652e+11\n",
      " 9.77944407e+11 1.87810426e+13 2.77399940e+11 1.37308175e+12\n",
      " 5.34029688e+11 1.56322679e+12 2.48987195e+12 2.24461732e+11\n",
      " 1.62828142e+12 4.44219015e+11 3.17424216e+11 3.26650586e+13\n",
      " 3.35162821e+12 1.40670457e+14 1.35304217e+13 1.35304217e+13\n",
      " 1.64899636e+13 1.88711150e+13 9.89389199e+12 1.41301033e+13\n",
      " 2.54560992e+13 3.94416879e+13 3.87603702e+13 1.50754104e+14\n",
      " 6.36897797e+11 1.42868843e+12 3.84399588e+11 2.09562802e+11\n",
      " 2.16901464e+11 7.18198631e+12 1.27887233e+14 1.46061698e+13]\n"
     ]
    }
   ],
   "source": [
    "#correct the wrong matching galaxy\n",
    "no = np.argmax(M_h)\n",
    "print(no)\n",
    "M_h[no] = 2.51189e11\n",
    "m_stellar_match[no] = 10**9.84\n",
    "print(M_h)"
   ]
  },
  {
   "cell_type": "code",
   "execution_count": 138,
   "id": "f2400895-f76a-431e-8ed3-b66d230839cb",
   "metadata": {},
   "outputs": [],
   "source": [
    "#changed the value of M_v of no.353 in the data file from \"nd\" to \"0.0\" to read the data easier, will exclude it when comparing M_V\n",
    "M_V = np.loadtxt(path1+\"GC_cat_H13.txt\",usecols=(9))\n",
    "#print(M_V)"
   ]
  },
  {
   "cell_type": "code",
   "execution_count": 139,
   "id": "ba0431ea-9b08-4455-bc26-1338b4213dc8",
   "metadata": {},
   "outputs": [],
   "source": [
    "M_V_match = np.zeros(len(M_h))\n",
    "for i in range(0,len(M_h)):\n",
    "    j = int(id_H[i])\n",
    "    M_V_match[i] = M_V[j]\n",
    "#print(M_V_match)"
   ]
  },
  {
   "cell_type": "code",
   "execution_count": 140,
   "id": "212695c7-ecaa-4568-911c-7d0b2ea5e92c",
   "metadata": {},
   "outputs": [],
   "source": [
    "from halotools.empirical_models import halo_mass_to_halo_radius"
   ]
  },
  {
   "cell_type": "code",
   "execution_count": 141,
   "id": "5717ba0a-e53f-42cc-bc6f-e53765a060ee",
   "metadata": {},
   "outputs": [],
   "source": [
    "from astropy.cosmology import Planck18 as cosmo"
   ]
  },
  {
   "cell_type": "code",
   "execution_count": 142,
   "id": "f8e2fe18-0b0a-4782-8d9b-dee446fef622",
   "metadata": {},
   "outputs": [
    {
     "name": "stderr",
     "output_type": "stream",
     "text": [
      "WARNING: AstropyDeprecationWarning: `astropy.cosmology.core.FLRW` has been moved (since v5.0) and should be imported as ``from astropy.cosmology import FLRW``. In future this will raise an exception. [astropy.cosmology.core]\n"
     ]
    }
   ],
   "source": [
    "r_vir = halo_mass_to_halo_radius(M_h, cosmo, 0, 'vir')"
   ]
  },
  {
   "cell_type": "code",
   "execution_count": 143,
   "id": "2baea212-b33f-47d6-8729-dacae8cbf1e4",
   "metadata": {},
   "outputs": [],
   "source": [
    "r_vir2 = r_vir"
   ]
  },
  {
   "cell_type": "code",
   "execution_count": 144,
   "id": "9faece3d-6c01-46f6-be1e-a903a5bcb455",
   "metadata": {},
   "outputs": [
    {
     "name": "stdout",
     "output_type": "stream",
     "text": [
      "[1.08169211 1.05701604 1.02397576 0.79526008 0.74167409 0.69182955\n",
      " 0.68782283 0.64969336 0.61947412 0.59981448 0.59787615 0.59760387\n",
      " 0.58965357 0.58118481 0.55189032 0.54110282 0.54024055 0.53095847\n",
      " 0.51907825 0.51731354 0.49681274 0.49135539 0.48645362 0.48430363\n",
      " 0.48430363 0.47665371 0.44162193 0.43631787 0.43474192 0.43336228\n",
      " 0.41484121 0.39212886 0.36978803 0.35532842 0.35112316 0.33289505\n",
      " 0.3182894  0.30415799 0.27546914 0.26885078 0.25656156 0.25102204\n",
      " 0.24657587 0.23910598 0.23587827 0.23398932 0.23355678 0.22890738\n",
      " 0.22833696 0.22809636 0.22589819 0.225236   0.2221307  0.22110236\n",
      " 0.2206363  0.21238546 0.20894342 0.20637972 0.2017369  0.19619221\n",
      " 0.19304397 0.19151286 0.18657259 0.18636112 0.18400051 0.18396152\n",
      " 0.18365427 0.18244498 0.17669477 0.17486539 0.17416268 0.17415039\n",
      " 0.17217338 0.16959023 0.16489307 0.16481229 0.16100567 0.15984285\n",
      " 0.15828681 0.15648326 0.15609224 0.15531406 0.15507662 0.15467101\n",
      " 0.15356583 0.15255943 0.15231999 0.15223604 0.15000041 0.14971619\n",
      " 0.14952328 0.14924254 0.148996   0.14823122 0.14777748 0.14462413\n",
      " 0.14452049 0.14439952 0.14359564 0.14257231 0.14159782 0.13953784\n",
      " 0.13864173 0.13805324 0.13798076 0.1378215  0.13471084 0.13255092\n",
      " 0.13158881 0.13085351 0.13020033 0.12823724 0.12379019 0.12351737\n",
      " 0.12264004 0.12218737 0.12211474 0.12198558 0.12132995 0.12090989\n",
      " 0.1207217  0.1202714  0.11861509 0.11858013 0.11640352 0.11615924\n",
      " 0.11435962 0.11397023 0.11240287 0.11038899 0.10820407 0.10742715\n",
      " 0.10689941 0.10453306 0.10389673 0.10385955 0.10346245 0.10330604\n",
      " 0.10301953 0.10247653 0.10223713 0.10163539 0.1011779  0.10103248\n",
      " 0.10092298 0.10031097 0.09947088 0.09945088 0.09840061 0.09764874\n",
      " 0.09725161 0.09485945 0.09478051 0.09414432 0.09354043 0.09273258\n",
      " 0.09258523 0.09177471 0.09121406 0.09007821 0.08860994 0.08857994\n",
      " 0.08744224 0.08686145 0.08680027 0.08641518 0.08608715 0.08575343\n",
      " 0.08441631 0.08388956 0.08375553 0.08368692 0.08303787 0.08303615\n",
      " 0.08297695 0.08283399 0.08244726 0.08223772 0.08207714 0.08201588\n",
      " 0.08151206 0.08143384 0.08136124 0.08093015 0.08040136 0.08011329\n",
      " 0.07982996 0.07980741 0.07977685 0.07915582 0.07882057 0.07628182\n",
      " 0.07508706 0.07486021 0.07373525 0.07279262 0.07277687 0.07144366\n",
      " 0.07106641 0.06981525 0.06805519 0.06774537 0.06733336 0.06541773\n",
      " 0.06496355 0.06410239 0.06305559 0.06268371 0.06247641 0.06182599\n",
      " 0.06174667 0.06171403 0.06110917 0.05846855 0.05748758 0.04952696\n",
      " 0.04650632 0.04492106 0.0397984  0.01806005]\n"
     ]
    }
   ],
   "source": [
    "r_new     = np.zeros(len(r_vir2))\n",
    "ra_new    = np.zeros(len(r_vir2))\n",
    "dec_new   = np.zeros(len(r_vir2))\n",
    "M_h_new   = np.zeros(len(r_vir2))\n",
    "N_GC_new  = np.zeros(len(r_vir2))\n",
    "id_new    = np.zeros(len(r_vir2))\n",
    "M_V_new   = np.zeros(len(r_vir2))\n",
    "ii        = 0\n",
    "m_stellar_new = np.zeros(len(r_vir2))\n",
    "\n",
    "#sort galaxies(halos) from largest R_vir to smallest one\n",
    "while (ii < len(r_vir2)):\n",
    "    idx         = np.argmax(r_vir2)\n",
    "    #if idx == 75:\n",
    "    #    print(ii)\n",
    "    r_new[ii]         = r_vir2[idx]\n",
    "    ra_new[ii]        = ra[idx]\n",
    "    dec_new[ii]       = dec[idx]\n",
    "    M_h_new[ii]       = M_h[idx]\n",
    "    m_stellar_new[ii] = m_stellar_match[idx]\n",
    "    N_GC_new[ii]      = N_GC[idx]\n",
    "    id_new[ii]        = id_H[idx]\n",
    "    M_V_new[ii]       = M_V_match[idx]\n",
    "    r_vir2[idx]       = 0\n",
    "    ii               += 1\n",
    "print(r_new)\n",
    "#print(r_vir2)"
   ]
  },
  {
   "cell_type": "code",
   "execution_count": 145,
   "id": "cb871f34-0f92-4db1-a541-3d0aaa077dc3",
   "metadata": {},
   "outputs": [
    {
     "data": {
      "text/plain": [
       "[<matplotlib.lines.Line2D at 0x7f57ec409d30>]"
      ]
     },
     "execution_count": 145,
     "metadata": {},
     "output_type": "execute_result"
    },
    {
     "data": {
      "image/png": "[encoded data removed]",
      "text/plain": [
       "<Figure size 720x720 with 1 Axes>"
      ]
     },
     "metadata": {
      "needs_background": "light"
     },
     "output_type": "display_data"
    }
   ],
   "source": [
    "plt.figure(figsize=(10,10))\n",
    "plt.loglog(M_h_new,m_stellar_new,'.')"
   ]
  },
  {
   "cell_type": "code",
   "execution_count": 146,
   "id": "fc26741a-73cc-4b6d-b5cd-ba06b4613735",
   "metadata": {},
   "outputs": [
    {
     "name": "stdout",
     "output_type": "stream",
     "text": [
      "the satellite 340.0 -23.48 is brighter than its central 344.0 -23.47\n",
      "the satellite 384.0 -23.08 is brighter than its central 389.0 -22.6\n",
      "the satellite 385.0 -23.0 is brighter than its central 389.0 -22.6\n",
      "the satellite 223.0 -22.36 is brighter than its central 295.0 -21.68\n",
      "the satellite 234.0 -20.56 is brighter than its central 232.0 -20.4\n",
      "number of central and single galaxies (galaxies do not belong to any group) is 130\n"
     ]
    }
   ],
   "source": [
    "#find central-satellite galaxies inside the same halos, True marks central galaxies, False marks satellite galaxies of the central ones above in the array\n",
    "r_boo = np.full(len(r_new),True)\n",
    "n_cen = 0  # number of central galaxies/galaxies which do not belong to any group (either central without satellite or satellite without their central here in this catalog)\n",
    "for j in range (0, len(r_new)):\n",
    "    if r_boo[j] == True:\n",
    "        cen = j\n",
    "        n_cen += 1\n",
    "    for i in range(0,len(r_new)):   \n",
    "        if i!= cen and r_boo[i] == True:\n",
    "            distance_to_cen = np.sqrt((ra_new[i]-ra_new[cen])**2+(dec_new[i]-dec_new[cen])**2)\n",
    "            if distance_to_cen < r_new[cen]:                                   \n",
    "                if M_V_new[i] < M_V_new[cen]:  #find cen gal which has its sat. gal. brighter than it.\n",
    "                    print('the satellite', id_new[i]+1, M_V_new[i], 'is brighter than its central', id_new[cen]+1, M_V_new[cen])   \n",
    "                else:\n",
    "                    N_GC_new[cen]+= N_GC_new[i]    # adding up the number of GCs into the total number\n",
    "                    r_boo[i]      = False          #this galaxy is a sat of the cen\n",
    "            else:\n",
    "                r_boo[i] = True    #this galaxy is not a sat of the cen (perhaps it is another cen or a sat of the other cen)\n",
    "print('number of central and single galaxies (galaxies do not belong to any group) is', n_cen)  "
   ]
  },
  {
   "cell_type": "code",
   "execution_count": 163,
   "id": "014e0d0d-d923-40db-b05a-6e4d2e69ba80",
   "metadata": {},
   "outputs": [],
   "source": [
    "ii = 0\n",
    "cen_gal_id = np.zeros(n_cen)\n",
    "ra_cen = np.zeros(n_cen)\n",
    "r_cen  = np.zeros(n_cen)\n",
    "dec_cen = np.zeros(n_cen)\n",
    "M_V_cen = np.zeros(n_cen)\n",
    "M_h_cen = np.zeros(n_cen)\n",
    "N_GC_cen = np.zeros(n_cen)\n",
    "for j in range (0, len(r_new)):\n",
    "    if r_boo[j] == True:\n",
    "        cen_gal_id[ii] = id_H[j]\n",
    "        ra_cen[ii]     = ra_new[j]\n",
    "        dec_cen[ii]    = dec_new[j]\n",
    "        M_V_cen[ii]    = M_V_new[j]\n",
    "        N_GC_cen[ii]   = N_GC_new[j]\n",
    "        M_h_cen[ii]    = M_h_new[j]\n",
    "        r_cen[ii]      = r_new[j]\n",
    "        ii += 1"
   ]
  },
  {
   "cell_type": "code",
   "execution_count": 147,
   "id": "19a60ba8-2ada-4bfb-a132-a69c5cdb46db",
   "metadata": {},
   "outputs": [],
   "source": [
    "ra_H  = np.loadtxt(path1+'GC_cat_H13.txt', usecols=(2)) #[hour]\n",
    "dec_H = np.loadtxt(path1+'GC_cat_H13.txt', usecols=(3)) #[degree]\n",
    "N_GC_H  = np.loadtxt(path1+'GC_cat_H13.txt', usecols=(13)) \n"
   ]
  },
  {
   "cell_type": "code",
   "execution_count": 165,
   "id": "4015c870-4a35-4ea5-ae8d-78afb134dfd1",
   "metadata": {},
   "outputs": [
    {
     "name": "stdout",
     "output_type": "stream",
     "text": [
      "394 is satellite of  2.0\n",
      "382 is satellite of  6.0\n",
      "393 is satellite of  16.0\n",
      "the satellite 163 -23.25 is brighter than its central 21.0 -22.8\n",
      "335 is satellite of  39.0\n",
      "337 is satellite of  39.0\n",
      "341 is satellite of  39.0\n",
      "344 is satellite of  39.0\n",
      "345 is satellite of  39.0\n",
      "349 is satellite of  39.0\n",
      "32 is satellite of  125.0\n",
      "261 is satellite of  126.0\n",
      "269 is satellite of  126.0\n",
      "286 is satellite of  126.0\n",
      "297 is satellite of  126.0\n",
      "313 is satellite of  126.0\n",
      "318 is satellite of  126.0\n",
      "331 is satellite of  126.0\n",
      "332 is satellite of  126.0\n",
      "387 is satellite of  128.0\n",
      "124 is satellite of  133.0\n",
      "172 is satellite of  134.0\n",
      "the satellite 334 -23.7 is brighter than its central 147.0 -23.16\n",
      "385 is satellite of  148.0\n",
      "177 is satellite of  152.0\n",
      "193 is satellite of  155.0\n",
      "206 is satellite of  155.0\n",
      "212 is satellite of  155.0\n",
      "242 is satellite of  155.0\n",
      "246 is satellite of  155.0\n",
      "the satellite 249 -22.82 is brighter than its central 155.0 -22.61\n",
      "282 is satellite of  155.0\n",
      "298 is satellite of  155.0\n",
      "315 is satellite of  155.0\n",
      "15 is satellite of  157.0\n",
      "414 is satellite of  160.0\n",
      "250 is satellite of  161.0\n",
      "326 is satellite of  161.0\n",
      "227 is satellite of  162.0\n",
      "269 is satellite of  162.0\n",
      "296 is satellite of  162.0\n",
      "323 is satellite of  162.0\n",
      "38 is satellite of  164.0\n",
      "375 is satellite of  170.0\n",
      "376 is satellite of  170.0\n",
      "215 is satellite of  171.0\n",
      "239 is satellite of  171.0\n",
      "225 is satellite of  174.0\n",
      "248 is satellite of  174.0\n",
      "252 is satellite of  174.0\n",
      "257 is satellite of  174.0\n",
      "259 is satellite of  174.0\n",
      "the satellite 263 -22.61 is brighter than its central 174.0 -21.68\n",
      "270 is satellite of  174.0\n",
      "287 is satellite of  174.0\n",
      "290 is satellite of  174.0\n",
      "292 is satellite of  174.0\n",
      "294 is satellite of  174.0\n",
      "299 is satellite of  174.0\n",
      "372 is satellite of  180.0\n",
      "291 is satellite of  182.0\n",
      "316 is satellite of  182.0\n",
      "329 is satellite of  182.0\n",
      "409 is satellite of  183.0\n",
      "167 is satellite of  187.0\n",
      "168 is satellite of  187.0\n",
      "370 is satellite of  188.0\n",
      "240 is satellite of  189.0\n",
      "245 is satellite of  189.0\n",
      "301 is satellite of  189.0\n",
      "244 is satellite of  195.0\n",
      "250 is satellite of  195.0\n",
      "256 is satellite of  195.0\n",
      "283 is satellite of  195.0\n",
      "309 is satellite of  196.0\n",
      "14 is satellite of  203.0\n",
      "218 is satellite of  204.0\n",
      "the satellite 29 -21.14 is brighter than its central 207.0 -21.05\n",
      "30 is satellite of  207.0\n",
      "395 is satellite of  210.0\n",
      "371 is satellite of  216.0\n",
      "139 is satellite of  217.0\n",
      "the satellite 156 -20.9 is brighter than its central 222.0 -20.49\n",
      "377 is satellite of  224.0\n",
      "197 is satellite of  226.0\n",
      "236 is satellite of  226.0\n",
      "209 is satellite of  228.0\n",
      "214 is satellite of  229.0\n",
      "284 is satellite of  232.0\n",
      "the satellite 154 -22.19 is brighter than its central 233.0 -19.95\n",
      "the satellite 132 -22.03 is brighter than its central 238.0 -19.45\n",
      "127 is satellite of  241.0\n",
      "379 is satellite of  247.0\n",
      "the satellite 318 -21.34 is brighter than its central 251.0 -19.94\n",
      "205 is satellite of  258.0\n",
      "181 is satellite of  260.0\n",
      "the satellite 166 -21.81 is brighter than its central 262.0 -19.66\n",
      "208 is satellite of  266.0\n",
      "230 is satellite of  267.0\n",
      "252 is satellite of  267.0\n",
      "the satellite 257 -19.79 is brighter than its central 267.0 -19.68\n",
      "the satellite 263 -22.61 is brighter than its central 267.0 -19.68\n",
      "265 is satellite of  267.0\n",
      "the satellite 151 -21.6 is brighter than its central 271.0 -20.35\n",
      "145 is satellite of  273.0\n",
      "the satellite 275 -19.52 is brighter than its central 277.0 -18.79\n",
      "the satellite 272 -17.97 is brighter than its central 281.0 -17.79\n",
      "192 is satellite of  285.0\n",
      "231 is satellite of  288.0\n",
      "the satellite 249 -22.82 is brighter than its central 288.0 -20.56\n",
      "254 is satellite of  288.0\n",
      "the satellite 199 -20.74 is brighter than its central 293.0 -17.82\n",
      "the satellite 140 -21.08 is brighter than its central 305.0 -19.27\n",
      "the satellite 221 -17.57 is brighter than its central 307.0 -16.36\n",
      "the satellite 159 -21.1 is brighter than its central 308.0 -17.86\n",
      "the satellite 186 -20.08 is brighter than its central 311.0 -17.51\n",
      "303 is satellite of  328.0\n",
      "213 is satellite of  330.0\n",
      "the satellite 190 -17.12 is brighter than its central 338.0 -16.21\n",
      "the satellite 295 -21.68 is brighter than its central 340.0 -15.81\n",
      "the satellite 202 -14.88 is brighter than its central 342.0 -13.47\n",
      "146 is satellite of  343.0\n",
      "the satellite 173 -23.14 is brighter than its central 346.0 -17.68\n",
      "the satellite 322 -21.43 is brighter than its central 347.0 -16.06\n",
      "the satellite 302 -19.62 is brighter than its central 348.0 -16.33\n",
      "the satellite 20 -21.4 is brighter than its central 374.0 -15.3\n",
      "the satellite 280 -16.53 is brighter than its central 381.0 -16.25\n",
      "the satellite 179 -18.04 is brighter than its central 390.0 -16.83\n",
      "the satellite 12 -18.4 is brighter than its central 410.0 -14.35\n",
      "the satellite 130 -24.19 is brighter than its central 411.0 -22.03\n",
      "the satellite 131 -22.1 is brighter than its central 411.0 -22.03\n",
      "5 is satellite of  417.0\n",
      "total (unmatched to Atlas) galaxies that belong to groups is 132\n"
     ]
    }
   ],
   "source": [
    "n_count = 0\n",
    "for j in range (0, len(cen_gal_id)):\n",
    "    cen = j\n",
    "    for i in range (0,len(ra_H)):   #check with the remain unmatched gals in Harris\n",
    "        if i not in cen_gal_id: #no need to plus +1 since the id_H and i are both -1\n",
    "            distance_to_cen = np.sqrt((ra_H[i]-ra_cen[cen])**2+(dec_H[i]-dec_cen[cen])**2)\n",
    "            if distance_to_cen < r_cen[cen]:\n",
    "                n_count += 1\n",
    "                if M_V[i] < M_V_cen[cen]:     #find cen gal which has its sat. gal. brighter than it.\n",
    "                    print('the satellite', i+1, M_V[i], 'is brighter than its central', cen_gal_id[cen]+1, M_V_cen[cen])   \n",
    "                else: \n",
    "                    print(i+1,'is satellite of ', cen_gal_id[cen]+1)\n",
    "                    N_GC_cen[cen] += N_GC_H[i]    # adding up the number of GCs into the total number\n",
    "print('total (unmatched to Atlas) galaxies that belong to groups is', n_count)"
   ]
  },
  {
   "cell_type": "code",
   "execution_count": 167,
   "id": "1356884e-dd1f-4796-8404-b1df69aa3d91",
   "metadata": {},
   "outputs": [
    {
     "name": "stdout",
     "output_type": "stream",
     "text": [
      "the satellite 163 -23.25 is brighter than its central 164.0 -22.8\n",
      "32 is satellite of  33.0\n",
      "269 is satellite of  333.0\n",
      "286 is satellite of  333.0\n",
      "313 is satellite of  333.0\n",
      "318 is satellite of  333.0\n",
      "124 is satellite of  125.0\n",
      "172 is satellite of  173.0\n",
      "the satellite 334 -23.7 is brighter than its central 335.0 -23.16\n",
      "177 is satellite of  178.0\n",
      "212 is satellite of  263.0\n",
      "246 is satellite of  263.0\n",
      "the satellite 249 -22.82 is brighter than its central 263.0 -22.61\n",
      "246 is satellite of  250.0\n",
      "the satellite 249 -22.82 is brighter than its central 250.0 -20.81\n",
      "254 is satellite of  250.0\n",
      "269 is satellite of  324.0\n",
      "38 is satellite of  39.0\n",
      "286 is satellite of  322.0\n",
      "313 is satellite of  322.0\n",
      "318 is satellite of  322.0\n",
      "246 is satellite of  194.0\n",
      "the satellite 249 -22.82 is brighter than its central 194.0 -22.14\n",
      "254 is satellite of  194.0\n",
      "292 is satellite of  295.0\n",
      "294 is satellite of  295.0\n",
      "240 is satellite of  268.0\n",
      "301 is satellite of  268.0\n",
      "286 is satellite of  298.0\n",
      "313 is satellite of  298.0\n",
      "240 is satellite of  302.0\n",
      "301 is satellite of  302.0\n",
      "14 is satellite of  15.0\n",
      "the satellite 29 -21.14 is brighter than its central 31.0 -21.05\n",
      "30 is satellite of  31.0\n",
      "139 is satellite of  140.0\n",
      "246 is satellite of  267.0\n",
      "1 is satellite of  2.0\n",
      "236 is satellite of  198.0\n",
      "the satellite 154 -22.19 is brighter than its central 155.0 -19.95\n",
      "127 is satellite of  128.0\n",
      "the satellite 318 -21.34 is brighter than its central 325.0 -19.74\n",
      "254 is satellite of  232.0\n",
      "240 is satellite of  252.0\n",
      "the satellite 318 -21.34 is brighter than its central 320.0 -19.94\n",
      "292 is satellite of  293.0\n",
      "236 is satellite of  217.0\n",
      "the satellite 166 -21.81 is brighter than its central 167.0 -19.66\n",
      "246 is satellite of  247.0\n",
      "the satellite 249 -22.82 is brighter than its central 247.0 -18.56\n",
      "208 is satellite of  209.0\n",
      "265 is satellite of  231.0\n",
      "the satellite 249 -22.82 is brighter than its central 255.0 -19.64\n",
      "254 is satellite of  255.0\n",
      "the satellite 151 -21.6 is brighter than its central 152.0 -20.35\n",
      "292 is satellite of  264.0\n",
      "145 is satellite of  146.0\n",
      "the satellite 275 -19.52 is brighter than its central 276.0 -18.79\n",
      "the satellite 294 -20.39 is brighter than its central 260.0 -18.96\n",
      "265 is satellite of  258.0\n",
      "292 is satellite of  258.0\n",
      "192 is satellite of  193.0\n",
      "the satellite 249 -22.82 is brighter than its central 234.0 -20.56\n",
      "254 is satellite of  234.0\n",
      "the satellite 199 -20.74 is brighter than its central 200.0 -17.82\n",
      "246 is satellite of  283.0\n",
      "the satellite 186 -20.08 is brighter than its central 187.0 -17.51\n",
      "236 is satellite of  221.0\n",
      "236 is satellite of  225.0\n",
      "269 is satellite of  270.0\n",
      "240 is satellite of  241.0\n",
      "236 is satellite of  237.0\n",
      "236 is satellite of  242.0\n",
      "the satellite 286 -19.08 is brighter than its central 287.0 -16.05\n",
      "the satellite 286 -19.08 is brighter than its central 262.0 -16.0\n",
      "the satellite 20 -21.4 is brighter than its central 21.0 -15.3\n",
      "the satellite 265 -18.7 is brighter than its central 266.0 -14.9\n",
      "the satellite 212 -22.35 is brighter than its central 243.0 -19.12\n",
      "269 is satellite of  279.0\n",
      "the satellite 280 -16.53 is brighter than its central 281.0 -16.25\n",
      "the satellite 286 -19.08 is brighter than its central 282.0 -16.57\n",
      "the satellite 212 -22.35 is brighter than its central 213.0 -15.47\n",
      "the satellite 318 -21.34 is brighter than its central 319.0 -17.39\n",
      "the satellite 12 -18.4 is brighter than its central 13.0 -14.35\n",
      "the satellite 130 -24.19 is brighter than its central 132.0 -22.03\n",
      "the satellite 131 -22.1 is brighter than its central 132.0 -22.03\n",
      "the satellite 313 -17.31 is brighter than its central 314.0 -16.8\n",
      "5 is satellite of  6.0\n",
      "total (unmatched to Atlas) galaxies that belong to groups is 88\n"
     ]
    }
   ],
   "source": [
    "n_count = 0\n",
    "for j in range (0, len(r_new)):\n",
    "    cen = j\n",
    "    for i in range (0,len(ra_H)):   #check with the remain unmatched gals in Harris\n",
    "        if i not in id_H: #no need to plus +1 since the id_H and i are both -1\n",
    "            distance_to_cen = np.sqrt((ra_H[i]-ra_new[cen])**2+(dec_H[i]-dec_new[cen])**2)\n",
    "            if distance_to_cen < r_new[cen]:\n",
    "                n_count += 1\n",
    "                if M_V[i] < M_V_new[cen]:     #find cen gal which has its sat. gal. brighter than it.\n",
    "                    print('the satellite', i+1, M_V[i], 'is brighter than its central', id_new[cen]+1, M_V_new[cen])   \n",
    "                else: \n",
    "                    print(i+1,'is satellite of ', id_new[cen]+1)\n",
    "                    N_GC_new[cen] += N_GC_H[i]    # adding up the number of GCs into the total number\n",
    "print('total (unmatched to Atlas) galaxies that belong to groups is', n_count)"
   ]
  },
  {
   "cell_type": "code",
   "execution_count": 156,
   "id": "a82b65b7-e387-4284-bd21-e180f58f582c",
   "metadata": {},
   "outputs": [],
   "source": [
    "# remove the satellite galaxies out of the data\n",
    "r_boo2 = r_boo\n",
    "i_test = len(M_h_new)\n",
    "for i in range(1,len(r_boo)):\n",
    "    if r_boo[i] == False:\n",
    "        M_h_new[i]  = 0\n",
    "        N_GC_new[i] = 0\n",
    "        i_test -= 1"
   ]
  },
  {
   "cell_type": "raw",
   "id": "a9cd351a-fe2e-40c1-adcf-3c34edb069e2",
   "metadata": {},
   "source": [
    "#save data into file\n",
    "data = np.column_stack([M_h_new, N_GC_new])\n",
    "datafile_path = path+\"code/data_tot_GC_of_DMhalo.txt\"\n",
    "np.savetxt(datafile_path , data, fmt='%f')"
   ]
  },
  {
   "cell_type": "code",
   "execution_count": 150,
   "id": "07af2db9-da40-4f54-b1eb-c9c10df0e409",
   "metadata": {},
   "outputs": [],
   "source": [
    "#load theory results\n",
    "M_halo_theo                 = np.loadtxt(path1+\"theory_Creaseymodel.txt\" ,usecols=(0))\n",
    "N_GC_Mill_Creaseytheo       = np.loadtxt(path1+\"theory_Creaseymodel.txt\" ,usecols=(1))\n",
    "err_N_GC_Mill_Creaseytheo   = np.loadtxt(path1+\"theory_Creaseymodel.txt\" ,usecols=(2))\n",
    "N_GC_Planck_Creaseytheo     = np.loadtxt(path1+\"theory_Creaseymodel.txt\" ,usecols=(3))\n",
    "err_N_GC_Planck_Creaseytheo = np.loadtxt(path1+\"theory_Creaseymodel.txt\" ,usecols=(4))\n",
    "N_GC_COCO_Creaseytheo       = np.loadtxt(path1+\"theory_Creaseymodel.txt\" ,usecols=(5))\n",
    "err_N_GC_COCO_Creaseytheo   = np.loadtxt(path1+\"theory_Creaseymodel.txt\" ,usecols=(6))\n",
    "M_halo_theo2                = np.loadtxt(path1+\"theory_ourmodel.txt\"     ,usecols=(0))\n",
    "N_GC_Mill_ourtheo           = np.loadtxt(path1+\"theory_ourmodel.txt\"     ,usecols=(1))\n",
    "err_N_GC_Mill_ourtheo       = np.loadtxt(path1+\"theory_ourmodel.txt\"     ,usecols=(2))\n",
    "N_GC_Planck_ourtheo         = np.loadtxt(path1+\"theory_ourmodel.txt\"     ,usecols=(3))\n",
    "err_N_GC_Planck_ourtheo     = np.loadtxt(path1+\"theory_ourmodel.txt\"     ,usecols=(4))\n",
    "N_GC_COCO_ourtheo           = np.loadtxt(path1+\"theory_ourmodel.txt\"     ,usecols=(5))\n",
    "err_N_GC_COCO_ourtheo       = np.loadtxt(path1+\"theory_ourmodel.txt\"     ,usecols=(6))"
   ]
  },
  {
   "cell_type": "code",
   "execution_count": 151,
   "id": "90b39206-730c-4af7-a2d1-81b50a837031",
   "metadata": {},
   "outputs": [],
   "source": [
    "#load data from Forbes et al.18\n",
    "M_halo_F = np.loadtxt(path1+'Forbes18_data.txt',usecols=(2))\n",
    "N_GC_F   = np.loadtxt(path1+'Forbes18_data.txt',usecols=(3))\n",
    "M_halo_F = 10**M_halo_F"
   ]
  },
  {
   "cell_type": "code",
   "execution_count": 152,
   "id": "0683daf7-55f1-4af0-86a4-0903eb148b52",
   "metadata": {},
   "outputs": [],
   "source": [
    "# load EMOSAICS Fig.1 data\n",
    "mass_E   = np.loadtxt(path1+'EMOSAICS_data.txt', usecols =(0))\n",
    "triangle = np.loadtxt(path1+'EMOSAICS_data.txt', usecols =(1))\n",
    "square   = np.loadtxt(path1+'EMOSAICS_data.txt', usecols =(2))\n",
    "star     = np.loadtxt(path1+'EMOSAICS_data.txt', usecols =(3))"
   ]
  },
  {
   "cell_type": "code",
   "execution_count": 166,
   "id": "5a0df97d-73ef-4e40-ad1e-9e548715d485",
   "metadata": {},
   "outputs": [
    {
     "data": {
      "image/png": "[encoded data removed]",
      "text/plain": [
       "<Figure size 864x864 with 1 Axes>"
      ]
     },
     "metadata": {
      "needs_background": "light"
     },
     "output_type": "display_data"
    }
   ],
   "source": [
    "plt.figure(figsize=(12,12))\n",
    "plt.xscale(\"log\")\n",
    "plt.yscale(\"log\")\n",
    "plt.errorbar(M_halo_theo, N_GC_Mill_Creaseytheo,  yerr=err_N_GC_Mill_Creaseytheo,  color = '#a5c215', fmt='--',label='Creasey model, P_Mill')\n",
    "#plt.errorbar(M_halo_theo, N_GC_Planck_Creaseytheo,yerr=err_N_GC_Planck_Creaseytheo,color = '#186878', fmt='--',label='Creasey model, P_Planck')\n",
    "#plt.errorbar(M_halo_theo, N_GC_COCO_Creaseytheo,  yerr=err_N_GC_COCO_Creaseytheo,  color = '#c23215', fmt='--',label='Creasey model, P_COCO')\n",
    "plt.errorbar(M_halo_theo2,N_GC_Mill_ourtheo,      yerr=err_N_GC_Mill_ourtheo,      color = '#a5c215',label='our model, P_Mill')\n",
    "#plt.errorbar(M_halo_theo2,N_GC_Planck_ourtheo,    yerr=err_N_GC_Planck_ourtheo,    color = '#186878',label='our model, P_Planck')\n",
    "#plt.errorbar(M_halo_theo2,N_GC_COCO_ourtheo,      yerr=err_N_GC_COCO_ourtheo,      color = '#c23215',label='our model, P_COCO')\n",
    "plt.plot(M_h_new,N_GC_new, 'b.', label = 'total GCs in halos')\n",
    "plt.plot(M_h,    N_GC,     'c+', label = 'GCs in each halo')\n",
    "plt.plot(M_halo_F,  N_GC_F,'m+', label = 'GCs in central halo (Forbes18)')\n",
    "#plt.plot(mass_E, triangle, 'v-', label = 'EMOSAICS $M \\geq 10^5 M_\\odot$')\n",
    "#plt.plot(mass_E, square,   's-', label = 'EMOSAICS $M \\geq 10^5 M_\\odot$ and $[Fe/H]$')\n",
    "#plt.plot(mass_E, star, '*-',     label = 'EMOSAICS $M \\geq 10^5 M_\\odot$, $[Fe/H]$ and $R > R_{1/2 M_\\star}$')\n",
    "plt.xlabel('$M_h [M_\\odot]$')\n",
    "plt.ylabel('$N_{GC}$')\n",
    "plt.legend(loc=(1.1,0))\n",
    "plt.show()\n",
    "#plt.savefig('tot_GC.png')"
   ]
  },
  {
   "cell_type": "code",
   "execution_count": null,
   "id": "7e8eab3c-99b7-45d1-bd49-ff97e2fba20b",
   "metadata": {},
   "outputs": [],
   "source": []
  }
 ],
 "metadata": {
  "kernelspec": {
   "display_name": "Python 3",
   "language": "python",
   "name": "python3"
  },
  "language_info": {
   "codemirror_mode": {
    "name": "ipython",
    "version": 3
   },
   "file_extension": ".py",
   "mimetype": "text/x-python",
   "name": "python",
   "nbconvert_exporter": "python",
   "pygments_lexer": "ipython3",
   "version": "3.9.12"
  }
 },
 "nbformat": 4,
 "nbformat_minor": 5
}

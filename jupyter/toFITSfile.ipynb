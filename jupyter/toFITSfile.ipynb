{
 "cells": [
  {
   "cell_type": "markdown",
   "id": "132bd1df-2723-4f22-a698-3a9806a799c3",
   "metadata": {},
   "source": [
    "Jul 25-29\n",
    "\n",
    " - convert data to fits files;\n",
    " \n",
    " - learn how to run jupyter on CICA;\n",
    "\n",
    " - Find the matched galaxies in Harris and DESI DR9 catalogs:"
   ]
  },
  {
   "cell_type": "code",
   "execution_count": 2,
   "id": "9b37de62-8893-4816-810d-22f8fc95da23",
   "metadata": {},
   "outputs": [],
   "source": [
    "import numpy as np\n",
    "import matplotlib.pyplot as plt\n",
    "import astropy.io.fits as pyfits\n",
    "\n",
    "path ='/home/ngoc/Downloads/GCs/'\n",
    "path1 ='/home/ngoc/Downloads/GCs/code/'"
   ]
  },
  {
   "cell_type": "code",
   "execution_count": 3,
   "id": "43d54610-78e0-450c-abf0-466f4702cbce",
   "metadata": {},
   "outputs": [],
   "source": [
    "from astropy.table import Table\n",
    "from astropy import units as u\n",
    "from astropy.coordinates import Angle\n",
    "from astropy.coordinates import SkyCoord"
   ]
  },
  {
   "cell_type": "code",
   "execution_count": 4,
   "id": "8e3f3acc-5829-450d-b61f-d82d98fcafe3",
   "metadata": {},
   "outputs": [],
   "source": [
    "import astropy.io.fits as fits"
   ]
  },
  {
   "cell_type": "code",
   "execution_count": 5,
   "id": "93d6d6aa-5366-4899-87ac-554b2ec8ae31",
   "metadata": {},
   "outputs": [],
   "source": [
    "#load Harris 13 (RA, DEC) coordinates data \n",
    "ra_H  = np.loadtxt(path1+'GC_cat_H13.txt', usecols=(2)) #[hour]\n",
    "dec_H = np.loadtxt(path1+'GC_cat_H13.txt', usecols=(3)) #[degree]\n",
    "N_GC  = np.loadtxt(path1+'GC_cat_H13.txt', usecols=(13)) "
   ]
  },
  {
   "cell_type": "code",
   "execution_count": 6,
   "id": "d7564f50-e4e0-4f7c-8611-d4f8fe5db945",
   "metadata": {},
   "outputs": [],
   "source": [
    "#convert [hour] -> [degree] for ra_H\n",
    "ra_H  = Angle(ra_H, u.hour)\n",
    "dec_H = Angle(dec_H, u.degree)"
   ]
  },
  {
   "cell_type": "code",
   "execution_count": 7,
   "id": "6db97412-edb6-4f37-a859-cf1f9067ce0d",
   "metadata": {},
   "outputs": [],
   "source": [
    "ra_H = ra_H.degree #convert RA from hour->degree"
   ]
  },
  {
   "cell_type": "raw",
   "id": "82c6d3af-7fdb-4e09-9127-8cfeba11e9ab",
   "metadata": {},
   "source": [
    "# load the coordinates from DESI\n",
    "ra_D  = np.loadtxt('/home/ngoc/DESIdata/galaxies/DESIDR9_NGC_galaxy', usecols=(0)) \n",
    "dec_D = np.loadtxt('/home/ngoc/DESIdata/galaxies/DESIDR9_NGC_galaxy', usecols=(1)) \n"
   ]
  },
  {
   "cell_type": "raw",
   "id": "ac40090d-cb16-430f-9539-ffc60a399687",
   "metadata": {},
   "source": [
    "#coordinates of DESI catalog\n",
    "coor_D = SkyCoord(ra=ra_DESI, dec=dec_DESI, frame='icrs')"
   ]
  },
  {
   "cell_type": "raw",
   "id": "a3a3ea8b-f6c4-4433-b700-1bff1c5936f3",
   "metadata": {},
   "source": [
    "T = Table([coor_D.ra.deg,coor_D.dec.deg],names=['ra','dec'])"
   ]
  },
  {
   "cell_type": "raw",
   "id": "c404d8ce-a4c4-425a-bd9b-50599f65469e",
   "metadata": {},
   "source": [
    "T.write('/home/ngoc/DESIdata/galaxies/DESIDR9_NGC_galaxy.fits')"
   ]
  },
  {
   "cell_type": "code",
   "execution_count": 8,
   "id": "1db087b3-8bc8-4052-b072-3817a646ed56",
   "metadata": {},
   "outputs": [],
   "source": [
    "d = fits.getdata('/home/ngoc/DESIdata/galaxies/DESIDR9_NGC_galaxy.fits')"
   ]
  },
  {
   "cell_type": "code",
   "execution_count": 9,
   "id": "78355530-e1d7-497c-a379-e6e30106c7ca",
   "metadata": {},
   "outputs": [],
   "source": [
    "ra_DESI = Angle(d['ra'], u.degree)\n",
    "dec_DESI = Angle(d['dec'], u.degree)"
   ]
  },
  {
   "cell_type": "raw",
   "id": "7021a71b-6d3e-4535-8de6-2027b5f66fcc",
   "metadata": {},
   "source": [
    "del(d)"
   ]
  },
  {
   "cell_type": "code",
   "execution_count": 10,
   "id": "15aef35f-b7b8-45c2-87b5-582d290cfd53",
   "metadata": {},
   "outputs": [],
   "source": [
    "#coordinates of Harris13 catalog\n",
    "coor_H = SkyCoord(ra=ra_H*u.degree, dec=dec_H, frame='icrs') #since ra_H now is the value->multiplied to unit"
   ]
  },
  {
   "cell_type": "raw",
   "id": "1d96121a-37b6-4ba5-8a2a-66aae1ca4cd7",
   "metadata": {},
   "source": [
    "T = Table([coor_H.ra.deg,coor_H.dec.deg,N_GC],names=['ra','dec','Number of GCs'])"
   ]
  },
  {
   "cell_type": "raw",
   "id": "f3e9772d-c39a-4deb-9b1b-9f8c158cd313",
   "metadata": {},
   "source": [
    "T.write(path1+'GC_cat_H13.fits')"
   ]
  },
  {
   "cell_type": "code",
   "execution_count": 13,
   "id": "a0bf5ee2-bde0-4685-b1fe-b436727fc2ca",
   "metadata": {},
   "outputs": [],
   "source": [
    "import gc"
   ]
  },
  {
   "cell_type": "code",
   "execution_count": 14,
   "id": "8cc262be-9da3-403b-a308-da5e1d0d69d1",
   "metadata": {},
   "outputs": [
    {
     "data": {
      "text/plain": [
       "170"
      ]
     },
     "execution_count": 14,
     "metadata": {},
     "output_type": "execute_result"
    }
   ],
   "source": [
    "gc.collect()"
   ]
  },
  {
   "cell_type": "code",
   "execution_count": null,
   "id": "d08c93d7-d82b-4c5c-b833-675533eccc89",
   "metadata": {},
   "outputs": [],
   "source": [
    "#source.match_to_catalog_sky(catalog)\n",
    "idx, d2d, d3d = coor_H.match_to_catalog_sky(coor_D)"
   ]
  },
  {
   "cell_type": "code",
   "execution_count": null,
   "id": "f96f8e8f-c079-4ae1-b11a-7c603229f561",
   "metadata": {},
   "outputs": [],
   "source": [
    "d2d = d2d.arcsec #convert d2d to [arcsec], then take the value and remove the unit\n",
    "#print(d2d)"
   ]
  },
  {
   "cell_type": "code",
   "execution_count": null,
   "id": "a67c84f5-8c37-4bba-bcba-1d82b2e0591e",
   "metadata": {},
   "outputs": [],
   "source": []
  }
 ],
 "metadata": {
  "kernelspec": {
   "display_name": "Python 3 (ipykernel)",
   "language": "python",
   "name": "python3"
  },
  "language_info": {
   "codemirror_mode": {
    "name": "ipython",
    "version": 3
   },
   "file_extension": ".py",
   "mimetype": "text/x-python",
   "name": "python",
   "nbconvert_exporter": "python",
   "pygments_lexer": "ipython3",
   "version": "3.9.12"
  }
 },
 "nbformat": 4,
 "nbformat_minor": 5
}

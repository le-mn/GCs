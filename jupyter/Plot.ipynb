{
 "cells": [
  {
   "cell_type": "code",
   "execution_count": 2,
   "id": "855c165d",
   "metadata": {},
   "outputs": [],
   "source": [
    "import numpy as np\n",
    "import matplotlib.pyplot as plt\n",
    "from matplotlib import gridspec\n",
    "path ='/home/je101/Desktop/GCs/'"
   ]
  },
  {
   "cell_type": "raw",
   "id": "d7f0074f",
   "metadata": {},
   "source": [
    "#--------------------------\n",
    "# wrong results from Apr 30\n",
    "#--------------------------\n",
    "# plot the histogram of redshift of halos that can form GCs, here using parameter from PCH 2008\n",
    "z = np.loadtxt(path+'/code/GCs-in-tree.txt', usecols = (0))"
   ]
  },
  {
   "cell_type": "raw",
   "id": "b0c7b795",
   "metadata": {},
   "source": [
    "plt.title('Number of GCs, at different z, formed inside DM halos of $M=10^{12} M_{sun}$, using Parkinson parameters')\n",
    "plt.xlabel(\"z\")\n",
    "plt.ylabel('$N_{GCs}$')\n",
    "plt.hist(z)\n",
    "plt.show()"
   ]
  },
  {
   "cell_type": "raw",
   "id": "859ab423",
   "metadata": {},
   "source": [
    "# this one is the correct one after fix the bug of forget put M%parent >= M form GC\n",
    "# plot the histogram of redshift of halos that can form GCs, here using parameter from PCH 2008\n",
    "z_test = np.loadtxt(path+'/code/GCs-in-tree-test.txt', usecols = (0))"
   ]
  },
  {
   "cell_type": "raw",
   "id": "658dd56d",
   "metadata": {},
   "source": [
    "plt.title('Number of GCs, at different z, formed inside DM halos of $M=10^{12} M_{sun}$, using Parkinson parameters')\n",
    "plt.xlabel(\"z\")\n",
    "plt.ylabel('$N_{GCs}$')\n",
    "plt.hist(z_test)\n",
    "plt.savefig('his.png')\n",
    "plt.show()"
   ]
  },
  {
   "cell_type": "raw",
   "id": "c09c78c3",
   "metadata": {},
   "source": [
    "# plot the histogram of redshift of halos that can form GCs, here using parameter from PCH 2008\n",
    "z_uncle = np.loadtxt(path+'/code/GCs-in-tree-uncle.txt', usecols = (0))"
   ]
  },
  {
   "cell_type": "raw",
   "id": "33dda513",
   "metadata": {},
   "source": [
    "plt.title('Number of GCs, at different z, formed inside DM halos of $M=10^{12} M_{sun}$, using Parkinson parameters, count the same way with Parkinson')\n",
    "plt.xlabel(\"z\")\n",
    "plt.ylabel('$N_{GCs}$')\n",
    "plt.hist(z_uncle)\n",
    "plt.show()"
   ]
  },
  {
   "cell_type": "raw",
   "id": "8a611dc1",
   "metadata": {},
   "source": [
    "z_Benson = np.loadtxt(path+'/code/GCs-in-tree-Benson17.txt', usecols = (0))"
   ]
  },
  {
   "cell_type": "raw",
   "id": "bc8fe2d9",
   "metadata": {},
   "source": [
    "plt.title('Number of GCs, at different z, formed inside DM halos of $M=10^{12} M_{sun}$, using Benson parameters')\n",
    "plt.xlabel(\"z\")\n",
    "plt.ylabel('$N_{GCs}$')\n",
    "plt.hist(z_Benson)\n",
    "plt.show()"
   ]
  },
  {
   "cell_type": "raw",
   "id": "fa5390b8",
   "metadata": {},
   "source": [
    "z_Benson_uncle = np.loadtxt(path+'/code/GCs-in-tree-Benson17-uncle.txt', usecols = (0))"
   ]
  },
  {
   "cell_type": "raw",
   "id": "643ef355",
   "metadata": {},
   "source": [
    "plt.title('Number of GCs, at different z, formed inside DM halos of $M=10^{12} M_{sun}$, using Benson parameters, count the same way with Parkinson')\n",
    "plt.xlabel(\"z\")\n",
    "plt.ylabel('$N_{GCs}$')\n",
    "plt.hist(z_Benson_uncle)\n",
    "plt.show()"
   ]
  },
  {
   "cell_type": "markdown",
   "id": "43ba3531",
   "metadata": {},
   "source": [
    "#--------------------------\n",
    "# resutl of May 6\n",
    "#--------------------------"
   ]
  },
  {
   "cell_type": "code",
   "execution_count": 20,
   "id": "03c4b0c2",
   "metadata": {},
   "outputs": [],
   "source": [
    "N = np.loadtxt(path+'code/GCs-in-tree-Pk-Creasey.txt', usecols = (0))"
   ]
  },
  {
   "cell_type": "code",
   "execution_count": 14,
   "id": "c3299aab",
   "metadata": {},
   "outputs": [],
   "source": [
    "N_Mill = np.loadtxt(path+'code/GCs-in-tree-Pk-Mill.txt', usecols = (0))"
   ]
  },
  {
   "cell_type": "code",
   "execution_count": 15,
   "id": "36489808",
   "metadata": {},
   "outputs": [],
   "source": [
    "N_WDM = np.loadtxt(path+'code/GCs-in-tree-WDM.txt', usecols = (0))"
   ]
  },
  {
   "cell_type": "code",
   "execution_count": 22,
   "id": "e39e5f9a",
   "metadata": {},
   "outputs": [
    {
     "data": {
      "image/png": "[encoded data removed]",
      "text/plain": [
       "<Figure size 432x288 with 1 Axes>"
      ]
     },
     "metadata": {
      "needs_background": "light"
     },
     "output_type": "display_data"
    }
   ],
   "source": [
    "# tot = 127 GCs\n",
    "plt.title('N_tot=127, inside $M(z=0)=10^{12} M_{sun}$, Pk Creasey')\n",
    "plt.xlabel(\"z\")\n",
    "plt.ylabel('$N_{GCs}$')\n",
    "plt.hist(N)\n",
    "#plt.savefig('N_GCs_P_Creasey.png')\n",
    "plt.show()"
   ]
  },
  {
   "cell_type": "code",
   "execution_count": 23,
   "id": "c35cd66d",
   "metadata": {},
   "outputs": [
    {
     "data": {
      "image/png": "[encoded data removed]",
      "text/plain": [
       "<Figure size 432x288 with 1 Axes>"
      ]
     },
     "metadata": {
      "needs_background": "light"
     },
     "output_type": "display_data"
    }
   ],
   "source": [
    "#tot = 106 GCs\n",
    "plt.title('N_tot = 106, inside $M(z=0)=10^{12} M_{sun}$, Pk Mill')\n",
    "plt.xlabel(\"z\")\n",
    "plt.ylabel('$N_{GCs}$')\n",
    "plt.hist(N_Mill)\n",
    "#plt.savefig('N_GCs_P_Mill.png')\n",
    "plt.show()"
   ]
  },
  {
   "cell_type": "code",
   "execution_count": 24,
   "id": "da124edb",
   "metadata": {},
   "outputs": [
    {
     "data": {
      "image/png": "[encoded data removed]",
      "text/plain": [
       "<Figure size 432x288 with 1 Axes>"
      ]
     },
     "metadata": {
      "needs_background": "light"
     },
     "output_type": "display_data"
    }
   ],
   "source": [
    "#tot = 8 GCs\n",
    "plt.title('N_tot = 8, inside $M(z=0)=10^{12} M_{sun}$, Pk WDM Dove')\n",
    "plt.xlabel(\"z\")\n",
    "plt.ylabel('$N_{GCs}$')\n",
    "plt.hist(N_WDM)\n",
    "#plt.savefig('N_GCs_P_WDMDove.png')\n",
    "plt.show()"
   ]
  },
  {
   "cell_type": "code",
   "execution_count": null,
   "id": "a9663f64",
   "metadata": {},
   "outputs": [],
   "source": []
  }
 ],
 "metadata": {
  "kernelspec": {
   "display_name": "Python 3",
   "language": "python",
   "name": "python3"
  },
  "language_info": {
   "codemirror_mode": {
    "name": "ipython",
    "version": 3
   },
   "file_extension": ".py",
   "mimetype": "text/x-python",
   "name": "python",
   "nbconvert_exporter": "python",
   "pygments_lexer": "ipython3",
   "version": "3.6.10"
  }
 },
 "nbformat": 4,
 "nbformat_minor": 5
}

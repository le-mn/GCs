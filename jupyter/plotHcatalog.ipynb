{
 "cells": [
  {
   "cell_type": "markdown",
   "id": "4cd3960f-7d50-4008-a7d9-9c6cf67db040",
   "metadata": {},
   "source": [
    "Plot the galaxies in Harris catalog to see their locations and whether they are in the same groups"
   ]
  },
  {
   "cell_type": "code",
   "execution_count": 2,
   "id": "210395a2-9545-41b1-ada9-58efa33255e8",
   "metadata": {},
   "outputs": [],
   "source": [
    "import numpy as np\n",
    "import matplotlib.pyplot as plt\n",
    "import astropy.io.fits as pyfits\n",
    "\n",
    "path ='/home/ngoc/Downloads/GCs/'\n",
    "path1 ='/home/ngoc/Downloads/GCs/code/'"
   ]
  },
  {
   "cell_type": "code",
   "execution_count": 3,
   "id": "81c6febc-6122-4870-85a3-0b75b5cd90e3",
   "metadata": {},
   "outputs": [],
   "source": [
    "from astropy.table import Table\n",
    "from astropy import units as u\n",
    "from astropy.coordinates import Angle\n",
    "from astropy.coordinates import SkyCoord"
   ]
  },
  {
   "cell_type": "code",
   "execution_count": 4,
   "id": "3b9962fe-9863-40fd-a0f9-8e0b8e87bf88",
   "metadata": {},
   "outputs": [],
   "source": [
    "#load Harris 13 (RA, DEC) coordinates data \n",
    "ra_H  = np.loadtxt(path1+'GC_cat_H13.txt', usecols=(2)) #[hour]\n",
    "dec_H = np.loadtxt(path1+'GC_cat_H13.txt', usecols=(3)) #[degree]\n",
    "N_GC  = np.loadtxt(path1+'GC_cat_H13.txt', usecols=(13)) "
   ]
  },
  {
   "cell_type": "code",
   "execution_count": 12,
   "id": "aa280925-8128-4da3-84be-d9421ed2c683",
   "metadata": {},
   "outputs": [],
   "source": [
    "# load the coordinates from DESI\n",
    "ra_D  = np.loadtxt('/home/ngoc/DESIdata/galaxies/DESIDR9_NGC_galaxy', usecols=(0)) \n",
    "dec_D = np.loadtxt('/home/ngoc/DESIdata/galaxies/DESIDR9_NGC_galaxy', usecols=(1)) "
   ]
  },
  {
   "cell_type": "code",
   "execution_count": null,
   "id": "a59ed55f-061c-4521-b98b-59087c466a17",
   "metadata": {},
   "outputs": [],
   "source": [
    "# load the coordinates from DESI\n",
    "ra_D_S  = np.loadtxt('/home/ngoc/DESIdata/galaxies/DESIDR9_SGC_galaxy', usecols=(0)) \n",
    "dec_D_S = np.loadtxt('/home/ngoc/DESIdata/galaxies/DESIDR9_SGC_galaxy', usecols=(1)) "
   ]
  },
  {
   "cell_type": "code",
   "execution_count": null,
   "id": "f90389fd-9788-4e75-87ec-116b1ef24daf",
   "metadata": {},
   "outputs": [],
   "source": [
    "plt.figure(figsize=[10,10])\n",
    "plt.plot(ra_H,dec_H,'b.')\n",
    "plt.plot(ra_D, dec_D,'r.')\n",
    "plt.plot(ra_D_S, dec_D_S,'g.')\n",
    "plt.xlabel('RA')\n",
    "plt.ylabel('DEC')"
   ]
  },
  {
   "cell_type": "code",
   "execution_count": null,
   "id": "e1793c44-b4da-4450-9263-a4960ab2b128",
   "metadata": {},
   "outputs": [],
   "source": []
  }
 ],
 "metadata": {
  "kernelspec": {
   "display_name": "Python 3 (ipykernel)",
   "language": "python",
   "name": "python3"
  },
  "language_info": {
   "codemirror_mode": {
    "name": "ipython",
    "version": 3
   },
   "file_extension": ".py",
   "mimetype": "text/x-python",
   "name": "python",
   "nbconvert_exporter": "python",
   "pygments_lexer": "ipython3",
   "version": "3.9.12"
  }
 },
 "nbformat": 4,
 "nbformat_minor": 5
}

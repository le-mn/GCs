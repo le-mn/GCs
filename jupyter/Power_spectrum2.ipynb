{
 "cells": [
  {
   "cell_type": "markdown",
   "id": "f1dbc97c",
   "metadata": {},
   "source": [
    "Using CLASS to calculate matter Power spectrum with cosmological parameters given by Creasey et. al. 2018"
   ]
  },
  {
   "cell_type": "code",
   "execution_count": 2,
   "id": "700940ee",
   "metadata": {},
   "outputs": [],
   "source": [
    "import numpy as np\n",
    "import matplotlib.pyplot as plt\n",
    "from matplotlib import gridspec\n",
    "#from scipy.interpolate import InterpolatedUnivariateSpline as spline "
   ]
  },
  {
   "cell_type": "code",
   "execution_count": 3,
   "id": "4d7ec8e8",
   "metadata": {},
   "outputs": [],
   "source": [
    "from classy import Class"
   ]
  },
  {
   "cell_type": "code",
   "execution_count": 13,
   "id": "c2841dcd",
   "metadata": {},
   "outputs": [],
   "source": [
    "path = \"/home/je101/Desktop/GCs/ipynb/\"\n",
    "path2 = \"/home/ngoc/Downloads/GCs\""
   ]
  },
  {
   "cell_type": "code",
   "execution_count": 4,
   "id": "f460c9df",
   "metadata": {},
   "outputs": [],
   "source": [
    "#parameters from Creasey 18\n",
    "LambdaCDM = Class()\n",
    "# pass input parameters\n",
    "z     = 0.0\n",
    "tau   = 0.0925\n",
    "n_s   = 0.9603\n",
    "A_s   = 2e-9\n",
    "h     = 0.673\n",
    "omg_m = 0.315\n",
    "omg_b = 0.022032\n",
    "LambdaCDM.set({'omega_b'  :omg_b,\n",
    "               'omega_cdm':omg_m,\n",
    "               'h'        :h,\n",
    "               #'A_s'      :A_s,\n",
    "               'sigma8'   : 0.829, #why sigma8 doesnt work here!?!\n",
    "               'n_s'      :n_s,\n",
    "               'tau_reio' :tau,\n",
    "               'z_pk'     :z})\n",
    "LambdaCDM.set({'output':'mPk','P_k_max_1/Mpc':1000.0})\n",
    "# run class\n",
    "LambdaCDM.compute()"
   ]
  },
  {
   "cell_type": "code",
   "execution_count": 5,
   "id": "2c12b775",
   "metadata": {},
   "outputs": [
    {
     "name": "stdout",
     "output_type": "stream",
     "text": [
      "0.8505472458306045 0.9999999999999999\n"
     ]
    }
   ],
   "source": [
    "f = LambdaCDM.scale_independent_growth_factor_f(z)\n",
    "D = LambdaCDM.scale_independent_growth_factor(z)\n",
    "print(f,D)"
   ]
  },
  {
   "cell_type": "code",
   "execution_count": 6,
   "id": "3f91560c",
   "metadata": {},
   "outputs": [],
   "source": [
    "kbins = 1000\n",
    "kk = np.logspace(-6, 3, kbins)# k in h/Mpc\n",
    "Pk = [] # P(k) in (Mpc/h)**3"
   ]
  },
  {
   "cell_type": "code",
   "execution_count": 7,
   "id": "f29ced64",
   "metadata": {},
   "outputs": [],
   "source": [
    "#convert the unit of k[h/Mpc]->k[Mpc] then find P[h-1.Mpc]^3 \n",
    "for k in kk:\n",
    "    Pk.append(LambdaCDM.pk(k*h,0.)*h**3) "
   ]
  },
  {
   "cell_type": "raw",
   "id": "c47d3d59",
   "metadata": {},
   "source": [
    "kk_f = np.full_like(kk, 0)\n",
    "Pk_f = np.full_like(Pk,0)\n",
    "\n",
    "# change unit of power spectrum\n",
    "for i in range(0,kbins):\n",
    "    kk_f[i] = kk[i]/h\n",
    "    Pk_f[i] = Pk[i]*h**3"
   ]
  },
  {
   "cell_type": "code",
   "execution_count": 8,
   "id": "daa708ba",
   "metadata": {},
   "outputs": [
    {
     "data": {
      "text/plain": [
       "Text(0, 0.5, 'P(k)[$(h^{-1}Mpc)^3$]')"
      ]
     },
     "execution_count": 8,
     "metadata": {},
     "output_type": "execute_result"
    },
    {
     "data": {
      "image/png": "[encoded data removed]",
      "text/plain": [
       "<Figure size 432x288 with 1 Axes>"
      ]
     },
     "metadata": {
      "needs_background": "light"
     },
     "output_type": "display_data"
    }
   ],
   "source": [
    "#plt.xlim(kk[0],kk[-1])\n",
    "plt.loglog(kk, Pk)\n",
    "#plt.ylim(1,)\n",
    "plt.xlabel('k$[h.Mpc^{-1}]$')\n",
    "plt.ylabel('P(k)[$(h^{-1}Mpc)^3$]')"
   ]
  },
  {
   "cell_type": "raw",
   "id": "ce439411",
   "metadata": {},
   "source": [
    "#save result\n",
    "data = np.column_stack([kk, Pk])\n",
    "datafile_path = path2+\"/code/Pk-Creasey18.txt\"\n",
    "np.savetxt(datafile_path , data, fmt=['%f','%f'])\n"
   ]
  },
  {
   "cell_type": "code",
   "execution_count": 14,
   "id": "925a01da",
   "metadata": {},
   "outputs": [],
   "source": [
    "#Mill powerspectrum in mergertree code PCH\n",
    "k_mill = np.loadtxt(path2+'/code/pk_Mill.dat', usecols =(0))\n",
    "P_mill = np.loadtxt(path2+'/code/pk_Mill.dat', usecols =(1))"
   ]
  },
  {
   "cell_type": "code",
   "execution_count": 13,
   "id": "677ffc2e",
   "metadata": {},
   "outputs": [],
   "source": [
    "#EAGLE powerspectrum in mergertree code PCH\n",
    "k_E = np.loadtxt(path2+'/code/powerspec/pk_EAGLE_norm.dat', usecols =(0))\n",
    "P_E = np.loadtxt(path2+'/code/powerspec/pk_EAGLE_norm.dat', usecols =(1))"
   ]
  },
  {
   "cell_type": "code",
   "execution_count": 14,
   "id": "52a9c302",
   "metadata": {},
   "outputs": [],
   "source": [
    "#WDM Dove\n",
    "k_WDM = np.loadtxt(path2+'/code/powerspec/pk_WDMDove.dat', usecols =(0))\n",
    "P_WDM = np.loadtxt(path2+'/code/powerspec/pk_WDMDove.dat', usecols =(1))"
   ]
  },
  {
   "cell_type": "code",
   "execution_count": 63,
   "id": "919a4033",
   "metadata": {},
   "outputs": [
    {
     "data": {
      "text/plain": [
       "(1000.0, 339532.9069550179)"
      ]
     },
     "execution_count": 63,
     "metadata": {},
     "output_type": "execute_result"
    },
    {
     "data": {
      "image/png": "[encoded data removed]",
      "text/plain": [
       "<Figure size 432x288 with 1 Axes>"
      ]
     },
     "metadata": {
      "needs_background": "light"
     },
     "output_type": "display_data"
    }
   ],
   "source": [
    "#plt.xlim(kk[0],kk[-1])\n",
    "plt.loglog(kk, Pk,'b-', label='Planck (Creasey)')\n",
    "plt.loglog(k_mill, P_mill,'g', label ='Mill')\n",
    "#plt.loglog(k_E, P_E,'--', label ='EAGLE')\n",
    "#plt.loglog(k_WDM, P_WDM,'r:',label='WDM Dove')\n",
    "plt.xlabel('k$[h.Mpc^{-1}]$')\n",
    "plt.ylabel('P(k)[$(h^{-1}Mpc)^3$]')\n",
    "plt.legend()\n",
    "plt.savefig('Pk.png')\n",
    "plt.xlim(1e-3,2e1)\n",
    "plt.ylim(1e3,)"
   ]
  },
  {
   "cell_type": "raw",
   "id": "3e3ff94b",
   "metadata": {},
   "source": [
    "#plt.xlim(kk[0],kk[-1])\n",
    "plt.loglog(kk*h, Pk/P_mill,'b-', label='Planck (Creasey)')\n",
    "plt.loglog(k_mill, P_mill/P_mill,'g', label ='Mill')\n",
    "plt.xlabel('k$[h.Mpc^{-1}]$')\n",
    "plt.ylabel('P(k)[$(h^{-1}Mpc)^3$]')\n",
    "#plt.savefig('Pk.png')\n",
    "plt.xlim(1e-6,1e3)\n",
    "plt.legend()"
   ]
  },
  {
   "cell_type": "markdown",
   "id": "fe044060",
   "metadata": {},
   "source": [
    "Using the parameters from Millennium to regenerate the result and compare with the Mill one to find what's wrong with CLASS"
   ]
  },
  {
   "cell_type": "code",
   "execution_count": 76,
   "id": "d84753d9",
   "metadata": {},
   "outputs": [],
   "source": [
    "#check with Mill parameters\n",
    "LambdaCDM = Class()\n",
    "# pass input parameters\n",
    "z      = 10.0\n",
    "tau    = 0.0925\n",
    "n_s    = 1 \n",
    "A_s    = 2e-9\n",
    "h      = 0.73 \n",
    "omg_m  = 0.25 \n",
    "sigma8 = 0.9\n",
    "omg_b  = 0.045   # this value of omg_b is too high, CLASS requires to decrease it <= 0.038\n",
    "LambdaCDM.set({'omega_b'  :omg_b,\n",
    "               'omega_cdm':omg_m-omg_b,\n",
    "               'h'        :h,\n",
    "               #'A_s'      :A_s,\n",
    "               'sigma8'   : sigma8,\n",
    "               'n_s'      :n_s,\n",
    "               'tau_reio' :tau,\n",
    "               'z_pk'     :z,\n",
    "                'YHe'  : 0.24672})\n",
    "LambdaCDM.set({'output':'mPk','P_k_max_1/Mpc':100.0})\n",
    "# run class\n",
    "LambdaCDM.compute()"
   ]
  },
  {
   "cell_type": "code",
   "execution_count": 77,
   "id": "21babe0a-885c-42eb-ba9f-c6b69408ce60",
   "metadata": {},
   "outputs": [],
   "source": [
    "kbins = 1000\n",
    "kk = np.logspace(-6, 2, kbins)# k in h/Mpc\n",
    "Pk = [] # P(k) in (Mpc/h)**3"
   ]
  },
  {
   "cell_type": "code",
   "execution_count": 78,
   "id": "4520d4a9-a72f-443c-97d4-3177e75b8215",
   "metadata": {},
   "outputs": [],
   "source": [
    "#convert the unit of k[h/Mpc]->k[Mpc] then find P[h-1.Mpc]^3 \n",
    "for k in kk:\n",
    "    Pk.append(LambdaCDM.pk(k*h,0.)*h**3) "
   ]
  },
  {
   "cell_type": "code",
   "execution_count": 79,
   "id": "f4fba5bb-ea04-4c6b-a879-a693de32b870",
   "metadata": {},
   "outputs": [
    {
     "data": {
      "image/png": "[encoded data removed]",
      "text/plain": [
       "<Figure size 432x288 with 1 Axes>"
      ]
     },
     "metadata": {
      "needs_background": "light"
     },
     "output_type": "display_data"
    }
   ],
   "source": [
    "#plt.xlim(kk[0],kk[-1])\n",
    "plt.loglog(kk, Pk,'b-', label='MIll test in CLASS')\n",
    "plt.loglog(k_mill, P_mill,'g', label ='Mill')\n",
    "#plt.loglog(k_E, P_E,'--', label ='EAGLE')\n",
    "#plt.loglog(k_WDM, P_WDM,'r:',label='WDM Dove')\n",
    "plt.xlabel('k$[h.Mpc^{-1}]$')\n",
    "plt.ylabel('P(k)[$(h^{-1}Mpc)^3$]')\n",
    "plt.legend()\n",
    "plt.savefig('Pk.png')\n"
   ]
  },
  {
   "cell_type": "code",
   "execution_count": 125,
   "id": "d43cfb05-0967-4e75-90ea-bd1d6a80eafa",
   "metadata": {},
   "outputs": [],
   "source": [
    "#check with COCO parameters\n",
    "LambdaCDM = Class()\n",
    "# pass input parameters\n",
    "z      = 0.0\n",
    "#tau    = 0.0925\n",
    "n_s    = 0.976 \n",
    "#A_s    = 2e-9\n",
    "h      = 1 #0.704 \n",
    "omg_m  = 0.272 \n",
    "sigma8 = 0.81\n",
    "omg_b  = 0.04455   # this value of omg_b is too high, CLASS requires to decrease it <= 0.038\n",
    "LambdaCDM.set({'omega_b'  :omg_b,\n",
    "               'omega_cdm':omg_m-omg_b,\n",
    "               'h'        :h,\n",
    "               #'A_s'      :A_s,\n",
    "               'sigma8'   : sigma8,\n",
    "               'n_s'      :n_s,\n",
    "               #'N_ur': 2.0328,\n",
    "               #'m_ncdm' :0.,\n",
    "               #'tau_reio' :tau,\n",
    "               'z_pk'     :z,\n",
    "               'YHe'      : 0.24672})\n",
    "LambdaCDM.set({'output':'mPk','P_k_max_1/Mpc':100.0})\n",
    "# run class\n",
    "LambdaCDM.compute()"
   ]
  },
  {
   "cell_type": "code",
   "execution_count": 126,
   "id": "bb82e121-6b1c-4620-b9a7-55d2f37040cd",
   "metadata": {},
   "outputs": [],
   "source": [
    "kbins = 1000\n",
    "kk = np.logspace(-6, 2, kbins)# k in h/Mpc\n"
   ]
  },
  {
   "cell_type": "code",
   "execution_count": 127,
   "id": "fa62cf38-51cf-4efa-9836-2aa4ea29f36b",
   "metadata": {},
   "outputs": [],
   "source": [
    "Pk = np.array([LambdaCDM.pk(k,0.) for k in kk]) # P(k) in (Mpc/h)**3"
   ]
  },
  {
   "cell_type": "raw",
   "id": "d7035589-afda-4adf-8419-5e793a5ac787",
   "metadata": {},
   "source": [
    "#convert the unit of k[h/Mpc]->k[Mpc] then find P[h-1.Mpc]^3 \n",
    "for k in kk:\n",
    "    Pk.append(LambdaCDM.pk(k*h,0.)*h**3) \n",
    "np.array(Pk)"
   ]
  },
  {
   "cell_type": "code",
   "execution_count": 103,
   "id": "d4d527f3-1665-47f9-9471-03471110bcb0",
   "metadata": {},
   "outputs": [],
   "source": [
    "#COCO powerspectrum in mergertree code PCH\n",
    "k_co = np.loadtxt(path2+'/code/powerspec/pk_coco_WMAP7cdm.dat', usecols =(0))\n",
    "P_co = np.loadtxt(path2+'/code/powerspec/pk_coco_WMAP7cdm.dat', usecols =(1))"
   ]
  },
  {
   "cell_type": "code",
   "execution_count": 133,
   "id": "a0b6ef9a-29ba-4bad-b497-f6d40baf1f3a",
   "metadata": {},
   "outputs": [
    {
     "name": "stdout",
     "output_type": "stream",
     "text": [
      "<classy.Class object at 0x55842dfbed60>\n"
     ]
    }
   ],
   "source": [
    "#check with COCO parameters\n",
    "LambdaCDM = Class()\n",
    "# pass input parameters\n",
    "z      = 0.0\n",
    "#tau    = 0.0925\n",
    "n_s    = 0.976 \n",
    "#A_s    = 2e-9\n",
    "h      = 1 #0.704 \n",
    "omg_m  = 0.272 \n",
    "sigma8 = 0.81\n",
    "omg_b  = 0.04455   # this value of omg_b is too high, CLASS requires to decrease it <= 0.038\n",
    "LambdaCDM.set({'omega_b'  :omg_b,\n",
    "               'omega_cdm':omg_m-omg_b,\n",
    "               'h'        :h,\n",
    "               #'A_s'      :A_s,\n",
    "               'sigma8'   : sigma8,\n",
    "               'n_s'      :n_s,\n",
    "               'N_ur': 3.046,\n",
    "               #'m_ncdm' :0.,\n",
    "               #'tau_reio' :tau,\n",
    "               'z_pk'     :z,\n",
    "               'YHe'      : 0.24672 })\n",
    "LambdaCDM.set({'output':'mPk','P_k_max_1/Mpc':100.0})\n",
    "# run class\n",
    "LambdaCDM.compute()\n",
    "\n",
    "kbins = 1000\n",
    "kk2 = np.logspace(-6, 2, kbins)# k in h/Mpc\n",
    "Pk2 = np.array([LambdaCDM.pk(k,0.) for k in kk]) # P(k) in (Mpc/h)**3\n"
   ]
  },
  {
   "cell_type": "code",
   "execution_count": 121,
   "id": "a9f9a9ec-d37a-4e13-b828-c3037de01392",
   "metadata": {},
   "outputs": [
    {
     "data": {
      "text/plain": [
       "(500.0, 30000.0)"
      ]
     },
     "execution_count": 121,
     "metadata": {},
     "output_type": "execute_result"
    },
    {
     "data": {
      "image/png": "[encoded data removed]",
      "text/plain": [
       "<Figure size 720x720 with 1 Axes>"
      ]
     },
     "metadata": {
      "needs_background": "light"
     },
     "output_type": "display_data"
    }
   ],
   "source": [
    "plt.figure(figsize=[10,10])\n",
    "#plt.xlim(kk[0],kk[-1])\n",
    "plt.loglog(kk, Pk,'b-', label='COCO test in CLASS')\n",
    "plt.loglog(kk2, Pk2,'r-', label='COCO test in CLASS 2')\n",
    "plt.loglog(k_co, P_co,'g', label ='COCO')\n",
    "#plt.loglog(k_E, P_E,'--', label ='EAGLE')\n",
    "#plt.loglog(k_WDM, P_WDM,'r:',label='WDM Dove')\n",
    "plt.xlabel('k$[h.Mpc^{-1}]$')\n",
    "plt.ylabel('P(k)[$(h^{-1}Mpc)^3$]')\n",
    "plt.legend()\n",
    "#plt.savefig('Pk.png')\n",
    "plt.xlim(1e-3,1)\n",
    "plt.ylim(5e2,3e4)\n"
   ]
  },
  {
   "cell_type": "code",
   "execution_count": 128,
   "id": "27de2303",
   "metadata": {},
   "outputs": [
    {
     "data": {
      "text/plain": [
       "3.0439999999999996"
      ]
     },
     "execution_count": 128,
     "metadata": {},
     "output_type": "execute_result"
    }
   ],
   "source": [
    "LambdaCDM.Neff()"
   ]
  },
  {
   "cell_type": "code",
   "execution_count": 131,
   "id": "3b1113f7-2ddf-4efa-baa2-00881c56baa2",
   "metadata": {},
   "outputs": [
    {
     "data": {
      "text/plain": [
       "0.0"
      ]
     },
     "execution_count": 131,
     "metadata": {},
     "output_type": "execute_result"
    }
   ],
   "source": [
    "LambdaCDM.Omega0_k()"
   ]
  },
  {
   "cell_type": "code",
   "execution_count": null,
   "id": "969331bc-845a-435c-b2a5-2cb870d9ff98",
   "metadata": {},
   "outputs": [],
   "source": []
  }
 ],
 "metadata": {
  "kernelspec": {
   "display_name": "Python 3",
   "language": "python",
   "name": "python3"
  },
  "language_info": {
   "codemirror_mode": {
    "name": "ipython",
    "version": 3
   },
   "file_extension": ".py",
   "mimetype": "text/x-python",
   "name": "python",
   "nbconvert_exporter": "python",
   "pygments_lexer": "ipython3",
   "version": "3.9.12"
  }
 },
 "nbformat": 4,
 "nbformat_minor": 5
}

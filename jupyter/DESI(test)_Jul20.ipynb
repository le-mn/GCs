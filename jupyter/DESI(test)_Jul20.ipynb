{
 "cells": [
  {
   "cell_type": "markdown",
   "id": "132bd1df-2723-4f22-a698-3a9806a799c3",
   "metadata": {},
   "source": [
    "Jul 18-22\n",
    "\n",
    "Find the matched galaxies in Harris and DESI DR9 catalogs:\n",
    "\n",
    "- match (RA,DEC) between Harris-DESI galaxies;\n",
    "\n",
    "- find galaxies which belong to the same group: using member -> find galaxies with the same group ID\n",
    "\n",
    "- check the group catalog: group mass, #galaxies in a group (if #gal in Harris less than #gal of that group in DESI, we can say something about the M_h vs #GC relation);\n",
    "\n",
    "- sum up GCs in groups, plot M_h vs #GCs"
   ]
  },
  {
   "cell_type": "code",
   "execution_count": 1,
   "id": "9b37de62-8893-4816-810d-22f8fc95da23",
   "metadata": {},
   "outputs": [],
   "source": [
    "import numpy as np\n",
    "import matplotlib.pyplot as plt\n",
    "import astropy.io.fits as pyfits\n",
    "\n",
    "path ='/home/ngoc/Downloads/GCs/'\n",
    "path1 ='/home/ngoc/Downloads/GCs/code/'"
   ]
  },
  {
   "cell_type": "code",
   "execution_count": 2,
   "id": "43d54610-78e0-450c-abf0-466f4702cbce",
   "metadata": {},
   "outputs": [],
   "source": [
    "from astropy.table import Table\n",
    "from astropy import units as u\n",
    "from astropy.coordinates import Angle\n",
    "from astropy.coordinates import SkyCoord"
   ]
  },
  {
   "cell_type": "code",
   "execution_count": 3,
   "id": "98989682-87d3-4f30-a122-b24c137971d8",
   "metadata": {},
   "outputs": [],
   "source": [
    "#load Harris 13 (RA, DEC) coordinates data \n",
    "ra_H  = np.loadtxt(path1+'GC_cat_H13.txt', usecols=(2)) #[hour]\n",
    "dec_H = np.loadtxt(path1+'GC_cat_H13.txt', usecols=(3)) #[degree]\n",
    "N_GC  = np.loadtxt(path1+'GC_cat_H13.txt', usecols=(13)) \n",
    "\n",
    "#convert [hour] -> [degree] for ra_H\n",
    "ra_H  = Angle(ra_H, u.hour)\n",
    "dec_H = Angle(dec_H, u.degree)\n",
    "\n",
    "ra_H = ra_H.degree #convert RA from hour->degree"
   ]
  },
  {
   "cell_type": "code",
   "execution_count": null,
   "id": "f2fbe1d6-bcd8-4cd8-a206-56390e256723",
   "metadata": {},
   "outputs": [],
   "source": [
    "# load the coordinates from DESI\n",
    "ra_D  = np.loadtxt(path+'DESIdata/galaxies/DESIDR9_NGC_galaxy', usecols=(0)) \n",
    "dec_D = np.loadtxt(path+'DESIdata/galaxies/DESIDR9_NGC_galaxy', usecols=(1)) "
   ]
  },
  {
   "cell_type": "code",
   "execution_count": null,
   "id": "477c51f7-3320-4044-8598-062d23a0f5ca",
   "metadata": {},
   "outputs": [],
   "source": [
    "ra_DESI  = Angle(ra_D, u.arcminute)     \n",
    "dec_DESI = Angle(ra_D, u.arcminute)    "
   ]
  },
  {
   "cell_type": "code",
   "execution_count": null,
   "id": "77e58d2f-c59a-4320-985c-dbee177a9e61",
   "metadata": {},
   "outputs": [],
   "source": [
    "print(ra_D,dec_D)"
   ]
  },
  {
   "cell_type": "code",
   "execution_count": null,
   "id": "e0b25ddc-fb0d-4ea5-a9ed-49c29b1b9565",
   "metadata": {},
   "outputs": [],
   "source": [
    "#coordinates of DESI catalog\n",
    "coor_D = SkyCoord(ra=ra_DESI, dec=dec_DESI, frame='icrs')"
   ]
  },
  {
   "cell_type": "code",
   "execution_count": null,
   "id": "15aef35f-b7b8-45c2-87b5-582d290cfd53",
   "metadata": {},
   "outputs": [],
   "source": [
    "#coordinates of Harris13 catalog\n",
    "coor_H = SkyCoord(ra=ra_H*u.degree, dec=dec_H, frame='icrs') #since ra_H now is the value->multiplied to unit"
   ]
  },
  {
   "cell_type": "code",
   "execution_count": null,
   "id": "d08c93d7-d82b-4c5c-b833-675533eccc89",
   "metadata": {},
   "outputs": [],
   "source": [
    "#source.match_to_catalog_sky(catalog)\n",
    "idx, d2d, d3d = coor_H.match_to_catalog_sky(coor_D)"
   ]
  },
  {
   "cell_type": "code",
   "execution_count": null,
   "id": "f96f8e8f-c079-4ae1-b11a-7c603229f561",
   "metadata": {},
   "outputs": [],
   "source": [
    "d2d = d2d.arcsec #convert d2d to [arcsec], then take the value and remove the unit\n",
    "#print(d2d)"
   ]
  },
  {
   "cell_type": "raw",
   "id": "0228762f-4208-4ce3-81f5-3782b539f130",
   "metadata": {},
   "source": [
    "print(d3d)"
   ]
  },
  {
   "cell_type": "raw",
   "id": "af9eeced-ac94-4475-8743-edd0247b43fd",
   "metadata": {},
   "source": [
    "i_count = len(idx)\n",
    "print('total number of galaxies in Harris', i_count)\n",
    "for i in range (0, len(idx)):\n",
    "    if (d2d[i] > r_pe[i]):\n",
    "        idx[i] = -1   #remotve the matches that larger than petrosian radius of galaxies\n",
    "        i_count -= 1\n",
    "print(idx)\n",
    "print('total number of matched galaxies is', i_count)"
   ]
  },
  {
   "cell_type": "raw",
   "id": "39d35e8e-7176-4e94-b61a-fa7e20416b66",
   "metadata": {},
   "source": [
    "for i in range(0,len(idx)):\n",
    "    for j in range(i+1,len(idx)):\n",
    "        if i!=j and idx[i] != -1 and idx[j] != -1 and idx[i] == idx[j]:\n",
    "            print (i,j)\n",
    "\n",
    "#=> the two look like they are going to merge"
   ]
  },
  {
   "cell_type": "raw",
   "id": "b670b59a-a7e1-4404-bb2c-20c90c3c8869",
   "metadata": {},
   "source": [
    "#take the stellar mass from Atlas catalog\n",
    "N_GC_match      = np.zeros(i_count)\n",
    "m_stellar_match = np.zeros(i_count)\n",
    "ii = 0\n",
    "\n",
    "for i in range (0, len(idx)):\n",
    "    if (idx[i] != -1):\n",
    "        N_GC_match[ii]      = N_GC[i]\n",
    "        m_stellar_match[ii] = m_stellar[idx[i]]\n",
    "        ii += 1"
   ]
  },
  {
   "cell_type": "raw",
   "id": "ae5e1426-ab08-44bf-b416-84ed0abce45a",
   "metadata": {},
   "source": [
    "ra_H  = np.loadtxt(path1+'GC_cat_Harris13.txt', usecols=(2)) #[hour]\n",
    "dec_H = np.loadtxt(path1+'GC_cat_Harris13.txt', usecols=(3)) #[degree]\n",
    "\n",
    "ra_match     = np.zeros(i_count)\n",
    "dec_match    = np.zeros(i_count)\n",
    "id_match     = np.zeros(i_count)  #Harris ID of matching galaxies\n",
    "\n",
    "ii = 0\n",
    "\n",
    "for i in range (0, len(idx)):\n",
    "    if (idx[i] != -1):\n",
    "        ra_match[ii]  = ra_H[i]\n",
    "        dec_match[ii] = dec_H[i]\n",
    "        id_match[ii]  = i      #+1 since Fortran index start from 1, save the idx of gal in H catalog\n",
    "        \n",
    "        ii += 1"
   ]
  },
  {
   "cell_type": "raw",
   "id": "a0c69cdb-8681-4757-9919-5e47ebd241e8",
   "metadata": {},
   "source": [
    "#the id of galaxies in Harris catalog which match to Atlas\n",
    "for i in range(0,len(id_match)):\n",
    "    print(id_match[i], ra_match[i],dec_match[i], np.log10(m_stellar_match[i]))#, name_Atlas[idx[i]])"
   ]
  },
  {
   "cell_type": "raw",
   "id": "d0a6c923-99d2-45a3-831c-83ab73b3e1fb",
   "metadata": {},
   "source": [
    "#print(N_GC_match, m_stellar_match)\n",
    "plt.figure(figsize=[15,10])\n",
    "T_N = N_GC_match/(m_stellar_match/1e9)   #GC frequency [GC/10^9 M_\\odot]\n",
    "plt.loglog(m_stellar_match, T_N,'b.')\n",
    "plt.xlabel('$M_{stellar} [M_\\odot]$')\n",
    "plt.ylabel('GC frequency $T_N $')\n",
    "plt.ylim(5e-1,3e2)\n",
    "plt.xlim(1e7,5e11)"
   ]
  },
  {
   "cell_type": "raw",
   "id": "9111c560-d504-4ced-9f79-f45a70be7640",
   "metadata": {},
   "source": [
    "#now follow Moster13 to find M_halo of the galaxies\n",
    "from scipy.optimize import fsolve "
   ]
  },
  {
   "cell_type": "raw",
   "id": "3731fb75-d25b-48b7-b0bf-dcfba635a629",
   "metadata": {},
   "source": [
    "#Paramters adopted from Moster et al. 13, table 1\n",
    "M_10     = 11.59\n",
    "M_11     = 1.195\n",
    "N_10     = 0.0351\n",
    "N_11     = -0.0247\n",
    "beta_10  = 1.376                #else:\n",
    "                #    print(id_new[i]+1, M_V_new[i], 'is satellite of', id_new[cen]+1, M_V_new[cen])\n",
    "\n",
    "beta_11  = -0.826\n",
    "gamma_10 = 0.608\n",
    "gamma_11 = 0.329"
   ]
  },
  {
   "cell_type": "raw",
   "id": "7dee1e52-3b62-46c3-b923-1e1f6924c88e",
   "metadata": {},
   "source": [
    "#calculate the parameters(z) for SHM relation\n",
    "z = 0\n",
    "\n",
    "log_M1 = M_10 + M_11*z/(z+1)\n",
    "M_1    = 10**log_M1\n",
    "NN     = N_10 + N_11*z/(z+1)\n",
    "beta   = beta_10 + beta_11*z/(z+1)\n",
    "gamma  = gamma_10 + gamma_11*z/(z+1)\n",
    "\n",
    "print(np.log10(M_1),NN*2,beta,gamma)"
   ]
  },
  {
   "cell_type": "raw",
   "id": "7b1b7662-69f6-4fb5-81d2-c28fb3a7b021",
   "metadata": {},
   "source": [
    "i = 0\n",
    "M_guess = 1e10\n",
    "M_h_array = np.zeros(i_count)\n",
    "\n",
    "for m in m_stellar_match:\n",
    "    func = lambda M_h : m - 2*NN*M_h/((M_h/M_1)**(-beta) + (M_h/M_1)**gamma)  \n",
    "    M_h_array[i] = fsolve(func,M_guess)\n",
    "    i += 1    \n",
    "#print(M_h_array)"
   ]
  },
  {
   "cell_type": "raw",
   "id": "92de989b-aa99-4f89-85f2-44d0d2308847",
   "metadata": {},
   "source": [
    "i = 0\n",
    "M_h_array = np.zeros(i_count)\n",
    "\n",
    "for m in m_stellar_match:\n",
    "    func = lambda M_h : m - 2*NN*M_h/((M_h/M_1)**(-beta) + (M_h/M_1)**gamma)  \n",
    "    if m < 1e7:\n",
    "        M_h_array[i] = fsolve(func,1e8)\n",
    "    elif 1e7 < m < 1e9:\n",
    "        M_h_array[ path+\"code/data_Atlas_Harris13_by_rpes.txt\"i] = fsolve(func,1e10)\n",
    "    elif m > 1e9:\n",
    "        M_h_array[i] = fsolve(func,1e11)\n",
    "    i += 1    \n"
   ]
  },
  {
   "cell_type": "raw",
   "id": "3da11656-c102-4fe7-bf22-87ec6b753640",
   "metadata": {},
   "source": [
    "for i in range(0,len (m_stellar_match)):\n",
    "    print(i, np.log10(m_stellar_match[i]),np.log10(M_h_array[i]))"
   ]
  },
  {
   "cell_type": "raw",
   "id": "1f55bd3a-ff98-4929-981b-33f83e3149ac",
   "metadata": {},
   "source": [
    "# compare the result to Harris catalog (all GCs)\n",
    "plt.figure(figsize=[10,10])\n",
    "ax = plt.axes()\n",
    "ax.set_xscale(\"log\")\n",
    "ax.set_yscale(\"log\")\n",
    "ax.set_ylabel(\"$m_{stellar} [M_\\odot]$\")\n",
    "ax.set_xlabel(\"$M_{halo} [M_\\odot]$\")    \n",
    "ax.scatter( M_h_array,m_stellar_match)\n",
    "ax.set_title('m_stellar(M_halo) compare to Fig.1 in Moster13')"
   ]
  },
  {
   "cell_type": "raw",
   "id": "9bcd9964-b475-42c3-bef3-fc13af7478bb",
   "metadata": {},
   "source": [
    "#for only the NGC4377\n",
    "m = 10**9.84  #taken from Lehmar 2020\n",
    "func = lambda M_h : m - 2*NN*M_h/((M_h/M_1)**(-beta) + (M_h/M_1)**gamma)  \n",
    "M_h_test = fsolve(func,1e10)\n",
    "\n",
    "print(np.log10(M_h_test))\n",
    "#M_h is different from one calculated by matching+Moster "
   ]
  },
  {
   "cell_type": "raw",
   "id": "1ceff184-da88-442d-8e30-9d032992656d",
   "metadata": {},
   "source": [
    "# compare the result to Harris catalog (all GCs)\n",
    "plt.figure(figsize=[10,10])\n",
    "ax = plt.axes()\n",
    "ax.set_xscale(\"log\")\n",
    "ax.set_yscale(\"log\")\n",
    "ax.set_xlabel(\"M halo(z=0) [M_sun]\")\n",
    "ax.set_ylabel(\"Number of GCs\")    \n",
    "ax.scatter(M_h_test, N_GC_match[75], color='r', label ='NGC4377')\n",
    "ax.scatter(M_h_array, N_GC_match, marker='d', label ='Atlas+Harris13')\n",
    "ax.legend()"
   ]
  },
  {
   "cell_type": "raw",
   "id": "abe9ecc2-7db8-4b6b-82b3-bfa0ea887457",
   "metadata": {},
   "source": [
    "#found the most massive halo (>1e15 M_sun) but has N_GC ~ 100\n",
    "for i in range(0,i_count):\n",
    "    if (M_h_array[i] > 1e15 and N_GC_match[i]<200):\n",
    "        print(i,', halo mass:' , M_h_array[i]/1e15,'*1e15 M_sun, number of GC:', N_GC_match[i])\n"
   ]
  },
  {
   "cell_type": "raw",
   "id": "302b9412-03ab-4d61-9473-f72b6f3d0c79",
   "metadata": {},
   "source": [
    "#save the results into file\n",
    "data = np.column_stack([M_h_array, N_GC_match, ra_match, dec_match, id_match, m_stellar_match])\n",
    "datafile_path = path+\"code/data_Atlas_Harris13_by_rpes.txt\"\n",
    "np.savetxt(datafile_path , data, fmt='%f')"
   ]
  },
  {
   "cell_type": "code",
   "execution_count": null,
   "id": "a67c84f5-8c37-4bba-bcba-1d82b2e0591e",
   "metadata": {},
   "outputs": [],
   "source": []
  }
 ],
 "metadata": {
  "kernelspec": {
   "display_name": "Python 3 (ipykernel)",
   "language": "python",
   "name": "python3"
  },
  "language_info": {
   "codemirror_mode": {
    "name": "ipython",
    "version": 3
   },
   "file_extension": ".py",
   "mimetype": "text/x-python",
   "name": "python",
   "nbconvert_exporter": "python",
   "pygments_lexer": "ipython3",
   "version": "3.9.12"
  }
 },
 "nbformat": 4,
 "nbformat_minor": 5
}

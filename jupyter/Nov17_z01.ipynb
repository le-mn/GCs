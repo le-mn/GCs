{
 "cells": [
  {
   "cell_type": "markdown",
   "id": "508c12a4-79df-492b-a603-bea5544e0688",
   "metadata": {},
   "source": [
    "Nov 17-23\n",
    "\n",
    "- find central gal that under the condition z<0.1, 0.4:\n",
    "\n",
    "   + find the galaxies that have z<0.1;\n",
    "   \n",
    "   + pick the central galaxies in that;\n",
    "   \n",
    "   + take the correspond N_GC and M_h of the central;\n",
    "   \n",
    "   + plot Mh vs N_GC;\n",
    "- do that for broken power law and 1 power law"
   ]
  },
  {
   "cell_type": "code",
   "execution_count": 1,
   "id": "f70cb10e-60ce-4585-8c25-54bef120a05c",
   "metadata": {},
   "outputs": [],
   "source": [
    "import numpy as np\n",
    "import matplotlib.pyplot as plt"
   ]
  },
  {
   "cell_type": "code",
   "execution_count": 2,
   "id": "45bc0e8e-fdc9-4aa3-88db-7f6cfa3eb00b",
   "metadata": {},
   "outputs": [],
   "source": [
    "from astropy.table import Table"
   ]
  },
  {
   "cell_type": "code",
   "execution_count": 3,
   "id": "9480bc2c-e8f2-4983-8560-0d70f0b41469",
   "metadata": {},
   "outputs": [],
   "source": [
    "import astropy.io.fits as fits"
   ]
  },
  {
   "cell_type": "code",
   "execution_count": 4,
   "id": "18c32f0d-38d8-480e-b02b-3d37a24a7261",
   "metadata": {},
   "outputs": [],
   "source": [
    "path='/data/lemn/DESIdata/'"
   ]
  },
  {
   "cell_type": "code",
   "execution_count": 5,
   "id": "10726689-7ccc-48b6-8310-6c85107cc33f",
   "metadata": {},
   "outputs": [],
   "source": [
    "#load data \n",
    "data = fits.getdata(path+'galaxies/DESIDR9_NGC_galaxy.fits')"
   ]
  },
  {
   "cell_type": "code",
   "execution_count": 6,
   "id": "4325a184-9a94-4332-8a81-022db913ae61",
   "metadata": {},
   "outputs": [],
   "source": [
    "#load infor of members in group\n",
    "mem = fits.getdata(path+'members/iDESIDR9_NGC_1.fits')"
   ]
  },
  {
   "cell_type": "raw",
   "id": "30950f2f-34a5-4e53-9a0c-3a94bdb55d9e",
   "metadata": {},
   "source": [
    "hdul = fits.open(path+'galaxies/DESIDR9_NGC_galaxy.fits')\n",
    "hdul.info()\n",
    "hdul[0].header[1]\n",
    "hdul[1].columns"
   ]
  },
  {
   "cell_type": "code",
   "execution_count": 7,
   "id": "10c3a62b-2202-4234-b18d-331f9bc89ab6",
   "metadata": {},
   "outputs": [],
   "source": [
    "M_z = data['M_zband']"
   ]
  },
  {
   "cell_type": "code",
   "execution_count": 8,
   "id": "79aaa1ac-94f0-4dd8-b635-39124d5bbe14",
   "metadata": {},
   "outputs": [],
   "source": [
    "cen_check = np.loadtxt(path+'members/iDESIDR9_NGC_1', usecols =(2))"
   ]
  },
  {
   "cell_type": "code",
   "execution_count": 9,
   "id": "bd7ebf79-ff29-4f8f-9ee4-47546bfd117b",
   "metadata": {},
   "outputs": [],
   "source": [
    "mem_to_group = mem['groupID']"
   ]
  },
  {
   "cell_type": "code",
   "execution_count": 10,
   "id": "c6c0b3d5-5e86-47f0-b896-c17ec6fcaa8f",
   "metadata": {},
   "outputs": [],
   "source": [
    "#load infor of members in group\n",
    "group = fits.getdata(path+'groups/DESIDR9_NGC_group.fits')"
   ]
  },
  {
   "cell_type": "code",
   "execution_count": 11,
   "id": "1191811a-655e-4a23-b3cd-9793d39920cb",
   "metadata": {},
   "outputs": [],
   "source": [
    "group_ID = group['groupID']"
   ]
  },
  {
   "cell_type": "code",
   "execution_count": 12,
   "id": "5a2d13f5-2e05-4d8f-91ce-3713ac05b8c2",
   "metadata": {},
   "outputs": [],
   "source": [
    "#load theory results\n",
    "M_halo_theo                 = np.loadtxt(\"/data/lemn/theory_results/theory_Creaseymodel.txt\" ,usecols=(0))\n",
    "#N_GC_Mill_Creaseytheo       = np.loadtxt(\"/data/lemn/theory_results/theory_Creaseymodel.txt\" ,usecols=(1))\n",
    "#err_N_GC_Mill_Creaseytheo   = np.loadtxt(\"/data/lemn/theory_results/theory_Creaseymodel.txt\" ,usecols=(2))\n",
    "N_GC_Planck_Creaseytheo     = np.loadtxt(\"/data/lemn/theory_results/theory_Creaseymodel.txt\" ,usecols=(3))\n",
    "err_N_GC_Planck_Creaseytheo = np.loadtxt(\"/data/lemn/theory_results/theory_Creaseymodel.txt\" ,usecols=(4))\n",
    "#N_GC_COCO_Creaseytheo       = np.loadtxt(\"/data/lemn/theory_results/theory_Creaseymodel.txt\" ,usecols=(5))\n",
    "#err_N_GC_COCO_Creaseytheo   = np.loadtxt(\"/data/lemn/theory_results/theory_Creaseymodel.txt\" ,usecols=(6))\n",
    "M_halo_theo2                = np.loadtxt(\"/data/lemn/theory_results/theory_ourmodel.txt\"     ,usecols=(0))\n",
    "#N_GC_Mill_ourtheo           = np.loadtxt(\"/data/lemn/theory_results/theory_ourmodel.txt\"     ,usecols=(1))\n",
    "#err_N_GC_Mill_ourtheo       = np.loadtxt(\"/data/lemn/theory_results/theory_ourmodel.txt\"     ,usecols=(2))\n",
    "N_GC_Planck_ourtheo         = np.loadtxt(\"/data/lemn/theory_results/theory_ourmodel.txt\"     ,usecols=(3))\n",
    "err_N_GC_Planck_ourtheo     = np.loadtxt(\"/data/lemn/theory_results/theory_ourmodel.txt\"     ,usecols=(4))\n",
    "#N_GC_COCO_ourtheo           = np.loadtxt(\"/data/lemn/theory_results/theory_ourmodel.txt\"     ,usecols=(5))\n",
    "#err_N_GC_COCO_ourtheo       = np.loadtxt(\"/data/lemn/theory_results/theory_ourmodel.txt\"     ,usecols=(6))"
   ]
  },
  {
   "cell_type": "code",
   "execution_count": 13,
   "id": "1d34da8d-5da2-4987-8308-5e8d6168f2e7",
   "metadata": {},
   "outputs": [],
   "source": [
    "# load EMOSAICS Fig.1 data\n",
    "mass_E   = np.loadtxt('/data/lemn/datalit/EMOSAICS_data.txt', usecols =(0))\n",
    "triangle = np.loadtxt('/data/lemn/datalit/EMOSAICS_data.txt', usecols =(1))\n",
    "#square   = np.loadtxt('/data/lemn/datalit/EMOSAICS_data.txt', usecols =(2))\n",
    "#star     = np.loadtxt('/data/lemn/datalit/EMOSAICS_data.txt', usecols =(3))"
   ]
  },
  {
   "cell_type": "code",
   "execution_count": 14,
   "id": "2048c370-627f-4bba-8c3e-138b6e616066",
   "metadata": {},
   "outputs": [],
   "source": [
    "#load Forbes 18 data\n",
    "M_halo_F = np.loadtxt('/data/lemn/datalit/Forbes18_data.txt',usecols=(2))\n",
    "N_GC_F   = np.loadtxt('/data/lemn/datalit/Forbes18_data.txt',usecols=(3))\n",
    "M_halo_F = 10**M_halo_F"
   ]
  },
  {
   "cell_type": "code",
   "execution_count": 15,
   "id": "2202fa17-28f0-46e9-9839-0ebced49bd9a",
   "metadata": {},
   "outputs": [],
   "source": [
    "#load blue GCs from Creasey data\n",
    "M_Creasey = np.loadtxt('/data/lemn/datalit/Creasey_Data.txt',usecols=(0))\n",
    "N_Creasey = np.loadtxt('/data/lemn/datalit/Creasey_Data.txt',usecols=(1))"
   ]
  },
  {
   "cell_type": "code",
   "execution_count": 16,
   "id": "a7594296-6dbc-4460-8056-123d9e83684e",
   "metadata": {},
   "outputs": [],
   "source": [
    "z = data['z']"
   ]
  },
  {
   "cell_type": "code",
   "execution_count": 17,
   "id": "57e3096a-cdac-458a-9b53-741948877d66",
   "metadata": {},
   "outputs": [],
   "source": [
    "z_pick = 0.1"
   ]
  },
  {
   "cell_type": "code",
   "execution_count": 18,
   "id": "3a2fc9b4-fb07-4295-8c45-ee003edb9924",
   "metadata": {},
   "outputs": [],
   "source": [
    "arg_pick = np.argwhere(z <= z_pick)"
   ]
  },
  {
   "cell_type": "code",
   "execution_count": 19,
   "id": "5022fb85-c1d2-4736-87d6-d17ea5e2e41c",
   "metadata": {},
   "outputs": [],
   "source": [
    "arg_pick = arg_pick.reshape(len(arg_pick))"
   ]
  },
  {
   "cell_type": "code",
   "execution_count": 20,
   "id": "e7c7aaa8-7e4b-4259-a5be-1a43e225634d",
   "metadata": {},
   "outputs": [
    {
     "data": {
      "text/plain": [
       "(array([2.00000e+00, 3.70000e+01, 8.27000e+02, 8.57700e+03, 3.45390e+04,\n",
       "        7.96170e+04, 1.30927e+05, 1.61555e+05, 1.94630e+05, 2.13083e+05,\n",
       "        1.96819e+05, 9.65820e+04, 2.56220e+04, 8.52600e+03, 3.99500e+03,\n",
       "        1.49200e+03, 4.39000e+02, 9.10000e+01, 3.70000e+01, 2.30000e+01]),\n",
       " array([-24.11892  , -23.4143005, -22.709681 , -22.0050615, -21.300442 ,\n",
       "        -20.5958225, -19.891203 , -19.1865835, -18.481964 , -17.7773445,\n",
       "        -17.072725 , -16.3681055, -15.663486 , -14.9588665, -14.254247 ,\n",
       "        -13.5496275, -12.845008 , -12.1403885, -11.435769 , -10.7311495,\n",
       "        -10.02653  ]),\n",
       " <BarContainer object of 20 artists>)"
      ]
     },
     "execution_count": 20,
     "metadata": {},
     "output_type": "execute_result"
    },
    {
     "data": {
      "image/png": "[encoded data removed]",
      "text/plain": [
       "<Figure size 432x288 with 1 Axes>"
      ]
     },
     "metadata": {
      "needs_background": "light"
     },
     "output_type": "display_data"
    }
   ],
   "source": [
    "#plt.yscale('log')\n",
    "plt.xlabel('M_z of galaxies at z<0.1')\n",
    "plt.hist(M_z[arg_pick],bins=20)\n",
    "#plt.savefig('Mz_z01.pdf')"
   ]
  },
  {
   "cell_type": "raw",
   "id": "018e7ab8-c8ac-4464-a826-dfe26b591a1c",
   "metadata": {},
   "source": [
    "print(arg_pick)"
   ]
  },
  {
   "cell_type": "code",
   "execution_count": 21,
   "id": "1415243a-25ca-4c88-9274-b7278251689b",
   "metadata": {},
   "outputs": [],
   "source": [
    "cen_pick = np.argwhere(cen_check[arg_pick] == 1)"
   ]
  },
  {
   "cell_type": "code",
   "execution_count": 22,
   "id": "370b6f4c-24c7-44a8-9b46-9779d49bcba2",
   "metadata": {},
   "outputs": [
    {
     "name": "stdout",
     "output_type": "stream",
     "text": [
      "51440885.0 1.0 [1.0000000e+00 2.0000000e+00 3.0000000e+00 ... 5.1440883e+07 5.1440884e+07\n",
      " 5.1440885e+07]\n"
     ]
    }
   ],
   "source": [
    "print(max(mem_to_group), min(mem_to_group), group_ID) \n",
    "#because group_ID starts from 1, while Python index starts from 0, so we need to subtract 1 to get the right index in group_ID array"
   ]
  },
  {
   "cell_type": "raw",
   "id": "f7198bd0-57df-46ef-8fb6-fe66e9b2d8c4",
   "metadata": {},
   "source": [
    "print(z[arg_pick][cen_pick])"
   ]
  },
  {
   "cell_type": "code",
   "execution_count": 23,
   "id": "c5210b37-56c8-41d8-ae76-7bc488929259",
   "metadata": {},
   "outputs": [],
   "source": [
    "group_pick = mem_to_group[arg_pick][cen_pick] #id of groups that (contains the central gal) sastified z<0.1"
   ]
  },
  {
   "cell_type": "code",
   "execution_count": 24,
   "id": "9b5ec8e7-32c7-477e-9641-b7507216ab78",
   "metadata": {},
   "outputs": [],
   "source": [
    "group_pick = group_pick.reshape(len(group_pick)).astype(int)"
   ]
  },
  {
   "cell_type": "raw",
   "id": "fc27ad7a-1d52-4942-89b9-297644b64a5a",
   "metadata": {},
   "source": [
    "print(group_pick)"
   ]
  },
  {
   "cell_type": "code",
   "execution_count": 25,
   "id": "c0695398-3ff0-4b7e-b01a-ac9675970441",
   "metadata": {},
   "outputs": [],
   "source": [
    "z_04   = 0.4\n",
    "arg_04 = np.argwhere(z <= z_04)\n",
    "arg_04 = arg_04.reshape(len(arg_04))\n",
    "cen_04 = np.argwhere(cen_check[arg_04] == 1)\n",
    "group_04 = mem_to_group[arg_04][cen_04] \n",
    "group_04 = group_04.reshape(len(group_04)).astype(int)"
   ]
  },
  {
   "cell_type": "code",
   "execution_count": 108,
   "id": "9da2ff44-5248-446a-9a17-38e3653e18c8",
   "metadata": {},
   "outputs": [],
   "source": [
    "#load the summation GCs and M_h in broken power law\n",
    "tot = fits.getdata('/data/lemn/results/Mh_NGCs_avg100samples.fits')"
   ]
  },
  {
   "cell_type": "code",
   "execution_count": 110,
   "id": "abd4f7dc-445e-4573-a6ff-667ceb6b4ef5",
   "metadata": {},
   "outputs": [],
   "source": [
    "N_GC = tot['tot NGCs']\n",
    "M_h  = tot['M halo']\n",
    "err  = tot['1-sigma']"
   ]
  },
  {
   "cell_type": "code",
   "execution_count": 28,
   "id": "5cdf9f36-d376-4312-980f-debc6d4a9560",
   "metadata": {},
   "outputs": [],
   "source": [
    "#load the summationn in 1 power law\n",
    "onepow = fits.getdata('/data/lemn/results/Mh_NGCs_1powerlaw.fits')\n",
    "M_h_1pow = onepow['M halo']\n",
    "N_GC_1pow = onepow['tot NGCs']"
   ]
  },
  {
   "cell_type": "code",
   "execution_count": 29,
   "id": "dc6cc3c2-8150-478e-96c8-99fd94216145",
   "metadata": {},
   "outputs": [],
   "source": [
    "err_1pow = onepow['1-sigma']"
   ]
  },
  {
   "cell_type": "raw",
   "id": "89705fc5-5904-47c6-8805-cddd2c840d04",
   "metadata": {},
   "source": [
    "\n",
    "plt.figure(figsize=(12,12))\n",
    "plt.xscale(\"log\")\n",
    "plt.yscale('log')\n",
    "#plt.errorbar(M_halo_theo, N_GC_Mill_Creaseytheo,  yerr=err_N_GC_Mill_Creaseytheo,  color = '#a5c215', fmt='--',label='Creasey model, P_Mill')\n",
    "plt.errorbar(M_halo_theo, N_GC_Planck_Creaseytheo,yerr=err_N_GC_Planck_Creaseytheo,color = '#186878', fmt='--',label='Creasey model, P_Planck')\n",
    "#plt.errorbar(M_halo_theo, N_GC_COCO_Creaseytheo,  yerr=err_N_GC_COCO_Creaseytheo,  color = '#c23215', fmt='--',label='Creasey model, P_COCO')\n",
    "#plt.errorbar(M_halo_theo2,N_GC_Mill_ourtheo,      yerr=err_N_GC_Mill_ourtheo,      color = '#a5c215',label='our model, P_Mill')\n",
    "plt.errorbar(M_halo_theo2,N_GC_Planck_ourtheo,    yerr=err_N_GC_Planck_ourtheo,    color = '#186878',label='our model, P_Planck')\n",
    "#plt.errorbar(M_halo_theo2,N_GC_COCO_ourtheo,      yerr=err_N_GC_COCO_ourtheo,      color = '#c23215',label='our model, P_COCO')\n",
    "\n",
    "plt.plot(mass_E, triangle, 'v-', label = 'EMOSAICS $M \\geq 10^5 M_\\odot$')\n",
    "#plt.plot(mass_E, square,   's-', label = 'EMOSAICS $M \\geq 10^5 M_\\odot$ and $[Fe/H]$')\n",
    "#plt.plot(mass_E, star, '*-',     label = 'EMOSAICS $M \\geq 10^5 M_\\odot$, $[Fe/H]$ and $R > R_{1/2 M_\\star}$')\n",
    "\n",
    "plt.plot(M_Creasey, N_Creasey, 'g+', label ='Creasey data')\n",
    "plt.plot(M_halo_F, N_GC_F, 'm+',     label ='Forbes18 data')\n",
    "\n",
    "plt.plot(M_h_1pow[group_pick-1],N_GC[group_pick-1],'.',color='#e11584', alpha =0.05, label = 'Yang cat, z<0.1, broken pow' )\n",
    "#plt.plot(M_h_1pow[group_04-1],N_GC[group_04-1],'.',color='#8F00FF', alpha =0.01, label = 'Yang cat, z<0.4, broken pow' )\n",
    "\n",
    "plt.plot(M_h_1pow[group_pick-1],N_GC_1pow[group_pick-1],'.',color='#95bb72', alpha =0.05, label = 'Yang cat, z<0.1, 1pow' )\n",
    "#plt.plot(M_h_1pow[group_04-1],N_GC_1pow[group_04-1],'.',color='#4b6043', alpha =0.01, label = 'Yang cat, z<0.4, 1pow' )\n",
    "plt.plot(M1,N1,'.')\n",
    "\n",
    "plt.xlabel('$M_h [M_\\odot]$')\n",
    "plt.ylabel('$N_{GC}$')\n",
    "plt.legend()\n",
    "#plt.savefig('tot_GC_z01_04.pdf')\n",
    "#plt.show()"
   ]
  },
  {
   "cell_type": "markdown",
   "id": "6c7135d1-3ae7-4105-a989-ef24eaa8c834",
   "metadata": {},
   "source": [
    "Now divide data into bins -> calculate the mean value of each bin and its error bar (https://github.com/sczesla/PyAstronomy/blob/master/src/pyasl/asl/binning.py)\n",
    "\n",
    "- If there is no error bar in each data point: error of a bin = error of the mean of N data points inside that bin;\n",
    "\\begin{align}\n",
    " error_{bin} = SEM = \\sqrt{\\frac{\\sum_i^N(x-\\bar{x})^2}{N(N-1)}}\n",
    "\\end{align}\n",
    "\n",
    "- There are error bars of data points (our case): error of a bin = mean error of N data points in that bin\n",
    "\\begin{align}\n",
    "  error_{bin} = \\frac{\\sqrt{\\sum_i^N(y_{err})^2}}{N} \n",
    "\\end{align}\n"
   ]
  },
  {
   "cell_type": "code",
   "execution_count": 97,
   "id": "daa3cba6-0db5-448b-a5cf-6d9ee9cb9ef6",
   "metadata": {},
   "outputs": [],
   "source": [
    "M1 = M_h_1pow[group_pick-1]\n",
    "N1 = N_GC_1pow[group_pick-1]\n",
    "N2 = N_GC[group_pick-1]"
   ]
  },
  {
   "cell_type": "code",
   "execution_count": 111,
   "id": "38ae6fdd-f7f8-4983-91c0-0d13c3ef4f66",
   "metadata": {},
   "outputs": [],
   "source": [
    "err1 = err_1pow[group_pick-1]\n",
    "err2 = err[group_pick-1]"
   ]
  },
  {
   "cell_type": "code",
   "execution_count": 98,
   "id": "0363efde-28cf-46c3-b04c-f791492563a3",
   "metadata": {},
   "outputs": [
    {
     "name": "stdout",
     "output_type": "stream",
     "text": [
      "[5.60628024e+10 6.16506172e+10 6.77953731e+10 7.45525807e+10\n",
      " 8.19832834e+10 9.01546090e+10 9.91403757e+10 1.09021759e+11\n",
      " 1.19888027e+11 1.31837342e+11 1.44977653e+11 1.59427667e+11\n",
      " 1.75317923e+11 1.92791971e+11 2.12007669e+11 2.33138607e+11\n",
      " 2.56375679e+11 2.81928804e+11 3.10028826e+11 3.40929594e+11\n",
      " 3.74910262e+11 4.12277804e+11 4.53369793e+11 4.98557446e+11\n",
      " 5.48248981e+11 6.02893302e+11 6.62984058e+11 7.29064097e+11\n",
      " 8.01730375e+11 8.81639347e+11 9.69512897e+11 1.06614486e+12\n",
      " 1.17240819e+12 1.28926285e+12 1.41776449e+12 1.55907397e+12\n",
      " 1.71446786e+12 1.88534995e+12 2.07326397e+12 2.27990750e+12\n",
      " 2.50714732e+12 2.75703627e+12 3.03183181e+12 3.33401640e+12\n",
      " 3.66631992e+12 4.03174434e+12 4.43359084e+12 4.87548963e+12\n",
      " 5.36143276e+12 5.89581014e+12 6.48344925e+12 7.12965873e+12\n",
      " 7.84027631e+12 8.62172159e+12 9.48105402e+12 1.04260366e+13\n",
      " 1.14652063e+13 1.26079506e+13 1.38645930e+13 1.52464858e+13\n",
      " 1.67661126e+13 1.84372016e+13 2.02748491e+13 2.22956561e+13\n",
      " 2.45178782e+13 2.69615906e+13 2.96488693e+13 3.26039908e+13\n",
      " 3.58536512e+13 3.94272072e+13 4.33569418e+13 4.76783555e+13\n",
      " 5.24304872e+13 5.76562670e+13 6.34029034e+13 6.97223108e+13\n",
      " 7.66715775e+13 8.43134819e+13 9.27170598e+13 1.01958228e+14\n",
      " 1.12120468e+14 1.23295586e+14 1.35584535e+14 1.49098331e+14\n",
      " 1.63959056e+14 1.80300958e+14 1.98271668e+14 2.18033531e+14\n",
      " 2.39765070e+14 2.63662606e+14 2.89942024e+14 3.18840728e+14\n",
      " 3.50619785e+14 3.85566280e+14 4.23995914e+14 4.66255854e+14\n",
      " 5.12727869e+14 5.63831779e+14 6.20029248e+14 6.81827954e+14]\n"
     ]
    }
   ],
   "source": [
    "#divide data into bins\n",
    "M_min = min(M1)\n",
    "M_max = max(M1)\n",
    "M_bin = np.logspace(np.log10(M_min),np.log10(M_max), 100)\n",
    "print(M_bin)"
   ]
  },
  {
   "cell_type": "code",
   "execution_count": 99,
   "id": "34a3f11e-08af-4ee2-b40a-224e7c0929c5",
   "metadata": {},
   "outputs": [],
   "source": [
    "binning = np.digitize(M1, M_bin,right=True)"
   ]
  },
  {
   "cell_type": "code",
   "execution_count": 100,
   "id": "a3f58a5f-92b0-424d-90b6-0d2db73e835d",
   "metadata": {},
   "outputs": [
    {
     "name": "stdout",
     "output_type": "stream",
     "text": [
      "[11 37 10 ...  2  9  5]\n"
     ]
    }
   ],
   "source": [
    "print(binning) #index of bin that this object belongs to"
   ]
  },
  {
   "cell_type": "code",
   "execution_count": 101,
   "id": "15604cd5-62df-45b8-8a28-b54aaae83e84",
   "metadata": {},
   "outputs": [],
   "source": [
    "M_sort = np.argsort(M1)"
   ]
  },
  {
   "cell_type": "code",
   "execution_count": 102,
   "id": "3c410e94-c217-4ddf-a176-cbdeba438574",
   "metadata": {},
   "outputs": [],
   "source": [
    "N_sort = N1[M_sort]\n",
    "err1_sort = err1[M_sort]"
   ]
  },
  {
   "cell_type": "code",
   "execution_count": 112,
   "id": "f9735a53-5aa5-4314-bda9-729b2263cbca",
   "metadata": {},
   "outputs": [],
   "source": [
    "N2_sort = N2[M_sort]\n",
    "err2_sort = err2[M_sort]"
   ]
  },
  {
   "cell_type": "code",
   "execution_count": 103,
   "id": "bd112db4-33f8-4742-9ae4-bc9e44730a7a",
   "metadata": {},
   "outputs": [],
   "source": [
    "bin_index, n_objects = np.unique(binning,return_counts=True)"
   ]
  },
  {
   "cell_type": "code",
   "execution_count": 104,
   "id": "335843bc-b01e-41ab-ab7a-5c65ed45cd1d",
   "metadata": {},
   "outputs": [
    {
     "name": "stdout",
     "output_type": "stream",
     "text": [
      "[ 0  1  2  3  4  5  6  7  8  9 10 11 12 13 14 15 16 17 18 19 20 21 22 23\n",
      " 24 25 26 27 28 29 30 31 32 33 34 35 36 37 38 39 40 41 42 43 44 45 46 47\n",
      " 48 49 50 51 52 53 54 55 56 57 58 59 60 61 62 63 64 65 66 67 68 69 70 71\n",
      " 72 73 74 75 76 77 78 79 80 81 82 83 84 85 86 87 89 90 92 93 99] [112157  64535  57455  54924  46644  47966  43049  37851  34252  44394\n",
      "  46231  41222  36744  32843  30543  25861  22569  16000  14742  11622\n",
      "  10584   9836   8243   7608   7234   6607   6196   5588   4927   4368\n",
      "   3971   3506   3207   2839   2262   1863   1625   1557   1385   1215\n",
      "   1048    963    779    638    606    522    440    384    355    269\n",
      "    286    228    223    184    156    135    136    116     89     79\n",
      "     61     62     63     41     39     31     30     22     25     16\n",
      "     22     17     18     15     15      7      9     13      4      8\n",
      "      7      4      6      6      3      5      4      4      4      2\n",
      "      3      1      1]\n"
     ]
    }
   ],
   "source": [
    "print(bin_index, n_objects) #bin index and the number of objects inside that bin"
   ]
  },
  {
   "cell_type": "code",
   "execution_count": 105,
   "id": "840c8b66-1870-48ca-b4b0-67df5c95cf4a",
   "metadata": {},
   "outputs": [],
   "source": [
    "N_mean = np.zeros(100)\n",
    "N_error = np.zeros(100)\n",
    "start = 0\n",
    "for i in range(0,len(bin_index)):\n",
    "    stop = start + n_objects[i] -1\n",
    "    N_mean[i]  = np.mean(N_sort[start:stop])\n",
    "    N_error[i] = np.sqrt(np.sum((err1_sort[start:stop])**2))/n_objects[i]\n",
    "    start = stop + 1"
   ]
  },
  {
   "cell_type": "code",
   "execution_count": 113,
   "id": "9c602629-3e44-4bbc-a856-83b93574bcb0",
   "metadata": {},
   "outputs": [
    {
     "name": "stderr",
     "output_type": "stream",
     "text": [
      "/cluster/home/lemn/.conda/envs/project2/lib/python3.10/site-packages/numpy/core/fromnumeric.py:3474: RuntimeWarning: Mean of empty slice.\n",
      "  return _methods._mean(a, axis=axis, dtype=dtype,\n",
      "/cluster/home/lemn/.conda/envs/project2/lib/python3.10/site-packages/numpy/core/_methods.py:189: RuntimeWarning: invalid value encountered in double_scalars\n",
      "  ret = ret.dtype.type(ret / rcount)\n"
     ]
    }
   ],
   "source": [
    "N_mean2 = np.zeros(100)\n",
    "N_error2 = np.zeros(100)\n",
    "start = 0\n",
    "for i in range(0,len(bin_index)):\n",
    "    stop = start + n_objects[i] -1\n",
    "    N_mean2[i]  = np.mean(N2_sort[start:stop])\n",
    "    N_error2[i] = np.sqrt(np.sum((err2_sort[start:stop])**2))/n_objects[i]\n",
    "    start = stop + 1"
   ]
  },
  {
   "cell_type": "raw",
   "id": "5bd22d12-5e74-45e6-8010-8d6e3ba9118c",
   "metadata": {},
   "source": [
    "#save data into file\n",
    "T = Table([M_bin,N_mean,N_error,N_mean2, N_error2],names=[ 'M_bin',\"NGCs 1pow\", 'sigma 1pow','NGCs broken pow', 'sigma broken pow'])\n",
    "T.write('/data/lemn/results/NGCs_massbin.fits', overwrite=True)"
   ]
  },
  {
   "cell_type": "code",
   "execution_count": 116,
   "id": "58e8f41f-f6bb-4678-9aad-1f4a5b7eefd4",
   "metadata": {},
   "outputs": [
    {
     "data": {
      "text/plain": [
       "<matplotlib.legend.Legend at 0x7faae7bd7a30>"
      ]
     },
     "execution_count": 116,
     "metadata": {},
     "output_type": "execute_result"
    },
    {
     "data": {
      "image/png": "[encoded data removed]",
      "text/plain": [
       "<Figure size 864x864 with 1 Axes>"
      ]
     },
     "metadata": {
      "needs_background": "light"
     },
     "output_type": "display_data"
    }
   ],
   "source": [
    "\n",
    "plt.figure(figsize=(12,12))\n",
    "plt.xscale(\"log\")\n",
    "plt.yscale('log')\n",
    "#plt.errorbar(M_halo_theo, N_GC_Mill_Creaseytheo,  yerr=err_N_GC_Mill_Creaseytheo,  color = '#a5c215', fmt='--',label='Creasey model, P_Mill')\n",
    "plt.errorbar(M_halo_theo, N_GC_Planck_Creaseytheo,yerr=err_N_GC_Planck_Creaseytheo,color = '#186878', fmt='--',label='Creasey model, P_Planck')\n",
    "#plt.errorbar(M_halo_theo, N_GC_COCO_Creaseytheo,  yerr=err_N_GC_COCO_Creaseytheo,  color = '#c23215', fmt='--',label='Creasey model, P_COCO')\n",
    "#plt.errorbar(M_halo_theo2,N_GC_Mill_ourtheo,      yerr=err_N_GC_Mill_ourtheo,      color = '#a5c215',label='our model, P_Mill')\n",
    "plt.errorbar(M_halo_theo2,N_GC_Planck_ourtheo,    yerr=err_N_GC_Planck_ourtheo,    color = '#186878',label='our model, P_Planck')\n",
    "#plt.errorbar(M_halo_theo2,N_GC_COCO_ourtheo,      yerr=err_N_GC_COCO_ourtheo,      color = '#c23215',label='our model, P_COCO')\n",
    "\n",
    "plt.plot(mass_E, triangle, 'v-', label = 'EMOSAICS $M \\geq 10^5 M_\\odot$')\n",
    "#plt.plot(mass_E, square,   's-', label = 'EMOSAICS $M \\geq 10^5 M_\\odot$ and $[Fe/H]$')\n",
    "#plt.plot(mass_E, star, '*-',     label = 'EMOSAICS $M \\geq 10^5 M_\\odot$, $[Fe/H]$ and $R > R_{1/2 M_\\star}$')\n",
    "\n",
    "plt.plot(M_Creasey, N_Creasey, 'g+', label ='Creasey data')\n",
    "plt.plot(M_halo_F, N_GC_F, 'm+',     label ='Forbes18 data')\n",
    "\n",
    "plt.errorbar(M_bin,N_mean,yerr=N_error,color='#e11500', label = 'Yang cat, z<0.1, 1-pow law' )\n",
    "plt.errorbar(M_bin,N_mean2,yerr=N_error2,color='#e11584', label = 'Yang cat, z<0.1, broken-pow law' )\n",
    "\n",
    "plt.xlabel('$M_h [M_\\odot]$')\n",
    "plt.ylabel('$N_{GC}$')\n",
    "plt.legend()\n",
    "#plt.savefig('tot_GC_z01_04.pdf')\n",
    "#plt.show()"
   ]
  },
  {
   "cell_type": "code",
   "execution_count": null,
   "id": "55c2eb5f-5b13-41f8-9fa7-0f184d164e43",
   "metadata": {},
   "outputs": [],
   "source": []
  }
 ],
 "metadata": {
  "kernelspec": {
   "display_name": "Python project2",
   "language": "python",
   "name": "project2"
  },
  "language_info": {
   "codemirror_mode": {
    "name": "ipython",
    "version": 3
   },
   "file_extension": ".py",
   "mimetype": "text/x-python",
   "name": "python",
   "nbconvert_exporter": "python",
   "pygments_lexer": "ipython3",
   "version": "3.10.5"
  }
 },
 "nbformat": 4,
 "nbformat_minor": 5
}

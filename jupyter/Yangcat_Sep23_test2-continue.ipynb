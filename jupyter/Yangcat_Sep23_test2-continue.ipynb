{
 "cells": [
  {
   "cell_type": "markdown",
   "id": "298200c0-16ee-49e6-9e33-4ea9612766b0",
   "metadata": {},
   "source": [
    "Sep 23 Yang et al. catalog\n",
    "\n",
    "- test other algorithm to find the fastest way doing sum up;\n",
    "\n",
    "- plot M_h vs N_GC;\n"
   ]
  },
  {
   "cell_type": "code",
   "execution_count": 1,
   "id": "f70cb10e-60ce-4585-8c25-54bef120a05c",
   "metadata": {},
   "outputs": [],
   "source": [
    "import numpy as np\n",
    "import matplotlib.pyplot as plt"
   ]
  },
  {
   "cell_type": "code",
   "execution_count": 2,
   "id": "45bc0e8e-fdc9-4aa3-88db-7f6cfa3eb00b",
   "metadata": {},
   "outputs": [],
   "source": [
    "from astropy.table import Table"
   ]
  },
  {
   "cell_type": "code",
   "execution_count": 3,
   "id": "9480bc2c-e8f2-4983-8560-0d70f0b41469",
   "metadata": {},
   "outputs": [],
   "source": [
    "import astropy.io.fits as fits"
   ]
  },
  {
   "cell_type": "code",
   "execution_count": 4,
   "id": "18c32f0d-38d8-480e-b02b-3d37a24a7261",
   "metadata": {},
   "outputs": [],
   "source": [
    "path='/data/lemn/DESIdata/'"
   ]
  },
  {
   "cell_type": "markdown",
   "id": "508c12a4-79df-492b-a603-bea5544e0688",
   "metadata": {},
   "source": [
    "- find galaxies in the same group;\n",
    "\n",
    "- sum up their GCs and plot M_h of group vs. #GCs."
   ]
  },
  {
   "cell_type": "code",
   "execution_count": 53,
   "id": "686237b9-9c4f-4ab7-bd9f-375d0f1a9df9",
   "metadata": {
    "tags": []
   },
   "outputs": [],
   "source": [
    "#load data\n",
    "d1 = fits.getdata('/data/lemn/results/M_h_NGCs_test2.fits')\n",
    "M_group = d1['M_h M_sun']\n",
    "N_GC_group = d1['NGCs']"
   ]
  },
  {
   "cell_type": "code",
   "execution_count": 54,
   "id": "461c39a9-83d4-48d1-8d4d-382bcdec767c",
   "metadata": {},
   "outputs": [],
   "source": [
    "d2 = fits.getdata('/data/lemn/results/list_NGCs_test2.fits')\n",
    "igroup_ID = d2['igroup']\n",
    "N_GC = d2['NGCs each gal']"
   ]
  },
  {
   "cell_type": "code",
   "execution_count": 55,
   "id": "c6c0b3d5-5e86-47f0-b896-c17ec6fcaa8f",
   "metadata": {},
   "outputs": [],
   "source": [
    "#load infor of members in group\n",
    "group = fits.getdata(path+'groups/DESIDR9_NGC_group.fits')"
   ]
  },
  {
   "cell_type": "code",
   "execution_count": 56,
   "id": "8a5bad8a-ccea-4373-a698-68c41b09d1d1",
   "metadata": {},
   "outputs": [],
   "source": [
    "group_ID = group['groupID'] #group ID correspond to M_group"
   ]
  },
  {
   "cell_type": "code",
   "execution_count": 74,
   "id": "e1cb47fa-5073-4be0-94a4-80b0e5da572e",
   "metadata": {},
   "outputs": [],
   "source": [
    "import time\n",
    "t0 = time.time()"
   ]
  },
  {
   "cell_type": "code",
   "execution_count": null,
   "id": "97929692-3d8c-491e-bf05-eac201ac577f",
   "metadata": {},
   "outputs": [],
   "source": [
    "for i in range(260000,280000):\n",
    "    a = np.argwhere(igroup_ID == group_ID[i])\n",
    "    for j in a:\n",
    "        N_GC_group[i] += N_GC[j]\n",
    "    igroup_ID = np.delete(igroup_ID, a)\n",
    "    N_GC      = np.delete(N_GC, a)\n",
    "    #print(len(igroup_ID))"
   ]
  },
  {
   "cell_type": "code",
   "execution_count": null,
   "id": "dfec3ca9-648c-4c89-ac63-dd1c4199a076",
   "metadata": {},
   "outputs": [],
   "source": [
    "t1 = time.time()\n",
    "print('running time', t1-t0)"
   ]
  },
  {
   "cell_type": "code",
   "execution_count": 73,
   "id": "1329f569-2069-4f60-9dcd-666acc2e9cdf",
   "metadata": {},
   "outputs": [
    {
     "name": "stdout",
     "output_type": "stream",
     "text": [
      "51440885 51440885 62774238\n"
     ]
    }
   ],
   "source": [
    "print(len(N_GC_group), len(group_ID), len(igroup_ID))"
   ]
  },
  {
   "cell_type": "markdown",
   "id": "601332f5-44a5-447f-9ca4-8ca23202fc4b",
   "metadata": {},
   "source": [
    "Running time (unit [s]):\n",
    "\n",
    "(0,1000):                      766.4202146530151 \n",
    "(1000,5000):                  3059.4419074058533 \n",
    "(5000,10.000):                3789.9600677490234 \n",
    "(10.000,20.000):              7581.686842679977  \n",
    "(20.000,100.000):           118082.42201137543   \n",
    "(100.000,100.100):              74.03855991363525\n",
    "(100.100,101.000):             661.8937373161316\n",
    "(101.000,105.000):            2937.6755962371826\n",
    "(105.000,110.000):            3683.331767320633\n",
    "(110.000,120.000):            7326.526811599731\n",
    "(120.000,130.000):            7309.3084926605225\n",
    "(130.000,200.000):           77144.1090528965\n",
    "(200.000,210.000):           10600.26831650734\n",
    "(210.000,220.000):            8669.623896360397\n",
    "(220.000,260.000):           41603.123871803284\n",
    "(260.000,280.000):\n",
    "(280.000,300.000):\n",
    "(300.000,400.000):\n",
    "(400.000,500.000):\n",
    "(500.000,1.000.000):\n",
    "(1.000.000,5.000.000):\n",
    "(5.000.000,10.000.000):\n",
    "(10.000.000,20.000.000):\n",
    "(20.000.000,30.000.000):\n",
    "(30.000.000,len(group_ID)):\n",
    "\n",
    "the running time of 10.000 ~ 2 hours, but the running time for 70.000 is not 7x2 hours, but 21 hours (1.5x bigger than I thought)."
   ]
  },
  {
   "cell_type": "code",
   "execution_count": null,
   "id": "4a4428e3-01ec-4e39-8ffd-e78b1b6dd968",
   "metadata": {},
   "outputs": [],
   "source": [
    "#save number of GCs of groups\n",
    "T = Table([M_group,N_GC_group],names=['M_h M_sun','NGCs'])\n",
    "T.write('/data/lemn/results/M_h_NGCs_test2.fits', overwrite=True)"
   ]
  },
  {
   "cell_type": "code",
   "execution_count": null,
   "id": "76e23b0d-63ab-4b34-96d1-6781eec8dd39",
   "metadata": {
    "tags": []
   },
   "outputs": [],
   "source": [
    "#save number of GCs of each remaining gal.\n",
    "T2 = Table([igroup_ID, N_GC],names=['igroup', 'NGCs each gal'])\n",
    "T2.write('/data/lemn/results/list_NGCs_test2.fits', overwrite=True)"
   ]
  },
  {
   "cell_type": "code",
   "execution_count": 118,
   "id": "79c71ffb-55a0-4259-9ef0-719255d5dd02",
   "metadata": {},
   "outputs": [],
   "source": [
    "#load theory results\n",
    "M_halo_theo                 = np.loadtxt(\"/data/lemn/theory_results/theory_Creaseymodel.txt\" ,usecols=(0))\n",
    "N_GC_Mill_Creaseytheo       = np.loadtxt(\"/data/lemn/theory_results/theory_Creaseymodel.txt\" ,usecols=(1))\n",
    "err_N_GC_Mill_Creaseytheo   = np.loadtxt(\"/data/lemn/theory_results/theory_Creaseymodel.txt\" ,usecols=(2))\n",
    "N_GC_Planck_Creaseytheo     = np.loadtxt(\"/data/lemn/theory_results/theory_Creaseymodel.txt\" ,usecols=(3))\n",
    "err_N_GC_Planck_Creaseytheo = np.loadtxt(\"/data/lemn/theory_results/theory_Creaseymodel.txt\" ,usecols=(4))\n",
    "N_GC_COCO_Creaseytheo       = np.loadtxt(\"/data/lemn/theory_results/theory_Creaseymodel.txt\" ,usecols=(5))\n",
    "err_N_GC_COCO_Creaseytheo   = np.loadtxt(\"/data/lemn/theory_results/theory_Creaseymodel.txt\" ,usecols=(6))\n",
    "M_halo_theo2                = np.loadtxt(\"/data/lemn/theory_results/theory_ourmodel.txt\"     ,usecols=(0))\n",
    "N_GC_Mill_ourtheo           = np.loadtxt(\"/data/lemn/theory_results/theory_ourmodel.txt\"     ,usecols=(1))\n",
    "err_N_GC_Mill_ourtheo       = np.loadtxt(\"/data/lemn/theory_results/theory_ourmodel.txt\"     ,usecols=(2))\n",
    "N_GC_Planck_ourtheo         = np.loadtxt(\"/data/lemn/theory_results/theory_ourmodel.txt\"     ,usecols=(3))\n",
    "err_N_GC_Planck_ourtheo     = np.loadtxt(\"/data/lemn/theory_results/theory_ourmodel.txt\"     ,usecols=(4))\n",
    "N_GC_COCO_ourtheo           = np.loadtxt(\"/data/lemn/theory_results/theory_ourmodel.txt\"     ,usecols=(5))\n",
    "err_N_GC_COCO_ourtheo       = np.loadtxt(\"/data/lemn/theory_results/theory_ourmodel.txt\"     ,usecols=(6))"
   ]
  },
  {
   "cell_type": "code",
   "execution_count": 119,
   "id": "b9909e9d-4b46-434d-9cee-49c4c9cf1acf",
   "metadata": {},
   "outputs": [],
   "source": [
    "# load EMOSAICS Fig.1 data\n",
    "mass_E   = np.loadtxt('/data/lemn/datalit/EMOSAICS_data.txt', usecols =(0))\n",
    "triangle = np.loadtxt('/data/lemn/datalit/EMOSAICS_data.txt', usecols =(1))\n",
    "square   = np.loadtxt('/data/lemn/datalit/EMOSAICS_data.txt', usecols =(2))\n",
    "star     = np.loadtxt('/data/lemn/datalit/EMOSAICS_data.txt', usecols =(3))"
   ]
  },
  {
   "cell_type": "code",
   "execution_count": 114,
   "id": "bb85dbf5-8fcb-4a5d-9a1e-dc3c0a59d146",
   "metadata": {},
   "outputs": [],
   "source": [
    "#load Forbes 18 data\n",
    "M_halo_F = np.loadtxt('/data/lemn/datalit/Forbes18_data.txt',usecols=(2))\n",
    "N_GC_F   = np.loadtxt('/data/lemn/datalit/Forbes18_data.txt',usecols=(3))\n",
    "M_halo_F = 10**M_halo_F"
   ]
  },
  {
   "cell_type": "code",
   "execution_count": 116,
   "id": "c9cb4501-f85e-4dce-93a3-d40bcd130e3f",
   "metadata": {},
   "outputs": [],
   "source": [
    "#load blue GCs from Creasey data\n",
    "M_Creasey = np.loadtxt('/data/lemn/datalit/Creasey_Data.txt',usecols=(0))\n",
    "N_Creasey = np.loadtxt('/data/lemn/datalit/Creasey_Data.txt',usecols=(1))"
   ]
  },
  {
   "cell_type": "code",
   "execution_count": 120,
   "id": "46cc79ad-ffc7-4512-a43d-582b7dbde401",
   "metadata": {},
   "outputs": [],
   "source": [
    "Atlas_H = fits.getdata('/data/lemn/results/M_h_NGCs_Harris-Atlas.fits')"
   ]
  },
  {
   "cell_type": "code",
   "execution_count": 121,
   "id": "ce6396aa-9af2-4039-bea5-b5ccc4802fc5",
   "metadata": {},
   "outputs": [],
   "source": [
    "check     = Atlas_H['check T F central']\n",
    "sum_NGC   = Atlas_H['NGCs']\n",
    "M_h_array = Atlas_H['M_h M_sun']"
   ]
  },
  {
   "cell_type": "code",
   "execution_count": 49,
   "id": "acb039bb-5291-42f8-9c2b-048af0a8e9ee",
   "metadata": {},
   "outputs": [],
   "source": [
    "i_plot = np.random.rand(42,100)\n",
    "i_plot *= 200000\n",
    "i_plot = i_plot.reshape(4200)"
   ]
  },
  {
   "cell_type": "code",
   "execution_count": 50,
   "id": "e366176d-31f4-4b53-b0fe-ad9627c2fff3",
   "metadata": {},
   "outputs": [],
   "source": [
    "i_plot = i_plot.astype(int)"
   ]
  },
  {
   "cell_type": "code",
   "execution_count": 51,
   "id": "361af12c-1a80-4418-b287-1615e18a486f",
   "metadata": {},
   "outputs": [
    {
     "name": "stdout",
     "output_type": "stream",
     "text": [
      "[196321 103139  87584 ... 123166  90538  51241]\n"
     ]
    }
   ],
   "source": [
    "print(i_plot)"
   ]
  },
  {
   "cell_type": "code",
   "execution_count": 52,
   "id": "bd48736a-290d-43ce-b70d-85eea0842fdf",
   "metadata": {},
   "outputs": [
    {
     "data": {
      "image/png": "[encoded data removed]",
      "text/plain": [
       "<Figure size 432x288 with 1 Axes>"
      ]
     },
     "metadata": {
      "needs_background": "light"
     },
     "output_type": "display_data"
    }
   ],
   "source": [
    "for i in i_plot:\n",
    "    plt.loglog(M_group[i], N_GC_group[i],'r*', alpha = 1 )"
   ]
  },
  {
   "cell_type": "code",
   "execution_count": null,
   "id": "218fc08d-af9a-493e-a0ae-10d529509386",
   "metadata": {},
   "outputs": [],
   "source": [
    "plt.figure(figsize=(12,12))\n",
    "plt.xscale(\"log\")\n",
    "plt.yscale('log')\n",
    "plt.errorbar(M_halo_theo, N_GC_Mill_Creaseytheo,  yerr=err_N_GC_Mill_Creaseytheo,  color = '#a5c215', fmt='--',label='Creasey model, P_Mill')\n",
    "plt.errorbar(M_halo_theo, N_GC_Planck_Creaseytheo,yerr=err_N_GC_Planck_Creaseytheo,color = '#186878', fmt='--',label='Creasey model, P_Planck')\n",
    "plt.errorbar(M_halo_theo, N_GC_COCO_Creaseytheo,  yerr=err_N_GC_COCO_Creaseytheo,  color = '#c23215', fmt='--',label='Creasey model, P_COCO')\n",
    "plt.errorbar(M_halo_theo2,N_GC_Mill_ourtheo,      yerr=err_N_GC_Mill_ourtheo,      color = '#a5c215',label='our model, P_Mill')\n",
    "plt.errorbar(M_halo_theo2,N_GC_Planck_ourtheo,    yerr=err_N_GC_Planck_ourtheo,    color = '#186878',label='our model, P_Planck')\n",
    "plt.errorbar(M_halo_theo2,N_GC_COCO_ourtheo,      yerr=err_N_GC_COCO_ourtheo,      color = '#c23215',label='our model, P_COCO')\n",
    "\n",
    "plt.plot(mass_E, triangle, 'v-', label = 'EMOSAICS $M \\geq 10^5 M_\\odot$')\n",
    "plt.plot(mass_E, square,   's-', label = 'EMOSAICS $M \\geq 10^5 M_\\odot$ and $[Fe/H]$')\n",
    "plt.plot(mass_E, star, '*-',     label = 'EMOSAICS $M \\geq 10^5 M_\\odot$, $[Fe/H]$ and $R > R_{1/2 M_\\star}$')\n",
    "\n",
    "plt.plot(M_Creasey, N_Creasey, 'k.', label ='Creasey data')\n",
    "\n",
    "\n",
    "for i in i_plot:\n",
    "    plt.plot(M_group[i], N_GC_group[i],'r*', alpha = 1 )\n",
    "\n",
    "for i in range(0,len(check)):\n",
    "    if check[i] == 1:\n",
    "        plt.plot(M_h_array[i],sum_NGC[i], 'bo')#, label = '#GCs in halos, true cen')\n",
    "\n",
    "plt.xlabel('$M_h [M_\\odot]$')\n",
    "plt.ylabel('$N_{GC}$')\n",
    "plt.legend()#loc=(1.1,0))\n",
    "#plt.savefig('tot_GC2.pdf')\n",
    "plt.show()"
   ]
  },
  {
   "cell_type": "code",
   "execution_count": null,
   "id": "ef14ba12-8c37-405a-914e-be0986821a84",
   "metadata": {},
   "outputs": [],
   "source": []
  }
 ],
 "metadata": {
  "kernelspec": {
   "display_name": "Python project2",
   "language": "python",
   "name": "project2"
  },
  "language_info": {
   "codemirror_mode": {
    "name": "ipython",
    "version": 3
   },
   "file_extension": ".py",
   "mimetype": "text/x-python",
   "name": "python",
   "nbconvert_exporter": "python",
   "pygments_lexer": "ipython3",
   "version": "3.10.5"
  }
 },
 "nbformat": 4,
 "nbformat_minor": 5
}

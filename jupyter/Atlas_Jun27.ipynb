{
 "cells": [
  {
   "cell_type": "markdown",
   "id": "132bd1df-2723-4f22-a698-3a9806a799c3",
   "metadata": {},
   "source": [
    "Jun 27-30\n",
    "\n",
    "Continue of the work in Atlas-data.ipynb: find the matched galaxies in Harris and Atlas catalogs -> use the stellar mass from Atlas to find halo mass for galaxies in Harris catalog.\n",
    "\n",
    "Here we use the petrosian radius to find whether the two galaxies match:\n",
    "\n",
    "- Delete the overlaped galaxies inside Harris catalog (some of them have different number of GCs, I kept the ones that have larger number of GCs): two NGC4417, two VCC-1386, ESO-358-g01 vs IC1919;  \n",
    "\n",
    "- Compare the two catalogs by source.match_to_catalog_sky(catalog);\n",
    "\n",
    "- Compare the matched distances to the pestrosian radius of corresponding galaxies inside Atlas catalog;\n",
    "\n",
    "- Confirm whether it is the same galaxy: if d2d <= pestrosian radius -> same galaxy!"
   ]
  },
  {
   "cell_type": "code",
   "execution_count": 1,
   "id": "9b37de62-8893-4816-810d-22f8fc95da23",
   "metadata": {},
   "outputs": [],
   "source": [
    "import numpy as np\n",
    "import matplotlib.pyplot as plt\n",
    "import astropy.io.fits as pyfits\n",
    "\n",
    "path ='/home/ngoc/Downloads/GCs/'\n",
    "path1 ='/home/ngoc/Downloads/GCs/code/'"
   ]
  },
  {
   "cell_type": "code",
   "execution_count": 2,
   "id": "43d54610-78e0-450c-abf0-466f4702cbce",
   "metadata": {},
   "outputs": [],
   "source": [
    "from astropy.table import Table\n",
    "from astropy.coordinates import Angle"
   ]
  },
  {
   "cell_type": "code",
   "execution_count": 3,
   "id": "648ceb5d-e69b-4994-9ddb-8020ad09e2df",
   "metadata": {},
   "outputs": [],
   "source": [
    "from astropy import units as u\n",
    "from astropy.coordinates import SkyCoord"
   ]
  },
  {
   "cell_type": "code",
   "execution_count": 4,
   "id": "432cf6af-4734-42d3-98d5-a40f138a7d18",
   "metadata": {},
   "outputs": [],
   "source": [
    "data = pyfits.getdata(path+'nsa_v0_1_2.fits')\n",
    "data_list = []\n",
    "data_list.append(data)"
   ]
  },
  {
   "cell_type": "code",
   "execution_count": 5,
   "id": "f71c6a37-645c-46c3-9dd5-08803cefe1d3",
   "metadata": {},
   "outputs": [],
   "source": [
    "# load the coordinates from Atlas\n",
    "ra_Atlas  = data['RA']     #[degree]\n",
    "dec_Atlas = data['DEC']    #[degree]\n",
    "name_Atlas= data['IAUNAME']\n",
    "#load the galaxy's stellar mass from Atlas\n",
    "m_stellar = data['MASS']\n",
    "r_pe      = data['PETROTHETA'] #petrosian radius of the galaxies [arcsec]"
   ]
  },
  {
   "cell_type": "code",
   "execution_count": 6,
   "id": "98989682-87d3-4f30-a122-b24c137971d8",
   "metadata": {},
   "outputs": [],
   "source": [
    "#load Harris 13 (RA, DEC) coordinates data \n",
    "ra_H  = np.loadtxt(path1+'GC_cat_H13.txt', usecols=(2)) #[hour]\n",
    "dec_H = np.loadtxt(path1+'GC_cat_H13.txt', usecols=(3)) #[degree]\n",
    "N_GC  = np.loadtxt(path1+'GC_cat_H13.txt', usecols=(13)) \n",
    "\n",
    "#convert [hour] -> [degree] for ra_H\n",
    "ra_H  = Angle(ra_H, u.hour)\n",
    "dec_H = Angle(dec_H, u.degree)"
   ]
  },
  {
   "cell_type": "code",
   "execution_count": 7,
   "id": "9e58d52a-af52-4f14-a498-c73c8e4b4394",
   "metadata": {},
   "outputs": [],
   "source": [
    "ra_H = ra_H.degree #convert RA from hour->degree"
   ]
  },
  {
   "cell_type": "code",
   "execution_count": 8,
   "id": "440a2af4-c1a3-4828-b088-12a31ba67d7b",
   "metadata": {},
   "outputs": [],
   "source": [
    "#check to find the overlapsed galaxies inside Harris catalog -> remove it by hand\n",
    "for i in range(0,len(ra_H)):\n",
    "    for j in range(i+1,len(ra_H)):\n",
    "        if (i!= j and ra_H[i] == ra_H[j] and dec_H[i] == dec_H[j]):\n",
    "            print(i, j , ra_H[i], ra_H[j], dec_H[i],dec_H[j])"
   ]
  },
  {
   "cell_type": "code",
   "execution_count": 9,
   "id": "e0b25ddc-fb0d-4ea5-a9ed-49c29b1b9565",
   "metadata": {},
   "outputs": [],
   "source": [
    "#coordinates of Atlas catalog\n",
    "c_Atlas = SkyCoord(ra=ra_Atlas*u.degree, dec=dec_Atlas*u.degree, frame='icrs')"
   ]
  },
  {
   "cell_type": "code",
   "execution_count": 10,
   "id": "15aef35f-b7b8-45c2-87b5-582d290cfd53",
   "metadata": {},
   "outputs": [],
   "source": [
    "#coordinates of Harris13 catalog\n",
    "c_Harris = SkyCoord(ra=ra_H*u.degree, dec=dec_H, frame='icrs') #since ra_H now is the value->multiplied to unit"
   ]
  },
  {
   "cell_type": "code",
   "execution_count": 11,
   "id": "d08c93d7-d82b-4c5c-b833-675533eccc89",
   "metadata": {},
   "outputs": [],
   "source": [
    "#source.match_to_catalog_sky(catalog)\n",
    "idx, d2d, d3d = c_Harris.match_to_catalog_sky(c_Atlas)"
   ]
  },
  {
   "cell_type": "code",
   "execution_count": 12,
   "id": "f96f8e8f-c079-4ae1-b11a-7c603229f561",
   "metadata": {},
   "outputs": [],
   "source": [
    "d2d = d2d.arcsec #convert d2d to [arcsec], then take the value and remove the unit\n",
    "#print(d2d)"
   ]
  },
  {
   "cell_type": "raw",
   "id": "0228762f-4208-4ce3-81f5-3782b539f130",
   "metadata": {},
   "source": [
    "print(d3d)"
   ]
  },
  {
   "cell_type": "code",
   "execution_count": 13,
   "id": "2733fbf3-a91a-4983-b438-65be3a8327e7",
   "metadata": {},
   "outputs": [
    {
     "name": "stdout",
     "output_type": "stream",
     "text": [
      "total number of galaxies in Harris 418\n",
      "[    -1 112939     -1     -1     -1 114192 114303 114305     -1     -1\n",
      "     -1     -1 115241     -1 115775 116080 116190 116462     -1     -1\n",
      " 116953     -1     -1     -1     -1     -1     -1     -1     -1     -1\n",
      " 118591     -1 118810     -1     -1     -1     -1     -1 119413     -1\n",
      "     -1     -1     -1     -1     -1     -1     -1     -1     -1     -1\n",
      "     -1     -1     -1     -1     -1     -1     -1     -1     -1     -1\n",
      "     -1     -1     -1     -1     -1     -1     -1     -1     -1     -1\n",
      "     -1     -1     -1     -1     -1     -1     -1     -1     -1     -1\n",
      "     -1     -1     -1     -1     -1     -1     -1     -1     -1     -1\n",
      "     -1     -1     -1     -1     -1     -1     -1     -1     -1     -1\n",
      "     -1     -1     -1     -1     -1     -1     -1     -1     -1     -1\n",
      "     -1     -1     -1     -1     -1     -1     -1     -1     -1     -1\n",
      "     -1     -1     -1     -1  74602 138271     -1 121417     -1     -1\n",
      "     -1 121562 121572 121653     -1     -1     -1     -1     -1 121974\n",
      " 138817     -1     -1     -1     -1 138899 139005 122903  58965     -1\n",
      "     -1 139079     -1     -1 123677 139196 139206  66962 123797 139266\n",
      " 139317 139425     -1 139437     -1     -1 124569 124599 139515 124634\n",
      "  34835     -1 101814  34891     -1     -1     -1  12574  67670  44083\n",
      " 126164 126171  67664 140128     -1     -1  67651  67735 126275  59854\n",
      "  59830     -1 126355 126370 140237  92210 126376 126388     -1 140261\n",
      " 140264 126431 126438 140286 140287 140297  60429     -1 126469 126477\n",
      "  44206     -1 126494 105679 140323 126500 144479 126508 126516  59910\n",
      "  44222  59948 140350 126545  59875 126556 140364 140370 126574 126581\n",
      " 140378 126586  60512  44156  59873     -1 126603  44281  59938     -1\n",
      "  59920  60497 140398 126628 126630     -1 126640  59870     -1 126652\n",
      " 126653  59960     -1     -1  44233 126663  59959  59961 126671  44249\n",
      " 126679  60523 126685 105685     -1  60522 126700 140434     -1  60015\n",
      " 140444  44333 144480     -1     -1 105738  44330 140460 105728     -1\n",
      " 126752 126753  60014 126763 140470     -1  60019  60002 140482  59968\n",
      " 140492     -1  59997     -1 126805 140504 126806 140515  59988     -1\n",
      "     -1 140525  44348  67851 126911 126912  44306  60037  67870  92874\n",
      " 126959  44358     -1  67847 127007  63090 140580     -1  63087 127051\n",
      " 127085  12873 140598 127139 127192 127247 140622  69071  63065 127394\n",
      " 140678 127489 127561     -1  93050  93175  93449 140743  93454  93229\n",
      " 127750 127756  93244  93243 140765  93436 140772 127802  93471  93499\n",
      "     -1     -1     -1     -1     -1     -1     -1     -1     -1     -1\n",
      "     -1 128414     -1     -1     -1     -1     -1     -1     -1 128716\n",
      "  47667 129558     -1 130346 130395  13832 141954     -1 130531 130547\n",
      " 142220 130831     -1  89134  89134  89386  89663  89575 131110 131243\n",
      "     -1  26662 131436  26802 132240     -1     -1     -1     -1     -1\n",
      "     -1     -1     -1     -1     -1     -1     -1     -1 133962 133969\n",
      " 133978     -1 134435 135105 135848     -1 136362     -1]\n",
      "total number of matched galaxies is 220\n"
     ]
    }
   ],
   "source": [
    "i_count = len(idx)\n",
    "print('total number of galaxies in Harris', i_count)\n",
    "for i in range (0, len(idx)):\n",
    "    if (d2d[i] > r_pe[i]):\n",
    "        idx[i] = -1   #remotve the matches that larger than petrosian radius of galaxies\n",
    "        i_count -= 1\n",
    "print(idx)\n",
    "print('total number of matched galaxies is', i_count)"
   ]
  },
  {
   "cell_type": "code",
   "execution_count": 67,
   "id": "6cefa26d-fa63-44a7-b7e8-a19c55a1fb32",
   "metadata": {},
   "outputs": [
    {
     "name": "stdout",
     "output_type": "stream",
     "text": [
      "383 384\n"
     ]
    }
   ],
   "source": [
    "for i in range(0,len(idx)):\n",
    "    for j in range(i+1,len(idx)):\n",
    "        if i!=j and idx[i] != -1 and idx[j] != -1 and idx[i] == idx[j]:\n",
    "            print (i,j)\n",
    "\n",
    "#=> the two look like they are going to merge"
   ]
  },
  {
   "cell_type": "code",
   "execution_count": 68,
   "id": "a69e364b-b6c4-4552-8079-00ab05170442",
   "metadata": {},
   "outputs": [],
   "source": [
    "#take the stellar mass from Atlas catalog\n",
    "N_GC_match      = np.zeros(i_count)\n",
    "m_stellar_match = np.zeros(i_count)\n",
    "ii = 0\n",
    "\n",
    "for i in range (0, len(idx)):\n",
    "    if (idx[i] != -1):\n",
    "        N_GC_match[ii]      = N_GC[i]\n",
    "        m_stellar_match[ii] = m_stellar[idx[i]]\n",
    "        ii += 1"
   ]
  },
  {
   "cell_type": "code",
   "execution_count": 83,
   "id": "b81bee65-cd13-4a49-86b6-9690ff1625e2",
   "metadata": {},
   "outputs": [],
   "source": [
    "ra_H  = np.loadtxt(path1+'GC_cat_Harris13.txt', usecols=(2)) #[hour]\n",
    "dec_H = np.loadtxt(path1+'GC_cat_Harris13.txt', usecols=(3)) #[degree]\n",
    "\n",
    "ra_match     = np.zeros(i_count)\n",
    "dec_match    = np.zeros(i_count)\n",
    "id_match     = np.zeros(i_count)  #Harris ID of matching galaxies\n",
    "\n",
    "ii = 0\n",
    "\n",
    "for i in range (0, len(idx)):\n",
    "    if (idx[i] != -1):\n",
    "        ra_match[ii]  = ra_H[i]\n",
    "        dec_match[ii] = dec_H[i]\n",
    "        id_match[ii]  = i      #+1 since Fortran index start from 1, save the idx of gal in H catalog\n",
    "        \n",
    "        ii += 1"
   ]
  },
  {
   "cell_type": "code",
   "execution_count": 84,
   "id": "e50b7cb5-0f48-4aeb-bf2d-db6226947e4d",
   "metadata": {},
   "outputs": [
    {
     "name": "stdout",
     "output_type": "stream",
     "text": [
      "1.0 0.0328381 -15.4609285 10.213769585182117\n",
      "5.0 0.6493737 48.3373957 3.9168654798932687\n",
      "6.0 0.6728045 41.6853789 9.593188603948612\n",
      "7.0 0.7116069 40.8651653 10.480734616886606\n",
      "12.0 0.9148683 -37.6844766 7.499682437291823\n",
      "14.0 1.1235073 -69.8774177 10.453277546257377\n",
      "15.0 1.3351857 3.4153385 10.984670994404336\n",
      "16.0 1.41325 9.5387778 10.624365313952257\n",
      "17.0 1.4289779 -1.3794906 10.570991382855267\n",
      "20.0 1.6919139 -65.6159851 8.265048504280452\n",
      "30.0 2.6771376 39.0575235 10.430611845670349\n",
      "32.0 2.6958209 0.4431773 11.133537927374515\n",
      "38.0 3.3043271 -66.4975862 10.873723942056989\n",
      "124.0 7.9505994 14.3910145 11.087284146833579\n",
      "125.0 8.2624655 58.3208441 7.876511629199096\n",
      "127.0 8.6325556 -57.9738889 10.08497647196986\n",
      "131.0 9.1441444 -9.62525 7.039172592228009\n",
      "132.0 9.1937446 60.0372538 10.087936314662906\n",
      "133.0 9.206775 35.0274167 11.14778613422666\n",
      "139.0 9.909134 -28.2980459 10.303909977637147\n",
      "140.0 9.9258686 69.0654379 9.159526345976879\n",
      "145.0 10.134985 68.3992608 9.64098055412254\n",
      "146.0 10.2114599 3.1293359 8.564442777131347\n",
      "147.0 10.3899275 12.8350704 10.259025446425486\n",
      "148.0 10.3908331 19.8983583 10.983033846633415\n",
      "151.0 10.5001969 -35.3255622 9.67692953840812\n",
      "154.0 10.7861083 72.8396667 10.145809342182064\n",
      "155.0 10.7951044 13.9856408 10.604802470158505\n",
      "156.0 10.7971083 12.5816111 10.22186068567136\n",
      "157.0 10.8046995 12.6294009 7.897945339998693\n",
      "158.0 10.8504167 13.3333333 10.43958617757298\n",
      "159.0 10.8544917 27.9748333 9.094905007864416\n",
      "160.0 10.9086324 17.2847178 10.142860121384375\n",
      "161.0 11.0051603 13.9011902 11.25817325997258\n",
      "163.0 11.166028 -37.539245 11.14967426326153\n",
      "166.0 11.2214178 -26.754864 9.72555587977488\n",
      "167.0 11.2574983 18.1103312 10.394111015546173\n",
      "168.0 11.2818155 18.0518988 10.206981188649523\n",
      "169.0 11.2830365 18.1485382 10.623631822507194\n",
      "170.0 11.3070194 58.7862222 11.166164163635665\n",
      "172.0 11.6992674 -6.1555814 11.075695070055582\n",
      "173.0 11.7339363 19.9496957 8.51763300321201\n",
      "177.0 12.0096242 -17.8424655 11.03198180540036\n",
      "178.0 12.0741877 1.8959276 9.283109112244201\n",
      "179.0 12.1561944 13.9924123 7.756321446425245\n",
      "180.0 12.1730797 10.1884664 8.955703140321459\n",
      "181.0 12.1760162 30.4015662 9.748452513688255\n",
      "182.0 12.184549 50.4849043 8.59092978109325\n",
      "183.0 12.1854828 14.2749158 7.78474560805112\n",
      "186.0 12.2513933 33.1972193 9.000133617066883\n",
      "187.0 12.2534963 14.4328746 8.65682078810891\n",
      "188.0 12.2611473 15.0055694 8.626001012846697\n",
      "189.0 12.2650908 13.1495788 6.844563963838922\n",
      "190.0 12.276029 13.0314159 8.5968350809578\n",
      "192.0 12.29203 14.3556 9.363804575924366\n",
      "193.0 12.3141181 7.8616444 10.82155384121927\n",
      "194.0 12.3230597 5.8250408 10.060378464087517\n",
      "195.0 12.3251724 14.8775797 7.7240764416808\n",
      "196.0 12.327428 29.8830783 10.243967206194595\n",
      "197.0 12.3292582 12.7984218 10.195094158324055\n",
      "199.0 12.3382472 75.3709444 9.26016548320092\n",
      "200.0 12.346896 17.4871256 8.481159863794613\n",
      "201.0 12.3513338 11.7546998 7.720120256508688\n",
      "202.0 12.36395 8.541 8.56714088240016\n",
      "203.0 12.3690531 9.8944991 7.98667659096737\n",
      "204.0 12.37075 7.1672222 8.981234261594768\n",
      "205.0 12.3720924 14.7608234 8.60452049565579\n",
      "206.0 12.3780998 7.9503588 9.301301883115812\n",
      "208.0 12.39212 17.7946 9.712319442254092\n",
      "209.0 12.3931399 16.7224629 10.181353800723763\n",
      "210.0 12.3993938 16.6934705 9.995432475130333\n",
      "212.0 12.4078472 7.3175759 7.718490794000978\n",
      "213.0 12.4132726 8.9915323 8.652004291255805\n",
      "214.0 12.4134315 18.1950949 10.180414808719894\n",
      "215.0 12.4153949 11.7042761 10.72749413856369\n",
      "216.0 12.4176847 12.8870714 11.973836590956328\n",
      "217.0 12.4200851 14.7622825 9.867716197480863\n",
      "218.0 12.420754 15.6074246 10.439813551270882\n",
      "219.0 12.4233458 18.1907561 9.184255068741193\n",
      "220.0 12.4282469 12.8104541 8.95101564465996\n",
      "221.0 12.432742 10.0537409 9.106722852453428\n",
      "222.0 12.4349003 12.5596651 8.745928543422657\n",
      "223.0 12.4365983 12.9461081 8.819875367875307\n",
      "224.0 12.4396125 12.7866299 8.925058893138104\n",
      "225.0 12.44641 12.454047 9.943454866868272\n",
      "226.0 12.4473867 9.5842429 8.722880295015651\n",
      "227.0 12.4484701 10.6657846 8.311293476821458\n",
      "228.0 12.4508701 12.5605406 8.368667810738444\n",
      "229.0 12.4551879 8.212848 9.201667087437025\n",
      "230.0 12.4576049 12.2903069 9.698907250156116\n",
      "231.0 12.4601861 8.1543056 10.017429683949437\n",
      "232.0 12.4612448 13.0789039 8.225709847344275\n",
      "233.0 12.4652328 8.0904719 9.28411797615453\n",
      "234.0 12.4677458 9.8036849 9.546726165449542\n",
      "236.0 12.46953 12.8068 8.76135381783926\n",
      "237.0 12.4697278 44.0930273 9.019872900933157\n",
      "238.0 12.4700923 10.297706 9.500788822730492\n",
      "240.0 12.4742934 14.155745 8.781287066217583\n",
      "241.0 12.4744587 12.8236608 8.734529782439152\n",
      "242.0 12.475095 7.32525 8.16845590240275\n",
      "243.0 12.4786925 11.7550552 9.397329872525145\n",
      "244.0 12.4826502 13.2418293 10.557980755686405\n",
      "246.0 12.48672 7.8787 9.716416776867623\n",
      "247.0 12.4892528 8.1565556 7.835442375784397\n",
      "249.0 12.4963306 8.0003889 10.960507852389945\n",
      "250.0 12.4969066 13.4293972 10.184023077483332\n",
      "251.0 12.4982081 14.0686238 9.99434162383622\n",
      "254.0 12.5014329 8.0737952 9.690233720561313\n",
      "255.0 12.5028757 10.7795088 8.570044962355006\n",
      "256.0 12.5044515 13.3075107 10.154779543123082\n",
      "257.0 12.5049358 12.3268025 9.377445109829802\n",
      "258.0 12.5051053 13.5775551 9.45200514455003\n",
      "259.0 12.5088833 12.4902222 9.537698795206472\n",
      "260.0 12.5112912 9.0156507 8.759244625143582\n",
      "261.0 12.5127518 11.343224 8.504872810014358\n",
      "262.0 12.5131411 7.6057586 10.99275464034676\n",
      "263.0 12.5137243 12.391217 9.641734136568491\n",
      "265.0 12.5160333 12.2703333 8.225047881879995\n",
      "266.0 12.51698 7.7233 10.269956705731547\n",
      "267.0 12.522275 14.1151 10.614761890716757\n",
      "269.0 12.5243049 10.936096 8.906933701059085\n",
      "270.0 12.5309392 12.6566595 8.64953570170101\n",
      "271.0 12.5341003 11.8900222 9.272298123542667\n",
      "272.0 12.5372808 10.2514683 9.245184311842618\n",
      "275.0 12.5459661 0.1146246 9.587716638865311\n",
      "276.0 12.5513766 16.2654979 8.46827263715602\n",
      "277.0 12.5537421 9.3972438 6.362643844355361\n",
      "278.0 12.5538613 10.9285504 8.152238134591896\n",
      "280.0 12.5555005 12.8535563 8.019430232120426\n",
      "281.0 12.5596318 11.2619432 8.005416546624115\n",
      "282.0 12.5604847 7.873191 9.221743794711543\n",
      "283.0 12.5643352 13.3225267 7.5518985047342735\n",
      "284.0 12.5654725 5.7185909 10.149148953583762\n",
      "286.0 12.5683602 11.3212251 8.62384967406119\n",
      "287.0 12.5685442 12.7415603 9.26802273851772\n",
      "288.0 12.5698661 12.048979 7.76652622481627\n",
      "289.0 12.5773429 15.6027837 8.548364924953452\n",
      "290.0 12.5908932 12.7503131 9.022310128006634\n",
      "292.0 12.5936793 12.3820387 9.879093052273952\n",
      "294.0 12.5944024 12.5561149 10.68630590425814\n",
      "295.0 12.6057747 25.987185 8.58867370320252\n",
      "296.0 12.6068829 10.3846685 10.225875821028906\n",
      "297.0 12.607493 11.4393999 10.601424024532374\n",
      "298.0 12.6148409 7.2466966 9.208874918439614\n",
      "301.0 12.62378 14.3134 10.599879189158127\n",
      "302.0 12.62515 9.5551111 8.506034299811981\n",
      "303.0 12.6352499 10.0824523 8.675662514367916\n",
      "304.0 12.6512929 14.7303293 9.20476628759679\n",
      "305.0 12.6664972 61.6090333 10.675141285883528\n",
      "306.0 12.6665134 -11.6230104 8.82088464984153\n",
      "307.0 12.6697924 9.8961063 8.869780621418291\n",
      "308.0 12.6703765 12.8748719 9.160104817653194\n",
      "309.0 12.6721322 15.935216 10.547873914572127\n",
      "310.0 12.6813645 26.7280487 8.097791076970386\n",
      "311.0 12.6814207 10.4761071 8.626063480565044\n",
      "313.0 12.6876997 11.3872355 6.737283151060587\n",
      "314.0 12.689043 14.700656 10.376681182231911\n",
      "315.0 12.6924278 7.3148511 8.320527798921722\n",
      "316.0 12.6942766 12.2473845 8.528510771651735\n",
      "318.0 12.7006372 11.6473083 7.688133271120733\n",
      "319.0 12.7024073 11.7543196 9.991939193494938\n",
      "320.0 12.7029778 7.6769243 10.046875479998093\n",
      "321.0 12.713175 11.4424444 10.845541571684656\n",
      "322.0 12.7137983 2.6876184 8.506891217681202\n",
      "323.0 12.7161205 10.6819293 10.879979684070427\n",
      "324.0 12.727789 11.5526723 10.074269164504004\n",
      "325.0 12.7422139 11.1905278 9.238541853654183\n",
      "326.0 12.7556684 13.6928515 10.900856217269823\n",
      "327.0 12.7596327 27.0607672 9.128916887321243\n",
      "328.0 12.7875832 10.2035497 8.618646947238934\n",
      "329.0 12.7890441 12.1665506 10.639827920538988\n",
      "330.0 12.8099952 -5.800602 10.488426827667391\n",
      "331.0 12.8715444 11.3136389 10.34285091455406\n",
      "332.0 12.8822015 11.2307746 11.107076978740226\n",
      "334.0 12.9532222 -17.4094444 11.04242345229444\n",
      "335.0 12.9567653 27.4976006 10.503628857278136\n",
      "336.0 12.9591072 27.6102687 10.454455342970062\n",
      "337.0 12.9856104 27.784217 10.437788565031479\n",
      "338.0 12.9871855 28.0764001 10.15143240670484\n",
      "339.0 12.9914916 27.8503408 11.140936943392978\n",
      "340.0 12.9932422 27.9593362 10.641072404737846\n",
      "341.0 12.9993938 28.2464297 10.699676627905841\n",
      "342.0 13.0012407 27.987505 10.08657224070888\n",
      "343.0 13.0022101 28.0786343 11.293811658584133\n",
      "344.0 13.0022369 27.9770315 9.89173269131427\n",
      "345.0 13.0040979 28.0413075 10.376594455778978\n",
      "346.0 13.0061434 28.0469936 10.133613032535724\n",
      "347.0 13.0113535 27.9964853 10.362350390541033\n",
      "348.0 13.0135192 28.0907897 10.528573388716914\n",
      "349.0 13.015133 28.0074725 11.096156996307165\n",
      "361.0 13.4979698 47.195151 9.9080052963484\n",
      "369.0 13.8208889 60.1903889 10.616840433578048\n",
      "370.0 14.0534969 54.349058 10.304601295964524\n",
      "371.0 14.3071234 36.4938702 10.646445016234484\n",
      "373.0 15.0198046 1.7020095 10.741570917953041\n",
      "374.0 15.1002153 1.6339721 9.743063352824695\n",
      "375.0 15.1081241 1.6062912 10.655401043757847\n",
      "376.0 15.108215 55.7633012 10.2112738884031\n",
      "378.0 15.2649038 56.3289056 10.004230912775315\n",
      "379.0 15.2790399 7.0214564 11.190511695439572\n",
      "380.0 15.6443806 59.3558889 10.796942536059632\n",
      "381.0 15.6608126 21.7831069 11.439148998767395\n",
      "383.0 16.0380556 15.9747222 11.040151286713169\n",
      "384.0 16.0380582 15.9745596 11.040151286713169\n",
      "385.0 16.0766111 17.7216667 11.073950636246643\n",
      "386.0 16.0776622 17.7009754 11.09697339130733\n",
      "387.0 16.0906667 16.4427778 10.986534426384486\n",
      "388.0 16.0914444 16.4358333 11.047565520652585\n",
      "389.0 16.2098828 29.4844782 11.14801907647041\n",
      "391.0 16.4613916 40.9260593 11.222626172114742\n",
      "392.0 16.4773144 39.5513608 11.219658082114863\n",
      "393.0 16.4958098 40.8115694 11.450935435132736\n",
      "394.0 17.5400644 7.0603015 10.38160729862002\n",
      "408.0 22.6178186 34.4156195 10.626096663707981\n",
      "409.0 22.6234762 23.7982595 10.12805583351364\n",
      "410.0 22.6297367 23.7867242 9.686327579591419\n",
      "412.0 23.0166472 30.1448889 9.714943795473008\n",
      "413.0 23.3451444 8.2170556 10.93137180619153\n",
      "414.0 23.6415185 27.0316622 11.422928960852946\n",
      "416.0 23.84961 27.1473359 11.053228966092663\n"
     ]
    }
   ],
   "source": [
    "#the id of galaxies in Harris catalog which match to Atlas\n",
    "for i in range(0,len(id_match)):\n",
    "    print(id_match[i], ra_match[i],dec_match[i], np.log10(m_stellar_match[i]))#, name_Atlas[idx[i]])"
   ]
  },
  {
   "cell_type": "raw",
   "id": "d0a6c923-99d2-45a3-831c-83ab73b3e1fb",
   "metadata": {},
   "source": [
    "#print(N_GC_match, m_stellar_match)\n",
    "plt.figure(figsize=[15,10])\n",
    "T_N = N_GC_match/(m_stellar_match/1e9)   #GC frequency [GC/10^9 M_\\odot]\n",
    "plt.loglog(m_stellar_match, T_N,'b.')\n",
    "plt.xlabel('$M_{stellar} [M_\\odot]$')\n",
    "plt.ylabel('GC frequency $T_N $')\n",
    "plt.ylim(5e-1,3e2)\n",
    "plt.xlim(1e7,5e11)"
   ]
  },
  {
   "cell_type": "code",
   "execution_count": 71,
   "id": "93a058dd-db8d-4be8-92de-e5d0d1b0b59b",
   "metadata": {},
   "outputs": [],
   "source": [
    "#now follow Moster13 to find M_halo of the galaxies\n",
    "from scipy.optimize import fsolve "
   ]
  },
  {
   "cell_type": "code",
   "execution_count": 72,
   "id": "c245a1d2-47da-4ee7-b734-2e6851e565c1",
   "metadata": {},
   "outputs": [],
   "source": [
    "#Paramters adopted from Moster et al. 13, table 1\n",
    "M_10     = 11.59\n",
    "M_11     = 1.195\n",
    "N_10     = 0.0351\n",
    "N_11     = -0.0247\n",
    "beta_10  = 1.376                #else:\n",
    "                #    print(id_new[i]+1, M_V_new[i], 'is satellite of', id_new[cen]+1, M_V_new[cen])\n",
    "\n",
    "beta_11  = -0.826\n",
    "gamma_10 = 0.608\n",
    "gamma_11 = 0.329"
   ]
  },
  {
   "cell_type": "code",
   "execution_count": 73,
   "id": "547d115f-29ed-44b4-b7c6-f218dda764fa",
   "metadata": {},
   "outputs": [
    {
     "name": "stdout",
     "output_type": "stream",
     "text": [
      "11.59 0.0702 1.376 0.608\n"
     ]
    }
   ],
   "source": [
    "#calculate the parameters(z) for SHM relation\n",
    "z = 0\n",
    "\n",
    "log_M1 = M_10 + M_11*z/(z+1)\n",
    "M_1    = 10**log_M1\n",
    "NN     = N_10 + N_11*z/(z+1)\n",
    "beta   = beta_10 + beta_11*z/(z+1)\n",
    "gamma  = gamma_10 + gamma_11*z/(z+1)\n",
    "\n",
    "print(np.log10(M_1),NN*2,beta,gamma)"
   ]
  },
  {
   "cell_type": "code",
   "execution_count": 74,
   "id": "426d4683-a239-41e7-a5f1-6aa968139cfe",
   "metadata": {},
   "outputs": [],
   "source": [
    "i = 0\n",
    "M_guess = 1e10\n",
    "M_h_array = np.zeros(i_count)\n",
    "\n",
    "for m in m_stellar_match:\n",
    "    func = lambda M_h : m - 2*NN*M_h/((M_h/M_1)**(-beta) + (M_h/M_1)**gamma)  \n",
    "    M_h_array[i] = fsolve(func,M_guess)\n",
    "    i += 1    \n",
    "#print(M_h_array)"
   ]
  },
  {
   "cell_type": "raw",
   "id": "92de989b-aa99-4f89-85f2-44d0d2308847",
   "metadata": {},
   "source": [
    "i = 0\n",
    "M_h_array = np.zeros(i_count)\n",
    "\n",
    "for m in m_stellar_match:\n",
    "    func = lambda M_h : m - 2*NN*M_h/((M_h/M_1)**(-beta) + (M_h/M_1)**gamma)  \n",
    "    if m < 1e7:\n",
    "        M_h_array[i] = fsolve(func,1e8)\n",
    "    elif 1e7 < m < 1e9:\n",
    "        M_h_array[ path+\"code/data_Atlas_Harris13_by_rpes.txt\"i] = fsolve(func,1e10)\n",
    "    elif m > 1e9:\n",
    "        M_h_array[i] = fsolve(func,1e11)\n",
    "    i += 1    \n"
   ]
  },
  {
   "cell_type": "raw",
   "id": "3da11656-c102-4fe7-bf22-87ec6b753640",
   "metadata": {},
   "source": [
    "for i in range(0,len (m_stellar_match)):\n",
    "    print(i, np.log10(m_stellar_match[i]),np.log10(M_h_array[i]))"
   ]
  },
  {
   "cell_type": "code",
   "execution_count": 75,
   "id": "91fd290d-afd2-4084-9e1b-bd6e41ef3c3b",
   "metadata": {},
   "outputs": [
    {
     "data": {
      "text/plain": [
       "Text(0.5, 1.0, 'm_stellar(M_halo) compare to Fig.1 in Moster13')"
      ]
     },
     "execution_count": 75,
     "metadata": {},
     "output_type": "execute_result"
    },
    {
     "data": {
      "image/png": "[encoded data removed]",
      "text/plain": [
       "<Figure size 720x720 with 1 Axes>"
      ]
     },
     "metadata": {
      "needs_background": "light"
     },
     "output_type": "display_data"
    }
   ],
   "source": [
    "# compare the result to Harris catalog (all GCs)\n",
    "plt.figure(figsize=[10,10])\n",
    "ax = plt.axes()\n",
    "ax.set_xscale(\"log\")\n",
    "ax.set_yscale(\"log\")\n",
    "ax.set_ylabel(\"$m_{stellar} [M_\\odot]$\")\n",
    "ax.set_xlabel(\"$M_{halo} [M_\\odot]$\")    \n",
    "ax.scatter( M_h_array,m_stellar_match)\n",
    "ax.set_title('m_stellar(M_halo) compare to Fig.1 in Moster13')"
   ]
  },
  {
   "cell_type": "code",
   "execution_count": 76,
   "id": "4685a471-9cd9-4407-a4e9-1e7134c1b3dd",
   "metadata": {},
   "outputs": [
    {
     "name": "stdout",
     "output_type": "stream",
     "text": [
      "[11.40410493]\n"
     ]
    }
   ],
   "source": [
    "#for only the NGC4377\n",
    "m = 10**9.84  #taken from Lehmar 2020\n",
    "func = lambda M_h : m - 2*NN*M_h/((M_h/M_1)**(-beta) + (M_h/M_1)**gamma)  \n",
    "M_h_test = fsolve(func,1e10)\n",
    "\n",
    "print(np.log10(M_h_test))\n",
    "#M_h is different from one calculated by matching+Moster "
   ]
  },
  {
   "cell_type": "code",
   "execution_count": 77,
   "id": "b402f58c-3a7f-4144-be94-54fa5970a824",
   "metadata": {},
   "outputs": [
    {
     "data": {
      "text/plain": [
       "<matplotlib.legend.Legend at 0x7f43041a1220>"
      ]
     },
     "execution_count": 77,
     "metadata": {},
     "output_type": "execute_result"
    },
    {
     "data": {
      "image/png": "[encoded data removed]",
      "text/plain": [
       "<Figure size 720x720 with 1 Axes>"
      ]
     },
     "metadata": {
      "needs_background": "light"
     },
     "output_type": "display_data"
    }
   ],
   "source": [
    "# compare the result to Harris catalog (all GCs)\n",
    "plt.figure(figsize=[10,10])\n",
    "ax = plt.axes()\n",
    "ax.set_xscale(\"log\")\n",
    "ax.set_yscale(\"log\")\n",
    "ax.set_xlabel(\"M halo(z=0) [M_sun]\")\n",
    "ax.set_ylabel(\"Number of GCs\")    \n",
    "ax.scatter(M_h_test, N_GC_match[75], color='r', label ='NGC4377')\n",
    "ax.scatter(M_h_array, N_GC_match, marker='d', label ='Atlas+Harris13')\n",
    "ax.legend()"
   ]
  },
  {
   "cell_type": "code",
   "execution_count": 78,
   "id": "d5119b28-ed1e-4b95-abcf-7b7135b45e94",
   "metadata": {},
   "outputs": [
    {
     "name": "stdout",
     "output_type": "stream",
     "text": [
      "75 , halo mass: 3.2523147318264884 *1e15 M_sun, number of GC: 74.0\n"
     ]
    }
   ],
   "source": [
    "#found the most massive halo (>1e15 M_sun) but has N_GC ~ 100\n",
    "for i in range(0,i_count):\n",
    "    if (M_h_array[i] > 1e15 and N_GC_match[i]<200):\n",
    "        print(i,', halo mass:' , M_h_array[i]/1e15,'*1e15 M_sun, number of GC:', N_GC_match[i])\n"
   ]
  },
  {
   "cell_type": "raw",
   "id": "302b9412-03ab-4d61-9473-f72b6f3d0c79",
   "metadata": {},
   "source": [
    "#save the results into file\n",
    "data = np.column_stack([M_h_array, N_GC_match, ra_match, dec_match, id_match, m_stellar_match])\n",
    "datafile_path = path+\"code/data_Atlas_Harris13_by_rpes.txt\"\n",
    "np.savetxt(datafile_path , data, fmt='%f')"
   ]
  },
  {
   "cell_type": "code",
   "execution_count": null,
   "id": "a67c84f5-8c37-4bba-bcba-1d82b2e0591e",
   "metadata": {},
   "outputs": [],
   "source": []
  }
 ],
 "metadata": {
  "kernelspec": {
   "display_name": "Python 3 (ipykernel)",
   "language": "python",
   "name": "python3"
  },
  "language_info": {
   "codemirror_mode": {
    "name": "ipython",
    "version": 3
   },
   "file_extension": ".py",
   "mimetype": "text/x-python",
   "name": "python",
   "nbconvert_exporter": "python",
   "pygments_lexer": "ipython3",
   "version": "3.9.12"
  }
 },
 "nbformat": 4,
 "nbformat_minor": 5
}

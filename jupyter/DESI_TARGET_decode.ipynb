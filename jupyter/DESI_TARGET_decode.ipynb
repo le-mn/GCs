{
 "cells": [
  {
   "cell_type": "markdown",
   "id": "a0487316-0c1c-40b2-b8ba-6dd92c24f714",
   "metadata": {},
   "source": [
    "Nov 22\n",
    "\n",
    "To decode the meaning of DESI_TARGET loooong number"
   ]
  },
  {
   "cell_type": "code",
   "execution_count": 1,
   "id": "d471feb6-cb06-47be-9f46-42135860eff6",
   "metadata": {},
   "outputs": [],
   "source": [
    "import numpy as np"
   ]
  },
  {
   "cell_type": "code",
   "execution_count": 3,
   "id": "b33af38e-a46c-4120-a6ea-33f8823e455c",
   "metadata": {},
   "outputs": [],
   "source": [
    "import astropy.io.fits as fits"
   ]
  },
  {
   "cell_type": "code",
   "execution_count": 4,
   "id": "72a67bc4-8b28-40ce-94b6-138aee470a94",
   "metadata": {},
   "outputs": [],
   "source": [
    "from astropy.table import Table"
   ]
  },
  {
   "cell_type": "code",
   "execution_count": 5,
   "id": "49f88ad4-5b99-48c8-b9c7-a5b1ff6b84ba",
   "metadata": {},
   "outputs": [],
   "source": [
    "data = fits.getdata('/lfs/data/apcooper/static/desi/guadalupe/zcatalog/zpix-main-bright.fits')"
   ]
  },
  {
   "cell_type": "code",
   "execution_count": 6,
   "id": "c86a865d-9649-4672-b7e2-ca7546fb5bb8",
   "metadata": {},
   "outputs": [],
   "source": [
    "t = Table(data)"
   ]
  },
  {
   "cell_type": "code",
   "execution_count": 7,
   "id": "c45dfb68-b0b7-424f-8a82-0dd9d3f516d9",
   "metadata": {},
   "outputs": [
    {
     "data": {
      "text/html": [
       "<div><i>Table length=3</i>\n",
       "<table id=\"table140648136237136\" class=\"table-striped table-bordered table-condensed\">\n",
       "<thead><tr><th>TARGETID</th><th>HEALPIX</th><th>SPGRPVAL</th><th>Z</th><th>ZERR</th><th>ZWARN</th><th>CHI2</th><th>COEFF</th><th>NPIXELS</th><th>SPECTYPE</th><th>SUBTYPE</th><th>NCOEFF</th><th>DELTACHI2</th><th>COADD_FIBERSTATUS</th><th>TARGET_RA</th><th>TARGET_DEC</th><th>PMRA</th><th>PMDEC</th><th>REF_EPOCH</th><th>FA_TARGET</th><th>FA_TYPE</th><th>OBJTYPE</th><th>SUBPRIORITY</th><th>OBSCONDITIONS</th><th>RELEASE</th><th>BRICKNAME</th><th>BRICKID</th><th>BRICK_OBJID</th><th>MORPHTYPE</th><th>EBV</th><th>FLUX_G</th><th>FLUX_R</th><th>FLUX_Z</th><th>FLUX_W1</th><th>FLUX_W2</th><th>FLUX_IVAR_G</th><th>FLUX_IVAR_R</th><th>FLUX_IVAR_Z</th><th>FLUX_IVAR_W1</th><th>FLUX_IVAR_W2</th><th>FIBERFLUX_G</th><th>FIBERFLUX_R</th><th>FIBERFLUX_Z</th><th>FIBERTOTFLUX_G</th><th>FIBERTOTFLUX_R</th><th>FIBERTOTFLUX_Z</th><th>MASKBITS</th><th>SERSIC</th><th>SHAPE_R</th><th>SHAPE_E1</th><th>SHAPE_E2</th><th>REF_ID</th><th>REF_CAT</th><th>GAIA_PHOT_G_MEAN_MAG</th><th>GAIA_PHOT_BP_MEAN_MAG</th><th>GAIA_PHOT_RP_MEAN_MAG</th><th>PARALLAX</th><th>PHOTSYS</th><th>PRIORITY_INIT</th><th>NUMOBS_INIT</th><th>DESI_TARGET</th><th>BGS_TARGET</th><th>MWS_TARGET</th><th>SCND_TARGET</th><th>PLATE_RA</th><th>PLATE_DEC</th><th>COADD_NUMEXP</th><th>COADD_EXPTIME</th><th>COADD_NUMNIGHT</th><th>COADD_NUMTILE</th><th>MEAN_DELTA_X</th><th>RMS_DELTA_X</th><th>MEAN_DELTA_Y</th><th>RMS_DELTA_Y</th><th>MEAN_FIBER_RA</th><th>STD_FIBER_RA</th><th>MEAN_FIBER_DEC</th><th>STD_FIBER_DEC</th><th>MEAN_PSF_TO_FIBER_SPECFLUX</th><th>TSNR2_GPBDARK_B</th><th>TSNR2_ELG_B</th><th>TSNR2_GPBBRIGHT_B</th><th>TSNR2_LYA_B</th><th>TSNR2_BGS_B</th><th>TSNR2_GPBBACKUP_B</th><th>TSNR2_QSO_B</th><th>TSNR2_LRG_B</th><th>TSNR2_GPBDARK_R</th><th>TSNR2_ELG_R</th><th>TSNR2_GPBBRIGHT_R</th><th>TSNR2_LYA_R</th><th>TSNR2_BGS_R</th><th>TSNR2_GPBBACKUP_R</th><th>TSNR2_QSO_R</th><th>TSNR2_LRG_R</th><th>TSNR2_GPBDARK_Z</th><th>TSNR2_ELG_Z</th><th>TSNR2_GPBBRIGHT_Z</th><th>TSNR2_LYA_Z</th><th>TSNR2_BGS_Z</th><th>TSNR2_GPBBACKUP_Z</th><th>TSNR2_QSO_Z</th><th>TSNR2_LRG_Z</th><th>TSNR2_GPBDARK</th><th>TSNR2_ELG</th><th>TSNR2_GPBBRIGHT</th><th>TSNR2_LYA</th><th>TSNR2_BGS</th><th>TSNR2_GPBBACKUP</th><th>TSNR2_QSO</th><th>TSNR2_LRG</th><th>ZCAT_NSPEC</th><th>ZCAT_PRIMARY</th></tr></thead>\n",
       "<thead><tr><th>int64</th><th>int32</th><th>int32</th><th>float64</th><th>float64</th><th>int64</th><th>float64</th><th>float64[10]</th><th>int64</th><th>str6</th><th>str20</th><th>int64</th><th>float64</th><th>int32</th><th>float64</th><th>float64</th><th>float32</th><th>float32</th><th>float32</th><th>int64</th><th>uint8</th><th>str3</th><th>float64</th><th>int32</th><th>int16</th><th>str8</th><th>int32</th><th>int32</th><th>str4</th><th>float32</th><th>float32</th><th>float32</th><th>float32</th><th>float32</th><th>float32</th><th>float32</th><th>float32</th><th>float32</th><th>float32</th><th>float32</th><th>float32</th><th>float32</th><th>float32</th><th>float32</th><th>float32</th><th>float32</th><th>int16</th><th>float32</th><th>float32</th><th>float32</th><th>float32</th><th>int64</th><th>str2</th><th>float32</th><th>float32</th><th>float32</th><th>float32</th><th>str1</th><th>int64</th><th>int64</th><th>int64</th><th>int64</th><th>int64</th><th>int64</th><th>float64</th><th>float64</th><th>int16</th><th>float32</th><th>int16</th><th>int16</th><th>float32</th><th>float32</th><th>float32</th><th>float32</th><th>float64</th><th>float32</th><th>float64</th><th>float32</th><th>float32</th><th>float32</th><th>float32</th><th>float32</th><th>float32</th><th>float32</th><th>float32</th><th>float32</th><th>float32</th><th>float32</th><th>float32</th><th>float32</th><th>float32</th><th>float32</th><th>float32</th><th>float32</th><th>float32</th><th>float32</th><th>float32</th><th>float32</th><th>float32</th><th>float32</th><th>float32</th><th>float32</th><th>float32</th><th>float32</th><th>float32</th><th>float32</th><th>float32</th><th>float32</th><th>float32</th><th>float32</th><th>float32</th><th>int16</th><th>bool</th></tr></thead>\n",
       "<tr><td>39633192419853982</td><td>10000</td><td>10000</td><td>0.03768131081242892</td><td>3.852061824477527e-06</td><td>0</td><td>7679.1721932291985</td><td>1039.3360306625157 .. 8.300501709219164</td><td>7906</td><td>GALAXY</td><td></td><td>10</td><td>2130.768586933613</td><td>0</td><td>252.92687803206968</td><td>46.536735591055674</td><td>0.0</td><td>0.0</td><td>2015.5</td><td>1152921504606846976</td><td>1</td><td>TGT</td><td>0.850263393143325</td><td>516</td><td>9011</td><td>2529p465</td><td>571086</td><td>1694</td><td>SER</td><td>0.019520197</td><td>15.28663</td><td>21.711166</td><td>26.56284</td><td>14.621476</td><td>5.1932435</td><td>133.69522</td><td>35.29861</td><td>26.31763</td><td>4.764854</td><td>1.6115698</td><td>3.9004745</td><td>5.539733</td><td>6.7776666</td><td>3.9004745</td><td>5.539733</td><td>6.7776666</td><td>0</td><td>0.7186158</td><td>1.2290907</td><td>-0.018304463</td><td>-0.16170786</td><td>0</td><td></td><td>0.0</td><td>0.0</td><td>0.0</td><td>0.0</td><td>N</td><td>2100</td><td>2</td><td>1152921504606846976</td><td>514</td><td>0</td><td>0</td><td>252.92687803206968</td><td>46.536735591055674</td><td>1</td><td>442.5022</td><td>1</td><td>1</td><td>0.001</td><td>0.001</td><td>-0.007</td><td>0.007</td><td>252.92688117445672</td><td>0.0</td><td>46.536762685656484</td><td>0.0</td><td>0.73440033</td><td>44.85684</td><td>0.019960195</td><td>8.332401</td><td>14.4543915</td><td>110.51578</td><td>64.62738</td><td>0.52926874</td><td>0.21445554</td><td>1278.6799</td><td>3.6977777</td><td>237.06061</td><td>0.0029788588</td><td>223.63417</td><td>1844.7067</td><td>0.9251271</td><td>4.811232</td><td>5.4636785e-06</td><td>13.7044935</td><td>1.0073055e-06</td><td>0.0</td><td>765.85925</td><td>7.670622e-06</td><td>3.1385128</td><td>7.3677464</td><td>1323.5367</td><td>17.422232</td><td>245.393</td><td>14.457371</td><td>1100.0093</td><td>1909.334</td><td>4.592909</td><td>12.393435</td><td>1</td><td>True</td></tr>\n",
       "<tr><td>39633188250716069</td><td>10001</td><td>10001</td><td>-0.0006552097456118187</td><td>4.67384942041175e-06</td><td>0</td><td>12244.191531231718</td><td>5921.738780264827 .. 0.0</td><td>7862</td><td>STAR</td><td>K</td><td>5</td><td>3798.6610474082663</td><td>0</td><td>253.59857556877355</td><td>46.245138036902944</td><td>-1.1106461</td><td>-0.89099985</td><td>2015.5</td><td>2305843009213693952</td><td>1</td><td>TGT</td><td>0.9320531634626462</td><td>516</td><td>9011</td><td>2536p462</td><td>570092</td><td>1957</td><td>PSF</td><td>0.018271104</td><td>57.748344</td><td>109.608086</td><td>152.16661</td><td>58.416958</td><td>30.096806</td><td>44.69639</td><td>19.042627</td><td>20.306168</td><td>3.4689436</td><td>1.5110312</td><td>44.96402</td><td>85.343056</td><td>118.47998</td><td>44.96402</td><td>85.343056</td><td>118.47998</td><td>0</td><td>0.0</td><td>0.0</td><td>0.0</td><td>0.0</td><td>1407530876765981184</td><td>G2</td><td>17.518497</td><td>18.006369</td><td>16.866531</td><td>0.035543706</td><td>N</td><td>1500</td><td>2</td><td>2305843009213693952</td><td>0</td><td>768</td><td>0</td><td>253.59857556877355</td><td>46.245138036902944</td><td>1</td><td>442.5022</td><td>1</td><td>1</td><td>0.001</td><td>0.001</td><td>-0.003</td><td>0.003</td><td>253.5985803680059</td><td>0.0</td><td>46.24514954214408</td><td>0.0</td><td>0.789</td><td>41.925316</td><td>0.016808514</td><td>7.9071903</td><td>9.398123</td><td>99.80945</td><td>66.72592</td><td>0.44470832</td><td>0.20183775</td><td>2846.8645</td><td>6.497159</td><td>506.62045</td><td>0.008626838</td><td>562.5795</td><td>3606.659</td><td>1.9361174</td><td>9.225216</td><td>5.998025e-06</td><td>17.662737</td><td>1.0989293e-06</td><td>0.0</td><td>996.97095</td><td>8.500671e-06</td><td>4.118638</td><td>9.456251</td><td>2888.7898</td><td>24.176704</td><td>514.52765</td><td>9.40675</td><td>1659.3599</td><td>3673.3848</td><td>6.499464</td><td>18.883305</td><td>1</td><td>True</td></tr>\n",
       "<tr><td>39633188246523776</td><td>10001</td><td>10001</td><td>0.2460835153758476</td><td>4.938586255944798e-05</td><td>0</td><td>7663.606994729489</td><td>103.10963287720858 .. 3.3586593440111288</td><td>7870</td><td>GALAXY</td><td></td><td>10</td><td>82.70370354130864</td><td>0</td><td>253.3883175890437</td><td>46.13916021306366</td><td>0.0</td><td>0.0</td><td>2015.5</td><td>1152921504606846976</td><td>1</td><td>TGT</td><td>0.16035943850972634</td><td>516</td><td>9011</td><td>2532p462</td><td>570091</td><td>3968</td><td>EXP</td><td>0.018015157</td><td>5.4663215</td><td>15.62286</td><td>30.758135</td><td>37.486607</td><td>27.654112</td><td>171.22453</td><td>44.046837</td><td>19.75095</td><td>3.6351044</td><td>1.3088256</td><td>1.1407441</td><td>3.26027</td><td>6.418788</td><td>1.1407694</td><td>3.2603133</td><td>6.418835</td><td>0</td><td>1.0</td><td>2.204136</td><td>0.4023657</td><td>0.43581292</td><td>0</td><td></td><td>0.0</td><td>0.0</td><td>0.0</td><td>0.0</td><td>N</td><td>2100</td><td>2</td><td>1152921504606846976</td><td>514</td><td>0</td><td>0</td><td>253.3883175890437</td><td>46.13916021306366</td><td>1</td><td>442.5022</td><td>1</td><td>1</td><td>0.003</td><td>0.003</td><td>-0.002</td><td>0.002</td><td>253.3883333509623</td><td>0.0</td><td>46.13916753589277</td><td>0.0</td><td>0.7233565</td><td>38.54359</td><td>0.015422694</td><td>7.3124614</td><td>8.513908</td><td>92.14181</td><td>61.45768</td><td>0.40599963</td><td>0.18610837</td><td>2609.7727</td><td>5.983771</td><td>468.09515</td><td>0.0077620475</td><td>518.2283</td><td>3331.5117</td><td>1.7661437</td><td>8.50235</td><td>5.55694e-06</td><td>16.529337</td><td>1.0243165e-06</td><td>0.0</td><td>945.42615</td><td>7.887752e-06</td><td>3.8426483</td><td>8.901493</td><td>2648.3164</td><td>22.52853</td><td>475.40762</td><td>8.52167</td><td>1555.7961</td><td>3392.9695</td><td>6.0147915</td><td>17.58995</td><td>1</td><td>True</td></tr>\n",
       "</table></div>"
      ],
      "text/plain": [
       "<Table length=3>\n",
       "     TARGETID     HEALPIX SPGRPVAL ... TSNR2_LRG ZCAT_NSPEC ZCAT_PRIMARY\n",
       "      int64        int32   int32   ...  float32    int16        bool    \n",
       "----------------- ------- -------- ... --------- ---------- ------------\n",
       "39633192419853982   10000    10000 ... 12.393435          1         True\n",
       "39633188250716069   10001    10001 ... 18.883305          1         True\n",
       "39633188246523776   10001    10001 ...  17.58995          1         True"
      ]
     },
     "execution_count": 7,
     "metadata": {},
     "output_type": "execute_result"
    }
   ],
   "source": [
    "t[0:3]"
   ]
  },
  {
   "cell_type": "code",
   "execution_count": 8,
   "id": "0fbce466-66ea-4b08-9c8e-5c640667fbfa",
   "metadata": {},
   "outputs": [],
   "source": [
    "is_bgs = t['BGS_TARGET'] > 0"
   ]
  },
  {
   "cell_type": "code",
   "execution_count": 9,
   "id": "baf3db56-3b79-4b69-b931-9ef1788d629e",
   "metadata": {},
   "outputs": [],
   "source": [
    "s = t['SPECTYPE'] == 'STAR'"
   ]
  },
  {
   "cell_type": "code",
   "execution_count": 10,
   "id": "358463d9-0e07-49c2-89fe-b5144f1b2494",
   "metadata": {},
   "outputs": [],
   "source": [
    "is_QSO = (t['DESI_TARGET'] & 4) != 0 # exclude QSO selection"
   ]
  },
  {
   "cell_type": "code",
   "execution_count": 179,
   "id": "0bec5202-6b7a-449c-8e53-56889ddbeb5e",
   "metadata": {},
   "outputs": [],
   "source": [
    "high_parallax = t['PARALLAX'] > 0.1"
   ]
  },
  {
   "cell_type": "code",
   "execution_count": null,
   "id": "b431d0a1-5699-4708-b81f-fe5a9c2dc5ba",
   "metadata": {},
   "outputs": [],
   "source": []
  },
  {
   "cell_type": "code",
   "execution_count": 182,
   "id": "5e5a71da-6464-4b67-8508-a2ed2fb9d0b4",
   "metadata": {},
   "outputs": [],
   "source": [
    "desi_target = t['DESI_TARGET'][is_bgs & s & (~ is_QSO) & (~high_parallax)]"
   ]
  },
  {
   "cell_type": "code",
   "execution_count": 181,
   "id": "4d4040fe-bac1-4c99-b939-c38cd3db3a65",
   "metadata": {},
   "outputs": [
    {
     "name": "stdout",
     "output_type": "stream",
     "text": [
      "    DESI_TARGET    \n",
      "-------------------\n",
      "1152921504606846976\n",
      "1152921504606846976\n",
      "5764607523034234880\n",
      "1152921504606846976\n",
      "1152921504606846976\n",
      "1152921504606846976\n",
      "1152921504606846976\n",
      "1152921504606846976\n",
      "1152921504606846976\n",
      "1152921504606846976\n",
      "                ...\n",
      "1152921504606846976\n",
      "1152921504606846976\n",
      "1152921504606846976\n",
      "1152921504606846976\n",
      "1152921504606846976\n",
      "1152921504606846976\n",
      "1152921504606846976\n",
      "1152921504606846976\n",
      "1152921504606846976\n",
      "1152921504606847233\n",
      "1152921504606846976\n",
      "Length = 21743 rows\n"
     ]
    }
   ],
   "source": [
    "print(desi_target)"
   ]
  },
  {
   "cell_type": "code",
   "execution_count": 183,
   "id": "edef4898-d69d-4cd7-a854-9f5299edf50a",
   "metadata": {},
   "outputs": [],
   "source": [
    "target_no, target_count =  np.unique(desi_target,return_counts=True)"
   ]
  },
  {
   "cell_type": "code",
   "execution_count": 184,
   "id": "ef8b33a3-55fc-4a69-a3c2-99fd5ae06ca1",
   "metadata": {},
   "outputs": [
    {
     "name": "stdout",
     "output_type": "stream",
     "text": [
      "    DESI_TARGET    \n",
      "-------------------\n",
      "1152921504606846976\n",
      "1152921504606847233\n",
      "1152921504606849570\n",
      "1152921504606912513\n",
      "1152921504607502370\n",
      "1152921504607502434\n",
      "1152921504608092291\n",
      "3458764513820540928\n",
      "5764607523034234880\n",
      "5764607523034235137\n",
      "5764607523034300417\n",
      "5764607523034890274 [20221   211     2   386     7     2     1    38   867     2     5     1]\n"
     ]
    }
   ],
   "source": [
    "print(target_no, target_count)"
   ]
  },
  {
   "cell_type": "code",
   "execution_count": 185,
   "id": "929e62fd-2b25-488a-80b0-3f77b88b95de",
   "metadata": {},
   "outputs": [],
   "source": [
    "test = np.array(\n",
    "[1152921504606846976,\n",
    "1152921504606847233,\n",
    "1152921504606849570,\n",
    "1152921504606912513,\n",
    "1152921504607502370,\n",
    "1152921504607502434,\n",
    "1152921504608092291,\n",
    "3458764513820540928,\n",
    "5764607523034234880,\n",
    "5764607523034235137,\n",
    "5764607523034300417,\n",
    "5764607523034890274])"
   ]
  },
  {
   "cell_type": "code",
   "execution_count": 151,
   "id": "18272850-954d-4671-832a-f6ba30af490b",
   "metadata": {},
   "outputs": [
    {
     "name": "stdout",
     "output_type": "stream",
     "text": [
      "[1152921504606846976 1152921504606847233 1152921504606849570\n",
      " 1152921504606912513 1152921504607502370 1152921504607502434\n",
      " 1152921504608026754 1152921504608092291 3458764513820540928\n",
      " 3458764531000410112 5764607523034234880 5764607523034235137\n",
      " 5764607523034300417 5764607523034890274 8070450532247928832\n",
      " 8070450549427798016]\n"
     ]
    }
   ],
   "source": [
    "print(test)"
   ]
  },
  {
   "cell_type": "code",
   "execution_count": 152,
   "id": "60ff9ad4-d2b0-4906-90e2-829a910e7b27",
   "metadata": {},
   "outputs": [],
   "source": [
    "def desi_target_decode(i): \n",
    "    d = np.binary_repr(i)         #convert based 10 to based 2\n",
    "    string = str(d)               #convert number to string\n",
    "    reverse_string = string[::-1] #reverse string -> to count bit indices from right to left -> decode\n",
    "    #print(string)\n",
    "    #print(reverse_string)\n",
    "    object_types = ['LRG','ELG','QSO',' ' ,\n",
    "                'QSO_HIZ','ELG_LOP','ELG_HIP','ELG_VLO',\n",
    "                'LRG_NORTH','ELG_NORTH','QSO_NORTH','ELG_LOP_NORTH','ELG_VLO_NORTH',\n",
    "                ' ', ' ', ' ', \n",
    "                'LRG_SOUTH','ELG_SOUTH','QSO_SOUTH','ELG_LOP_SOUTH','ELG_VLO_SOUTH',\n",
    "                ' ', ' ', ' ', ' ', ' ', ' ', ' ', ' ', ' ', ' ', ' ',\n",
    "                'SKY', 'STD_FAINT', 'STD_WD', 'STD_BRIGHT', 'BAD_SKY', 'SUPP_SKY',\n",
    "                'STD_FAINT_BEST', 'STD_BRIGHT_BEST', \n",
    "                ' ', ' ', ' ', ' ', ' ', ' ', ' ', ' ', ' ', \n",
    "                'NO_TARGET', 'BRIGHT_OBJECT', 'IN_BRIGHT_OBJECT', 'NEAR_BRIGHT_OBJECT',\n",
    "                ' ', ' ', ' ', ' ', ' ', ' ', ' ', \n",
    "                'BGS_ANY', 'MWS_ANY', 'SCND_ANY', ' ']\n",
    "    for i in range(0,len(reverse_string)):\n",
    "        if int(reverse_string[i]) != 0:\n",
    "            #print(i)\n",
    "            if object_types[i] != ' ':\n",
    "                print('is/are ' + object_types[i])\n",
    "            else: \n",
    "                print('not yet classified')"
   ]
  },
  {
   "cell_type": "code",
   "execution_count": 153,
   "id": "25f9e2d0-0bd7-48aa-b3dd-cc62fdc296d0",
   "metadata": {},
   "outputs": [
    {
     "name": "stdout",
     "output_type": "stream",
     "text": [
      "25488 object(s)\n",
      "is/are BGS_ANY\n",
      "231 object(s)\n",
      "is/are LRG\n",
      "is/are LRG_NORTH\n",
      "is/are BGS_ANY\n",
      "2 object(s)\n",
      "is/are ELG\n",
      "is/are ELG_LOP\n",
      "is/are ELG_NORTH\n",
      "is/are ELG_LOP_NORTH\n",
      "is/are BGS_ANY\n",
      "413 object(s)\n",
      "is/are LRG\n",
      "is/are LRG_SOUTH\n",
      "is/are BGS_ANY\n",
      "11 object(s)\n",
      "is/are ELG\n",
      "is/are ELG_LOP\n",
      "is/are ELG_SOUTH\n",
      "is/are ELG_LOP_SOUTH\n",
      "is/are BGS_ANY\n",
      "2 object(s)\n",
      "is/are ELG\n",
      "is/are ELG_LOP\n",
      "is/are ELG_HIP\n",
      "is/are ELG_SOUTH\n",
      "is/are ELG_LOP_SOUTH\n",
      "is/are BGS_ANY\n",
      "4 object(s)\n",
      "is/are ELG\n",
      "is/are ELG_VLO\n",
      "is/are ELG_SOUTH\n",
      "is/are ELG_VLO_SOUTH\n",
      "is/are BGS_ANY\n",
      "1 object(s)\n",
      "is/are LRG\n",
      "is/are ELG\n",
      "is/are ELG_VLO\n",
      "is/are LRG_SOUTH\n",
      "is/are ELG_SOUTH\n",
      "is/are ELG_VLO_SOUTH\n",
      "is/are BGS_ANY\n",
      "69 object(s)\n",
      "is/are BGS_ANY\n",
      "is/are MWS_ANY\n",
      "3 object(s)\n",
      "is/are STD_WD\n",
      "is/are BGS_ANY\n",
      "is/are MWS_ANY\n",
      "981 object(s)\n",
      "is/are BGS_ANY\n",
      "is/are SCND_ANY\n",
      "2 object(s)\n",
      "is/are LRG\n",
      "is/are LRG_NORTH\n",
      "is/are BGS_ANY\n",
      "is/are SCND_ANY\n",
      "5 object(s)\n",
      "is/are LRG\n",
      "is/are LRG_SOUTH\n",
      "is/are BGS_ANY\n",
      "is/are SCND_ANY\n",
      "1 object(s)\n",
      "is/are ELG\n",
      "is/are ELG_LOP\n",
      "is/are ELG_SOUTH\n",
      "is/are ELG_LOP_SOUTH\n",
      "is/are BGS_ANY\n",
      "is/are SCND_ANY\n",
      "5 object(s)\n",
      "is/are BGS_ANY\n",
      "is/are MWS_ANY\n",
      "is/are SCND_ANY\n",
      "1 object(s)\n",
      "is/are STD_WD\n",
      "is/are BGS_ANY\n",
      "is/are MWS_ANY\n",
      "is/are SCND_ANY\n"
     ]
    }
   ],
   "source": [
    "for i in range(0,len(test)):\n",
    "    print(target_count[i], 'object(s)')\n",
    "    desi_target_decode(test[i])\n",
    "    "
   ]
  },
  {
   "cell_type": "code",
   "execution_count": null,
   "id": "71795b97-eaf5-48ef-b2de-e0a186597084",
   "metadata": {},
   "outputs": [],
   "source": []
  },
  {
   "cell_type": "code",
   "execution_count": 154,
   "id": "cfbb3dec-ae32-4761-8c5f-748ba5b0ac03",
   "metadata": {},
   "outputs": [],
   "source": [
    "import sys\n",
    "desitarget_path = '/data/apcooper/sfw/desi/desitarget/py'\n",
    "if not (desitarget_path in sys.path):\n",
    "    sys.path.append(desitarget_path)"
   ]
  },
  {
   "cell_type": "code",
   "execution_count": 155,
   "id": "94ed5993-4697-48fa-8c6b-c078319d0e99",
   "metadata": {},
   "outputs": [],
   "source": [
    "import desitarget"
   ]
  },
  {
   "cell_type": "code",
   "execution_count": 159,
   "id": "8411fbca-54f5-4e96-ae13-04fb40b276d7",
   "metadata": {},
   "outputs": [],
   "source": [
    "desiutil_path = '/data/apcooper/sfw/desi/desiutil/py'\n",
    "if not (desiutil_path in sys.path):\n",
    "    sys.path.append(desiutil_path)"
   ]
  },
  {
   "cell_type": "code",
   "execution_count": 160,
   "id": "1c89fb8d-7df7-4698-a847-522577b287c9",
   "metadata": {},
   "outputs": [],
   "source": [
    "import desiutil"
   ]
  },
  {
   "cell_type": "code",
   "execution_count": 162,
   "id": "05806451-43a8-4d1f-8964-e43c8d72fc45",
   "metadata": {},
   "outputs": [],
   "source": [
    "import desitarget.targetmask "
   ]
  },
  {
   "cell_type": "raw",
   "id": "1b8325e9-8478-4f20-b956-4046d923413c",
   "metadata": {},
   "source": [
    "desitarget.targetmask. "
   ]
  },
  {
   "cell_type": "code",
   "execution_count": 166,
   "id": "9abfa468-f90c-456c-bcef-ac14d8df6ff2",
   "metadata": {},
   "outputs": [],
   "source": [
    "from desitarget.targetmask import bgs_mask, desi_mask, mws_mask, scnd_mask"
   ]
  },
  {
   "cell_type": "code",
   "execution_count": 186,
   "id": "963e28e2-9d34-4ede-a24a-d8851f6a04d9",
   "metadata": {},
   "outputs": [
    {
     "name": "stdout",
     "output_type": "stream",
     "text": [
      "['BGS_ANY'] 20221\n",
      "['LRG', 'LRG_NORTH', 'BGS_ANY'] 211\n",
      "['ELG', 'ELG_LOP', 'ELG_NORTH', 'ELG_LOP_NORTH', 'BGS_ANY'] 2\n",
      "['LRG', 'LRG_SOUTH', 'BGS_ANY'] 386\n",
      "['ELG', 'ELG_LOP', 'ELG_SOUTH', 'ELG_LOP_SOUTH', 'BGS_ANY'] 7\n",
      "['ELG', 'ELG_LOP', 'ELG_HIP', 'ELG_SOUTH', 'ELG_LOP_SOUTH', 'BGS_ANY'] 2\n",
      "['LRG', 'ELG', 'ELG_VLO', 'LRG_SOUTH', 'ELG_SOUTH', 'ELG_VLO_SOUTH', 'BGS_ANY'] 1\n",
      "['BGS_ANY', 'MWS_ANY'] 38\n",
      "['BGS_ANY', 'SCND_ANY'] 867\n",
      "['LRG', 'LRG_NORTH', 'BGS_ANY', 'SCND_ANY'] 2\n",
      "['LRG', 'LRG_SOUTH', 'BGS_ANY', 'SCND_ANY'] 5\n",
      "['ELG', 'ELG_LOP', 'ELG_SOUTH', 'ELG_LOP_SOUTH', 'BGS_ANY', 'SCND_ANY'] 1\n"
     ]
    }
   ],
   "source": [
    "for i in range(0,len(test)):\n",
    "    print(desi_mask.names(test[i]), target_count[i])"
   ]
  },
  {
   "cell_type": "code",
   "execution_count": 175,
   "id": "447764ca-a270-4bec-8794-e7ba5f22525d",
   "metadata": {},
   "outputs": [],
   "source": [
    "is_bgs_any=(desi_mask['BGS_ANY']& test)!=0"
   ]
  },
  {
   "cell_type": "code",
   "execution_count": 176,
   "id": "10ef5d06-1bfa-462a-832c-ea71b173fc10",
   "metadata": {},
   "outputs": [],
   "source": [
    "is_mws_any=(desi_mask['MWS_ANY']& test)!=0"
   ]
  },
  {
   "cell_type": "code",
   "execution_count": 177,
   "id": "2993f0bb-4fbb-4e0e-aa6e-a37e68afb80d",
   "metadata": {},
   "outputs": [
    {
     "data": {
      "text/plain": [
       "array([False, False, False, False, False, False, False, False,  True,\n",
       "        True, False, False, False, False,  True,  True])"
      ]
     },
     "execution_count": 177,
     "metadata": {},
     "output_type": "execute_result"
    }
   ],
   "source": [
    "is_bgs_any & is_mws_any"
   ]
  },
  {
   "cell_type": "code",
   "execution_count": 187,
   "id": "92aaccb1-cec8-4da4-bdd1-d632a74a54ff",
   "metadata": {},
   "outputs": [
    {
     "data": {
      "text/plain": [
       "['LRG',\n",
       " 'ELG',\n",
       " 'QSO',\n",
       " 'QSO_HIZ',\n",
       " 'ELG_LOP',\n",
       " 'ELG_HIP',\n",
       " 'ELG_VLO',\n",
       " 'LRG_NORTH',\n",
       " 'ELG_NORTH',\n",
       " 'QSO_NORTH',\n",
       " 'ELG_LOP_NORTH',\n",
       " 'ELG_VLO_NORTH',\n",
       " 'LRG_SOUTH',\n",
       " 'ELG_SOUTH',\n",
       " 'QSO_SOUTH',\n",
       " 'ELG_LOP_SOUTH',\n",
       " 'ELG_VLO_SOUTH',\n",
       " 'SKY',\n",
       " 'STD_FAINT',\n",
       " 'STD_WD',\n",
       " 'STD_BRIGHT',\n",
       " 'BAD_SKY',\n",
       " 'SUPP_SKY',\n",
       " 'NO_TARGET',\n",
       " 'BRIGHT_OBJECT',\n",
       " 'IN_BRIGHT_OBJECT',\n",
       " 'NEAR_BRIGHT_OBJECT',\n",
       " 'BGS_ANY',\n",
       " 'MWS_ANY',\n",
       " 'SCND_ANY']"
      ]
     },
     "execution_count": 187,
     "metadata": {},
     "output_type": "execute_result"
    }
   ],
   "source": [
    "desi_mask.names()"
   ]
  },
  {
   "cell_type": "code",
   "execution_count": null,
   "id": "b2519862-21cd-4915-bf2e-89d85c0e3814",
   "metadata": {},
   "outputs": [],
   "source": []
  }
 ],
 "metadata": {
  "kernelspec": {
   "display_name": "Python project2",
   "language": "python",
   "name": "project2"
  },
  "language_info": {
   "codemirror_mode": {
    "name": "ipython",
    "version": 3
   },
   "file_extension": ".py",
   "mimetype": "text/x-python",
   "name": "python",
   "nbconvert_exporter": "python",
   "pygments_lexer": "ipython3",
   "version": "3.10.5"
  }
 },
 "nbformat": 4,
 "nbformat_minor": 5
}

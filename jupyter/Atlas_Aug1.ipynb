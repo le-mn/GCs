{
 "cells": [
  {
   "cell_type": "markdown",
   "id": "132bd1df-2723-4f22-a698-3a9806a799c3",
   "metadata": {},
   "source": [
    "Aug 1 - 5\n",
    "\n",
    "Continue of the work in the matched galaxies in Harris and Atlas catalogs\n",
    "\n",
    "Find groups of galaxies that:\n",
    "\n",
    "- Have central galaxies are brightest ones;\n",
    "\n",
    "- \"Central\" galaxies aren't the brightest;\n",
    "\n",
    "- \"Central\" and other galaxies have roughly similar M_V;\n",
    "\n"
   ]
  },
  {
   "cell_type": "code",
   "execution_count": 3,
   "id": "9b37de62-8893-4816-810d-22f8fc95da23",
   "metadata": {},
   "outputs": [],
   "source": [
    "import numpy as np\n",
    "import matplotlib.pyplot as plt\n",
    "import astropy.io.fits as fits"
   ]
  },
  {
   "cell_type": "code",
   "execution_count": 4,
   "id": "43d54610-78e0-450c-abf0-466f4702cbce",
   "metadata": {},
   "outputs": [],
   "source": [
    "from astropy.table import Table\n",
    "from astropy.coordinates import Angle"
   ]
  },
  {
   "cell_type": "code",
   "execution_count": 5,
   "id": "648ceb5d-e69b-4994-9ddb-8020ad09e2df",
   "metadata": {},
   "outputs": [],
   "source": [
    "from astropy import units as u\n",
    "from astropy.coordinates import SkyCoord"
   ]
  },
  {
   "cell_type": "code",
   "execution_count": 18,
   "id": "98989682-87d3-4f30-a122-b24c137971d8",
   "metadata": {},
   "outputs": [],
   "source": [
    "#load Harris 13 data \n",
    "data_H  = fits.getdata('/data/lemn/datalit/GC_cat_H13.fits')"
   ]
  },
  {
   "cell_type": "code",
   "execution_count": 252,
   "id": "1c2b42a3-ef01-4712-a966-6b0e2670651f",
   "metadata": {},
   "outputs": [],
   "source": [
    "#load Atlas data \n",
    "data_A  = fits.getdata('/data/lemn/Atlas.fits')"
   ]
  },
  {
   "cell_type": "code",
   "execution_count": 247,
   "id": "32d87af1-d6f5-4c46-9ce8-6d9cf15869cb",
   "metadata": {},
   "outputs": [
    {
     "name": "stdout",
     "output_type": "stream",
     "text": [
      "Filename: /data/lemn/Atlas.fits\n",
      "No.    Name      Ver    Type      Cards   Dimensions   Format\n",
      "  0  PRIMARY       1 PrimaryHDU       4   ()      \n",
      "  1                1 BinTableHDU    312   145155R x 143C   [19A, 27A, D, D, J, J, J, J, J, J, E, E, 7A, E, I, B, I, 3A, E, E, E, E, E, J, 7E, 7E, I, 7E, 7E, 7E, 7E, 7E, 5E, 7E, E, E, E, E, D, D, 7E, 105E, 105E, 105E, 105E, 105E, 105E, 7E, 7E, 7E, 7E, E, E, E, E, 7E, 7E, E, E, E, 7E, 7E, 7J, J, J, 8A, 15E, E, E, E, E, J, J, J, J, 7E, E, E, E, E, E, E, E, E, E, E, E, E, E, E, E, E, E, E, E, E, E, E, E, E, E, E, E, E, E, E, E, E, E, E, E, E, E, E, E, E, E, E, E, E, E, E, E, E, E, E, E, E, E, E, E, E, E, E, D, D, E, 6A, 23A, 8A, J, D, D]   \n"
     ]
    },
    {
     "data": {
      "text/plain": [
       "ColDefs(\n",
       "    name = 'IAUNAME'; format = '19A'\n",
       "    name = 'SUBDIR'; format = '27A'\n",
       "    name = 'RA'; format = 'D'\n",
       "    name = 'DEC'; format = 'D'\n",
       "    name = 'ISDSS'; format = 'J'\n",
       "    name = 'INED'; format = 'J'\n",
       "    name = 'ISIXDF'; format = 'J'\n",
       "    name = 'IALFALFA'; format = 'J'\n",
       "    name = 'IZCAT'; format = 'J'\n",
       "    name = 'ITWODF'; format = 'J'\n",
       "    name = 'MAG'; format = 'E'\n",
       "    name = 'Z'; format = 'E'\n",
       "    name = 'ZSRC'; format = '7A'\n",
       "    name = 'SIZE'; format = 'E'\n",
       "    name = 'RUN'; format = 'I'\n",
       "    name = 'CAMCOL'; format = 'B'\n",
       "    name = 'FIELD'; format = 'I'\n",
       "    name = 'RERUN'; format = '3A'\n",
       "    name = 'XPOS'; format = 'E'\n",
       "    name = 'YPOS'; format = 'E'\n",
       "    name = 'ZLG'; format = 'E'\n",
       "    name = 'ZDIST'; format = 'E'\n",
       "    name = 'ZDIST_ERR'; format = 'E'\n",
       "    name = 'NSAID'; format = 'J'\n",
       "    name = 'NMGY'; format = '7E'\n",
       "    name = 'NMGY_IVAR'; format = '7E'\n",
       "    name = 'OK'; format = 'I'\n",
       "    name = 'RNMGY'; format = '7E'\n",
       "    name = 'ABSMAG'; format = '7E'\n",
       "    name = 'AMIVAR'; format = '7E'\n",
       "    name = 'EXTINCTION'; format = '7E'\n",
       "    name = 'KCORRECT'; format = '7E'\n",
       "    name = 'KCOEFF'; format = '5E'\n",
       "    name = 'MTOL'; format = '7E'\n",
       "    name = 'B300'; format = 'E'\n",
       "    name = 'B1000'; format = 'E'\n",
       "    name = 'METS'; format = 'E'\n",
       "    name = 'MASS'; format = 'E'\n",
       "    name = 'XCEN'; format = 'D'\n",
       "    name = 'YCEN'; format = 'D'\n",
       "    name = 'NPROF'; format = '7E'\n",
       "    name = 'PROFMEAN'; format = '105E'; dim = '( 7, 15)'\n",
       "    name = 'PROFMEAN_IVAR'; format = '105E'; dim = '( 7, 15)'\n",
       "    name = 'QSTOKES'; format = '105E'; dim = '( 7, 15)'\n",
       "    name = 'USTOKES'; format = '105E'; dim = '( 7, 15)'\n",
       "    name = 'BASTOKES'; format = '105E'; dim = '( 7, 15)'\n",
       "    name = 'PHISTOKES'; format = '105E'; dim = '( 7, 15)'\n",
       "    name = 'PETROFLUX'; format = '7E'\n",
       "    name = 'PETROFLUX_IVAR'; format = '7E'\n",
       "    name = 'FIBERFLUX'; format = '7E'\n",
       "    name = 'FIBERFLUX_IVAR'; format = '7E'\n",
       "    name = 'BA50'; format = 'E'\n",
       "    name = 'PHI50'; format = 'E'\n",
       "    name = 'BA90'; format = 'E'\n",
       "    name = 'PHI90'; format = 'E'\n",
       "    name = 'SERSICFLUX'; format = '7E'\n",
       "    name = 'SERSICFLUX_IVAR'; format = '7E'\n",
       "    name = 'SERSIC_N'; format = 'E'\n",
       "    name = 'SERSIC_BA'; format = 'E'\n",
       "    name = 'SERSIC_PHI'; format = 'E'\n",
       "    name = 'ASYMMETRY'; format = '7E'\n",
       "    name = 'CLUMPY'; format = '7E'\n",
       "    name = 'DFLAGS'; format = '7J'\n",
       "    name = 'AID'; format = 'J'\n",
       "    name = 'PID'; format = 'J'\n",
       "    name = 'DVERSION'; format = '8A'\n",
       "    name = 'PROFTHETA'; format = '15E'\n",
       "    name = 'PETROTHETA'; format = 'E'\n",
       "    name = 'PETROTH50'; format = 'E'\n",
       "    name = 'PETROTH90'; format = 'E'\n",
       "    name = 'SERSIC_TH50'; format = 'E'\n",
       "    name = 'OBJNO'; format = 'J'\n",
       "    name = 'PLATE'; format = 'J'\n",
       "    name = 'FIBERID'; format = 'J'\n",
       "    name = 'MJD'; format = 'J'\n",
       "    name = 'COEFF'; format = '7E'\n",
       "    name = 'VDISP'; format = 'E'\n",
       "    name = 'D4000'; format = 'E'\n",
       "    name = 'D4000ERR'; format = 'E'\n",
       "    name = 'FA'; format = 'E'\n",
       "    name = 'FAERR'; format = 'E'\n",
       "    name = 'S2FLUX'; format = 'E'\n",
       "    name = 'S2FLUXERR'; format = 'E'\n",
       "    name = 'S2EW'; format = 'E'\n",
       "    name = 'S2EWERR'; format = 'E'\n",
       "    name = 'S2VMEAS'; format = 'E'\n",
       "    name = 'S2VMERR'; format = 'E'\n",
       "    name = 'S2RATIO'; format = 'E'\n",
       "    name = 'HAFLUX'; format = 'E'\n",
       "    name = 'HAFLUXERR'; format = 'E'\n",
       "    name = 'HAEW'; format = 'E'\n",
       "    name = 'HAEWERR'; format = 'E'\n",
       "    name = 'HAVMEAS'; format = 'E'\n",
       "    name = 'HAVMERR'; format = 'E'\n",
       "    name = 'N2FLUX'; format = 'E'\n",
       "    name = 'N2FLUXERR'; format = 'E'\n",
       "    name = 'N2EW'; format = 'E'\n",
       "    name = 'N2EWERR'; format = 'E'\n",
       "    name = 'N2VMEAS'; format = 'E'\n",
       "    name = 'N2VMERR'; format = 'E'\n",
       "    name = 'HBFLUX'; format = 'E'\n",
       "    name = 'HBFLUXERR'; format = 'E'\n",
       "    name = 'HBEW'; format = 'E'\n",
       "    name = 'HBEWERR'; format = 'E'\n",
       "    name = 'HBVMEAS'; format = 'E'\n",
       "    name = 'HBVMERR'; format = 'E'\n",
       "    name = 'O1FLUX'; format = 'E'\n",
       "    name = 'O1FLUXERR'; format = 'E'\n",
       "    name = 'O1EW'; format = 'E'\n",
       "    name = 'O1EWERR'; format = 'E'\n",
       "    name = 'O1VMEAS'; format = 'E'\n",
       "    name = 'O1VMERR'; format = 'E'\n",
       "    name = 'O2FLUX'; format = 'E'\n",
       "    name = 'O2FLUXERR'; format = 'E'\n",
       "    name = 'O2EW'; format = 'E'\n",
       "    name = 'O2EWERR'; format = 'E'\n",
       "    name = 'O2VMEAS'; format = 'E'\n",
       "    name = 'O2VMERR'; format = 'E'\n",
       "    name = 'O3FLUX'; format = 'E'\n",
       "    name = 'O3FLUXERR'; format = 'E'\n",
       "    name = 'O3EW'; format = 'E'\n",
       "    name = 'O3EWERR'; format = 'E'\n",
       "    name = 'O3VMEAS'; format = 'E'\n",
       "    name = 'O3VMERR'; format = 'E'\n",
       "    name = 'AHGEW'; format = 'E'\n",
       "    name = 'AHGEWERR'; format = 'E'\n",
       "    name = 'AHDEW'; format = 'E'\n",
       "    name = 'AHDEWERR'; format = 'E'\n",
       "    name = 'NE3EW'; format = 'E'\n",
       "    name = 'NE3EWERR'; format = 'E'\n",
       "    name = 'NE5EW'; format = 'E'\n",
       "    name = 'NE5EWERR'; format = 'E'\n",
       "    name = 'AV'; format = 'E'\n",
       "    name = 'S2NSAMP'; format = 'E'\n",
       "    name = 'RACAT'; format = 'D'\n",
       "    name = 'DECCAT'; format = 'D'\n",
       "    name = 'ZSDSSLINE'; format = 'E'\n",
       "    name = 'SURVEY'; format = '6A'\n",
       "    name = 'PROGRAMNAME'; format = '23A'\n",
       "    name = 'PLATEQUALITY'; format = '8A'\n",
       "    name = 'TILE'; format = 'J'\n",
       "    name = 'PLUG_RA'; format = 'D'\n",
       "    name = 'PLUG_DEC'; format = 'D'\n",
       ")"
      ]
     },
     "execution_count": 247,
     "metadata": {},
     "output_type": "execute_result"
    }
   ],
   "source": [
    "#infomation of data in Atlas\n",
    "hdul = fits.open('/data/lemn/Atlas.fits')\n",
    "hdul.info()\n",
    "hdul[0].header[1]\n",
    "hdul[1].columns"
   ]
  },
  {
   "cell_type": "raw",
   "id": "fc402928-a731-425d-8906-f0c14a8a561f",
   "metadata": {},
   "source": [
    "hdr = hdul[1].header\n",
    "hdr.comments['PLUG_RA']"
   ]
  },
  {
   "cell_type": "code",
   "execution_count": 248,
   "id": "1fdff471-15e7-4162-b885-fa9972ccc069",
   "metadata": {},
   "outputs": [],
   "source": [
    "#Hubble parameter\n",
    "h = 0.67"
   ]
  },
  {
   "cell_type": "code",
   "execution_count": 253,
   "id": "1f0214bd-4d9a-4a93-a3ce-c02af9425017",
   "metadata": {},
   "outputs": [
    {
     "name": "stdout",
     "output_type": "stream",
     "text": [
      "[[-15.1673565 -15.816648  -17.190884  ... -19.66704   -20.00378\n",
      "  -20.296247 ]\n",
      " [-15.458004  -15.936071  -16.966635  ... -18.400158  -18.55086\n",
      "  -18.714317 ]\n",
      " [-12.267342  -12.706323  -14.098556  ... -15.508064  -15.679038\n",
      "  -15.738412 ]\n",
      " ...\n",
      " [ -7.6111817  -8.024739   -9.467075  ... -11.802738  -12.302913\n",
      "  -12.68998  ]\n",
      " [ -6.642025   -6.7601223  -9.260235  ... -10.290306  -11.488373\n",
      "  -11.717308 ]\n",
      " [-11.586867  -11.616354  -13.559221  ... -11.997535  -12.160889\n",
      "  -12.567671 ]]\n"
     ]
    }
   ],
   "source": [
    "#All absolute magnitudes are given with H0 = 100 h km s-1 Mpc-1, so should be interpreted as M - 5 log10 h\n",
    "#Absolute magnitude estimates for FNugriz from K-corrections (Ωm=0.3, ΩΛ=0.7, h=1)\n",
    "Mag_A = data_A['ABSMAG']\n",
    "print(Mag_A)"
   ]
  },
  {
   "cell_type": "code",
   "execution_count": 254,
   "id": "40a979ad-ef69-4116-acba-da1d50c29369",
   "metadata": {},
   "outputs": [
    {
     "name": "stdout",
     "output_type": "stream",
     "text": [
      "[[-16.036982  -16.686274  -18.060509  ... -20.536665  -20.873405\n",
      "  -21.165873 ]\n",
      " [-16.32763   -16.805696  -17.83626   ... -19.269783  -19.420485\n",
      "  -19.583942 ]\n",
      " [-13.136968  -13.575949  -14.968182  ... -16.37769   -16.548664\n",
      "  -16.608038 ]\n",
      " ...\n",
      " [ -8.480807   -8.894365  -10.336701  ... -12.672364  -13.172539\n",
      "  -13.559606 ]\n",
      " [ -7.511651   -7.6297483 -10.129861  ... -11.159932  -12.357999\n",
      "  -12.586934 ]\n",
      " [-12.456493  -12.48598   -14.428847  ... -12.867161  -13.030515\n",
      "  -13.437297 ]]\n"
     ]
    }
   ],
   "source": [
    "Mag_A += 5*np.log10(h)\n",
    "print(Mag_A)"
   ]
  },
  {
   "cell_type": "code",
   "execution_count": 19,
   "id": "df616c3f-fdbd-4c48-802e-67b6427492e5",
   "metadata": {},
   "outputs": [],
   "source": [
    "#load M_V from Harris catalog\n",
    "Mag_H = data_H['Abs Mag']"
   ]
  },
  {
   "cell_type": "code",
   "execution_count": 21,
   "id": "5789929c-5e35-46a6-9303-b3fd55283c18",
   "metadata": {},
   "outputs": [],
   "source": [
    "m_stellar = data_A['MASS']\n",
    "r_pe      = data_A['PETROTHETA']"
   ]
  },
  {
   "cell_type": "code",
   "execution_count": 20,
   "id": "9f2d5a65-4078-4c3b-8844-72d2a55cce2e",
   "metadata": {},
   "outputs": [],
   "source": [
    "N_GC = data_H['NGCs']"
   ]
  },
  {
   "cell_type": "code",
   "execution_count": 22,
   "id": "e0b25ddc-fb0d-4ea5-a9ed-49c29b1b9565",
   "metadata": {},
   "outputs": [],
   "source": [
    "#coordinates of Atlas catalog\n",
    "c_Atlas = SkyCoord(ra=data_A['RA']*u.degree, dec=data_A['DEC']*u.degree, frame='icrs')"
   ]
  },
  {
   "cell_type": "code",
   "execution_count": 23,
   "id": "15aef35f-b7b8-45c2-87b5-582d290cfd53",
   "metadata": {},
   "outputs": [],
   "source": [
    "#coordinates of Harris13 catalog\n",
    "c_Harris = SkyCoord(ra=data_H['RA']*u.degree, dec=data_H['DEC']*u.degree, frame='icrs') #since ra_H now is the value->multiplied to unit"
   ]
  },
  {
   "cell_type": "code",
   "execution_count": 230,
   "id": "d08c93d7-d82b-4c5c-b833-675533eccc89",
   "metadata": {},
   "outputs": [],
   "source": [
    "#source.match_to_catalog_sky(catalog)\n",
    "idx, d2d, d3d = c_Harris.match_to_catalog_sky(c_Atlas)"
   ]
  },
  {
   "cell_type": "code",
   "execution_count": 231,
   "id": "f96f8e8f-c079-4ae1-b11a-7c603229f561",
   "metadata": {},
   "outputs": [],
   "source": [
    "d2d = d2d.arcsec #convert d2d to [arcsec], then take the value and remove the unit\n",
    "#print(d2d)"
   ]
  },
  {
   "cell_type": "code",
   "execution_count": 232,
   "id": "2733fbf3-a91a-4983-b438-65be3a8327e7",
   "metadata": {},
   "outputs": [
    {
     "name": "stdout",
     "output_type": "stream",
     "text": [
      "total number of galaxies in Harris 418\n",
      "[    -1 112939     -1     -1     -1 114192 114303 114305     -1     -1\n",
      "     -1     -1 115241     -1 115775 116080 116190 116462     -1     -1\n",
      " 116953     -1     -1     -1     -1     -1     -1     -1     -1     -1\n",
      " 118591     -1 118810     -1     -1     -1     -1     -1 119413     -1\n",
      "     -1     -1     -1     -1     -1     -1     -1     -1     -1     -1\n",
      "     -1     -1     -1     -1     -1     -1     -1     -1     -1     -1\n",
      "     -1     -1     -1     -1     -1     -1     -1     -1     -1     -1\n",
      "     -1     -1     -1     -1     -1     -1     -1     -1     -1     -1\n",
      "     -1     -1     -1     -1     -1     -1     -1     -1     -1     -1\n",
      "     -1     -1     -1     -1     -1     -1     -1     -1     -1     -1\n",
      "     -1     -1     -1     -1     -1     -1     -1     -1     -1     -1\n",
      "     -1     -1     -1     -1     -1     -1     -1     -1     -1     -1\n",
      "     -1     -1     -1     -1  74602 138271     -1 121417     -1     -1\n",
      "     -1 121562 121572 121653     -1     -1     -1     -1     -1 121974\n",
      " 138817     -1     -1     -1     -1 138899 139005 122903  58965     -1\n",
      "     -1 139079     -1     -1 123677 139196 139206  66962 123797 139266\n",
      " 139317 139425     -1 139437     -1     -1 124569 124599 139515 124634\n",
      "  34835     -1 101814  34891     -1     -1     -1  12574  67670  44083\n",
      " 126164 126171  67664 140128     -1     -1  67651  67735 126275  59854\n",
      "  59830     -1 126355 126370 140237  92210 126376 126388     -1 140261\n",
      " 140264 126431 126438 140286 140287 140297  60429     -1 126469 126477\n",
      "  44206     -1 126494 105679 140323 126500 144479 126508 126516  59910\n",
      "  44222  59948 140350 126545  59875 126556 140364 140370 126574 126581\n",
      " 140378 126586  60512  44156  59873     -1 126603  44281  59938     -1\n",
      "  59920  60497 140398 126628 126630     -1 126640  59870     -1 126652\n",
      " 126653  59960     -1     -1  44233 126663  59959  59961 126671  44249\n",
      " 126679  60523 126685 105685     -1  60522 126700 140434     -1  60015\n",
      " 140444  44333 144480     -1     -1 105738  44330 140460 105728     -1\n",
      " 126752 126753  60014 126763 140470     -1  60019  60002 140482  59968\n",
      " 140492     -1  59997     -1 126805 140504 126806 140515  59988     -1\n",
      "     -1 140525  44348  67851 126911 126912  44306  60037  67870  92874\n",
      " 126959  44358     -1  67847 127007  63090 140580     -1  63087 127051\n",
      " 127085  12873 140598 127139 127192 127247 140622  69071  63065 127394\n",
      " 140678 127489 127561     -1  93050  93175  93449 140743  93454  93229\n",
      " 127750 127756  93244  93243 140765  93436 140772 127802  93471  93499\n",
      "     -1     -1     -1     -1     -1     -1     -1     -1     -1     -1\n",
      "     -1 128414     -1     -1     -1     -1     -1     -1     -1 128716\n",
      "  47667 129558     -1 130346 130395  13832 141954     -1 130531 130547\n",
      " 142220 130831     -1  89134  89134  89386  89663  89575 131110 131243\n",
      "     -1  26662 131436  26802 132240     -1     -1     -1     -1     -1\n",
      "     -1     -1     -1     -1     -1     -1     -1     -1 133962 133969\n",
      " 133978     -1 134435 135105 135848     -1 136362     -1]\n",
      "total number of matched galaxies is 220\n"
     ]
    }
   ],
   "source": [
    "i_count = len(idx)\n",
    "print('total number of galaxies in Harris', i_count)\n",
    "for i in range (0, len(idx)):\n",
    "    if (d2d[i] > r_pe[i]):\n",
    "        idx[i] = -1   #remotve the matches that larger than petrosian radius of galaxies\n",
    "        i_count -= 1\n",
    "print(idx)\n",
    "print('total number of matched galaxies is', i_count)"
   ]
  },
  {
   "cell_type": "code",
   "execution_count": 233,
   "id": "19e64f79-4037-4ca6-a9c2-c11a4d8e003c",
   "metadata": {},
   "outputs": [],
   "source": [
    "idx_match_in_A = np.flatnonzero(idx != -1)"
   ]
  },
  {
   "cell_type": "code",
   "execution_count": 27,
   "id": "6cefa26d-fa63-44a7-b7e8-a19c55a1fb32",
   "metadata": {},
   "outputs": [
    {
     "name": "stdout",
     "output_type": "stream",
     "text": [
      "383 384\n"
     ]
    }
   ],
   "source": [
    "for i in range(0,len(idx)):\n",
    "    for j in range(i+1,len(idx)):\n",
    "        if i!=j and idx[i] != -1 and idx[j] != -1 and idx[i] == idx[j]:\n",
    "            print (i,j)\n",
    "#=> the two look like they are going to merge"
   ]
  },
  {
   "cell_type": "code",
   "execution_count": 28,
   "id": "a69e364b-b6c4-4552-8079-00ab05170442",
   "metadata": {},
   "outputs": [],
   "source": [
    "#take the stellar mass from Atlas catalog\n",
    "N_GC_match      = np.zeros(i_count)\n",
    "m_stellar_match = np.zeros(i_count)\n",
    "ii = 0\n",
    "\n",
    "for i in range (0, len(idx)):\n",
    "    if (idx[i] != -1):\n",
    "        N_GC_match[ii]      = N_GC[i]\n",
    "        m_stellar_match[ii] = m_stellar[idx[i]]\n",
    "        ii += 1"
   ]
  },
  {
   "cell_type": "code",
   "execution_count": 29,
   "id": "b81bee65-cd13-4a49-86b6-9690ff1625e2",
   "metadata": {},
   "outputs": [],
   "source": [
    "ra_H = data_H['RA']\n",
    "dec_H = data_H['DEC']\n",
    "\n",
    "ra_match     = np.zeros(i_count)\n",
    "dec_match    = np.zeros(i_count)\n",
    "id_match     = np.zeros(i_count)  #Harris ID of matching galaxies\n",
    "\n",
    "ii = 0\n",
    "\n",
    "for i in range (0, len(idx)):\n",
    "    if (idx[i] != -1):\n",
    "        ra_match[ii]  = ra_H[i]\n",
    "        dec_match[ii] = dec_H[i]\n",
    "        id_match[ii]  = i      \n",
    "        ii += 1"
   ]
  },
  {
   "cell_type": "raw",
   "id": "a85756cf-84f1-4cfb-98f7-6fd20ba77487",
   "metadata": {},
   "source": [
    "#the id of galaxies in Harris catalog which match to Atlas\n",
    "for i in range(0,len(id_match)):\n",
    "    print(id_match[i], ra_match[i],dec_match[i], np.log10(m_stellar_match[i]))"
   ]
  },
  {
   "cell_type": "code",
   "execution_count": 31,
   "id": "93a058dd-db8d-4be8-92de-e5d0d1b0b59b",
   "metadata": {},
   "outputs": [],
   "source": [
    "#now follow Moster13 to find M_halo of the galaxies\n",
    "from scipy.optimize import fsolve "
   ]
  },
  {
   "cell_type": "code",
   "execution_count": 32,
   "id": "c245a1d2-47da-4ee7-b734-2e6851e565c1",
   "metadata": {},
   "outputs": [],
   "source": [
    "#Paramters adopted from Moster et al. 13, table 1\n",
    "M_10     = 11.59\n",
    "M_11     = 1.195\n",
    "N_10     = 0.0351\n",
    "N_11     = -0.0247\n",
    "beta_10  = 1.376               \n",
    "beta_11  = -0.826\n",
    "gamma_10 = 0.608\n",
    "gamma_11 = 0.329"
   ]
  },
  {
   "cell_type": "code",
   "execution_count": 33,
   "id": "547d115f-29ed-44b4-b7c6-f218dda764fa",
   "metadata": {},
   "outputs": [
    {
     "name": "stdout",
     "output_type": "stream",
     "text": [
      "11.59 0.0702 1.376 0.608\n"
     ]
    }
   ],
   "source": [
    "#calculate the parameters(z) for SHM relation\n",
    "z = 0\n",
    "\n",
    "log_M1 = M_10 + M_11*z/(z+1)\n",
    "M_1    = 10**log_M1\n",
    "NN     = N_10 + N_11*z/(z+1)\n",
    "beta   = beta_10 + beta_11*z/(z+1)\n",
    "gamma  = gamma_10 + gamma_11*z/(z+1)\n",
    "\n",
    "print(np.log10(M_1),NN*2,beta,gamma)"
   ]
  },
  {
   "cell_type": "code",
   "execution_count": 34,
   "id": "426d4683-a239-41e7-a5f1-6aa968139cfe",
   "metadata": {},
   "outputs": [],
   "source": [
    "i = 0\n",
    "M_guess = 1e10\n",
    "M_h_array = np.zeros(i_count)\n",
    "\n",
    "for m in m_stellar_match:\n",
    "    func = lambda M_h : m - 2*NN*M_h/((M_h/M_1)**(-beta) + (M_h/M_1)**gamma)  \n",
    "    M_h_array[i] = fsolve(func,M_guess)\n",
    "    i += 1    \n",
    "#print(M_h_array)"
   ]
  },
  {
   "cell_type": "code",
   "execution_count": 35,
   "id": "91fd290d-afd2-4084-9e1b-bd6e41ef3c3b",
   "metadata": {},
   "outputs": [
    {
     "data": {
      "text/plain": [
       "Text(0.5, 1.0, 'm_stellar(M_halo) compare to Fig.1 in Moster13')"
      ]
     },
     "execution_count": 35,
     "metadata": {},
     "output_type": "execute_result"
    },
    {
     "data": {
      "image/png": "[encoded data removed]",
      "text/plain": [
       "<Figure size 720x720 with 1 Axes>"
      ]
     },
     "metadata": {
      "needs_background": "light"
     },
     "output_type": "display_data"
    }
   ],
   "source": [
    "# compare the result to Harris catalog (all GCs)\n",
    "plt.figure(figsize=[10,10])\n",
    "ax = plt.axes()\n",
    "ax.set_xscale(\"log\")\n",
    "ax.set_yscale(\"log\")\n",
    "ax.set_ylabel(\"$m_{stellar} [M_\\odot]$\")\n",
    "ax.set_xlabel(\"$M_{halo} [M_\\odot]$\")    \n",
    "ax.scatter( M_h_array,m_stellar_match)\n",
    "ax.set_title('m_stellar(M_halo) compare to Fig.1 in Moster13')"
   ]
  },
  {
   "cell_type": "code",
   "execution_count": 36,
   "id": "4685a471-9cd9-4407-a4e9-1e7134c1b3dd",
   "metadata": {},
   "outputs": [
    {
     "name": "stdout",
     "output_type": "stream",
     "text": [
      "[11.40410493]\n"
     ]
    }
   ],
   "source": [
    "#for only the NGC4377\n",
    "m = 10**9.84  #taken from Lehmar 2020\n",
    "func = lambda M_h : m - 2*NN*M_h/((M_h/M_1)**(-beta) + (M_h/M_1)**gamma)  \n",
    "M_h_test = fsolve(func,1e10)\n",
    "\n",
    "print(np.log10(M_h_test))\n",
    "#M_h is different from one calculated by matching+Moster "
   ]
  },
  {
   "cell_type": "code",
   "execution_count": 37,
   "id": "b402f58c-3a7f-4144-be94-54fa5970a824",
   "metadata": {},
   "outputs": [
    {
     "data": {
      "text/plain": [
       "<matplotlib.legend.Legend at 0x7f4b9c1ae5f0>"
      ]
     },
     "execution_count": 37,
     "metadata": {},
     "output_type": "execute_result"
    },
    {
     "data": {
      "image/png": "[encoded data removed]",
      "text/plain": [
       "<Figure size 720x720 with 1 Axes>"
      ]
     },
     "metadata": {
      "needs_background": "light"
     },
     "output_type": "display_data"
    }
   ],
   "source": [
    "# compare the result to Harris catalog (all GCs)\n",
    "plt.figure(figsize=[10,10])\n",
    "ax = plt.axes()\n",
    "ax.set_xscale(\"log\")\n",
    "ax.set_yscale(\"log\")\n",
    "ax.set_xlabel(\"M halo(z=0) [M_sun]\")\n",
    "ax.set_ylabel(\"Number of GCs\")    \n",
    "ax.scatter(M_h_test, N_GC_match[75], color='r', label ='NGC4377')\n",
    "ax.scatter(M_h_array, N_GC_match, marker='d', label ='Atlas+Harris13')\n",
    "ax.legend()"
   ]
  },
  {
   "cell_type": "code",
   "execution_count": 38,
   "id": "d5119b28-ed1e-4b95-abcf-7b7135b45e94",
   "metadata": {},
   "outputs": [
    {
     "name": "stdout",
     "output_type": "stream",
     "text": [
      "75 , halo mass: 3.2523147318264884 *1e15 M_sun, number of GC: 74.0\n"
     ]
    }
   ],
   "source": [
    "#found the most massive halo (>1e15 M_sun) but has N_GC ~ 100\n",
    "for i in range(0,i_count):\n",
    "    if (M_h_array[i] > 1e15 and N_GC_match[i]<200):\n",
    "        print(i,', halo mass:' , M_h_array[i]/1e15,'*1e15 M_sun, number of GC:', N_GC_match[i])\n"
   ]
  },
  {
   "cell_type": "code",
   "execution_count": 43,
   "id": "1800d84f-6280-45c2-938d-b8bad9f8c7e4",
   "metadata": {},
   "outputs": [
    {
     "name": "stdout",
     "output_type": "stream",
     "text": [
      "75\n"
     ]
    }
   ],
   "source": [
    "#correct the wrong matching galaxy\n",
    "no = np.argmax(M_h_array)\n",
    "print(no)\n",
    "M_h_array[no] = 2.51189e11\n",
    "m_stellar_match[no] = 10**9.84\n",
    "#print(M_h)"
   ]
  },
  {
   "cell_type": "code",
   "execution_count": 39,
   "id": "a67c84f5-8c37-4bba-bcba-1d82b2e0591e",
   "metadata": {},
   "outputs": [],
   "source": [
    "#Find R_vir from M_vir\n",
    "def rvirial_from_mvirial(mv,cosmology,rho_virial=200.0,z=0.0):\n",
    "    \"\"\"\n",
    "    mv:         virial mass (Msol)\n",
    "    cosmology:  astropy.cosmology object\n",
    "    rho_virial: overdensity of a virialized halo, rel. to rho_crit (default 200)\n",
    "    z:          redshift\n",
    "    \n",
    "    Returns: virial radius (Mpc)\n",
    "    \"\"\" \n",
    "    import numpy as np\n",
    "    import astropy.units as u\n",
    "\n",
    "    rho_crit = cosmology.critical_density(z)\n",
    "    \n",
    "    return ((mv/((4.0/3.0)*np.pi*rho_virial*rho_crit))**(1.0/3.0)).to(u.Mpc)"
   ]
  },
  {
   "cell_type": "code",
   "execution_count": 40,
   "id": "235df7eb-1eb7-44c4-8bd5-3a329a4f10e3",
   "metadata": {},
   "outputs": [
    {
     "data": {
      "text/latex": [
       "$2.0627899 \\; \\mathrm{Mpc}$"
      ],
      "text/plain": [
       "<Quantity 2.06278993 Mpc>"
      ]
     },
     "execution_count": 40,
     "metadata": {},
     "output_type": "execute_result"
    }
   ],
   "source": [
    "import astropy.cosmology as cosmo\n",
    "import astropy.units as u\n",
    "lcdm = cosmo.FlatLambdaCDM(70,0.3)\n",
    "\n",
    "rvirial_from_mvirial(1e15*u.Msun,lcdm)"
   ]
  },
  {
   "cell_type": "code",
   "execution_count": 127,
   "id": "b1ee306e-41e6-474c-8b12-0a87755c2dbc",
   "metadata": {},
   "outputs": [],
   "source": [
    "def distance_to_central(ra_cen,dec_cen,ra_sat,dec_sat):\n",
    "    return np.sqrt((ra_cen-ra_sat)**2+(dec_cen-dec_sat)**2)"
   ]
  },
  {
   "cell_type": "code",
   "execution_count": 183,
   "id": "6f49ba82-5f97-4a5f-8c65-337c2fb76fc3",
   "metadata": {},
   "outputs": [],
   "source": [
    "r_vir = np.zeros(len(M_h_array))*u.Mpc\n",
    "for i in range(0,len(M_h_array)):\n",
    "    r_vir[i] = rvirial_from_mvirial(M_h_array[i]*u.Msun,lcdm)"
   ]
  },
  {
   "cell_type": "raw",
   "id": "86559451-a4b1-4073-9259-2f4723f971bd",
   "metadata": {},
   "source": [
    "print(r_vir)"
   ]
  },
  {
   "cell_type": "code",
   "execution_count": 178,
   "id": "aa8de209-0074-4248-9fb5-e7ae3829ef34",
   "metadata": {},
   "outputs": [],
   "source": [
    "r_vir2 = r_vir"
   ]
  },
  {
   "cell_type": "code",
   "execution_count": 179,
   "id": "38982fc2-2ced-46ab-a7ea-f6a017c34975",
   "metadata": {},
   "outputs": [],
   "source": [
    "i = 0\n",
    "check = np.zeros(len(r_vir2)) #check if it is single galaxy(no satelite)= 0; if it has satelite = 1, if it is satelite = idx of the central gal\n",
    "while (np.any(r_vir2 != 0) == True):\n",
    "    cen = np.argmax(r_vir2) #find the maximum r_vir\n",
    "    #print('cen is ', cen)\n",
    "    for ii in range(0,len(r_vir2)):\n",
    "        #considered satelite gal if distance to central is smaller than virial radius of central, r_vir != 0 to make sure it is only sat of 1 group\n",
    "        if ii != cen and r_vir2[ii] != 0 and distance_to_central(ra_match[cen],dec_match[cen],ra_match[ii],dec_match[ii])*u.Mpc < r_vir2[cen]:\n",
    "            #print('satelites are:', ii)\n",
    "            check[cen] = 1\n",
    "            check[ii]  = cen\n",
    "            r_vir2[ii] = 0   #remove it out of considered list\n",
    "    r_vir2[cen] = 0          #remove it out of considered list\n",
    "    i += 1\n",
    "    #print('next group')"
   ]
  },
  {
   "cell_type": "code",
   "execution_count": 180,
   "id": "8154b7cb-7d13-4e22-9190-c4848d0b38d0",
   "metadata": {},
   "outputs": [
    {
     "name": "stdout",
     "output_type": "stream",
     "text": [
      "[  0.   0.   0.   0.   0.   0.   0.   0.   0.   0.   0.   0.   0.   0.\n",
      "   0.   0.   0.   0.   0.   0.   0.   0.   0.   0.   0.   0.   0.   1.\n",
      "  27.   0.   0.   0.   0.   0.   0.   0.   1.  36.   0.   0.   0.   0.\n",
      "   0.   0.   0.   0.   0.   0.   0.   0.   0.   0.   0.   0.   0.   0.\n",
      "   0.   0.   0.   0.   0.   0.   0.   0.   0.   0.   0.   0.  69.   1.\n",
      "   0.   0.  77.   0.   1.   0.   0.   1.  74.   0.   0.   0.   0.   0.\n",
      "   0.   0.   0.  89.   0.   1.   0.  89.   0.   0.   0.   0.   0.   0.\n",
      "   0.   0. 104.   0.   0. 115.   1.   0. 115.   0. 104. 115. 104. 115.\n",
      "   0.   0.   0.   1.   0.   0.   0.   0. 115.   0.   0.   0.   0.   0.\n",
      "   0.   0.   0.   0.   0.   0.   0.   0.   0.   0.   0. 138.   1.   0.\n",
      "   0.   0.   0.   0.   0.   0.   0.   0.   0.   0.   0.   0.   0.   0.\n",
      "   0.   0.   0.   0.   0.   0.   0. 164.   0.   0.   1.   0.   0.   0.\n",
      "   0.   0.   0.   1. 171.   1. 173. 183. 183. 183. 183. 183. 183. 183.\n",
      " 183.   1. 183. 183. 183. 183. 183. 183.   0.   0.   0.   0.   0. 196.\n",
      "   1.   0.   0.   0.   0.   0.   1. 202. 205.   1. 207.   1.   0. 211.\n",
      "   0.   1.   0.   0.   1. 214.   0.   0.   0.   0.]\n"
     ]
    }
   ],
   "source": [
    "print(check)"
   ]
  },
  {
   "cell_type": "code",
   "execution_count": 219,
   "id": "9524ab3e-96c5-4633-91d3-876985080935",
   "metadata": {},
   "outputs": [
    {
     "name": "stdout",
     "output_type": "stream",
     "text": [
      "total central galaxies are 19\n"
     ]
    }
   ],
   "source": [
    "#now check if the central galaxies contain other galaxies (which is in the Harris but not matched to Atlas)\n",
    "#by take it idx and compare the distance from other galaxies to it with its halo virial radius\n",
    "#idx of this central in Harris catalog\n",
    "\n",
    "cen1 = np.flatnonzero(check==1)\n",
    "cen = id_match[cen1]\n",
    "print('total central galaxies are', len(cen))"
   ]
  },
  {
   "cell_type": "raw",
   "id": "befc8542-62a1-4d2e-a80a-cfa53fd2ce30",
   "metadata": {},
   "source": [
    "#check with other gals not matched, in H\n",
    "i_dim = 0\n",
    "for i in range (0,len(cen)):\n",
    "    idx = int(cen[i])\n",
    "    idx1 = int(cen1[i]) #since only the list cen1 has r_vir\n",
    "    for j in range(0,len(ra_H)):\n",
    "        if j != idx and distance_to_central(ra_H[idx],dec_H[idx],ra_H[j],dec_H[j])*u.Mpc < r_vir[idx1]:\n",
    "            #print('central', idx ,' satelite:', j)\n",
    "            if Mag_H[j] <= Mag_H[idx]: #check if satelite is brighter than central\n",
    "                i_dim +=1\n",
    "                print('central', idx, Mag_H[idx] ,'is dimmer than satelite:', j, Mag_H[j])\n",
    "                \n",
    "#print('#central galaxies that are dimmer than their satelites are', i_dim)"
   ]
  },
  {
   "cell_type": "code",
   "execution_count": 262,
   "id": "fb0fd2f2-aeaa-4dab-8459-7b2350e2feb8",
   "metadata": {},
   "outputs": [
    {
     "name": "stdout",
     "output_type": "stream",
     "text": [
      "central 292 -19.15 is dimmer than satelite: 290 -19.39\n",
      "central 330 -20.53 is dimmer than satelite: 331 -21.7\n",
      "central 332 -22.25 is dimmer than satelite: 334 -23.16\n",
      "central 343 -23.47 is dimmer than satelite: 339 -23.48\n"
     ]
    }
   ],
   "source": [
    "#check with other gals not matched, in H; \n",
    "i_dim = 0\n",
    "for i in range (0,len(cen)):\n",
    "    idx = int(cen[i])\n",
    "    idx1 = int(cen1[i]) #since only the list cen1 has r_vir\n",
    "    for j in range(0,len(ra_H)):\n",
    "        if j != idx and distance_to_central(ra_H[idx],dec_H[idx],ra_H[j],dec_H[j])*u.Mpc < r_vir[idx1]:\n",
    "            #print('central', idx ,' satelite:', j)\n",
    "            if Mag_H[j] <= Mag_H[idx]: #check if satelite is brighter than central\n",
    "                i_dim +=1\n",
    "                print('central', idx, Mag_H[idx] ,'is dimmer than satelite:', j, Mag_H[j])\n",
    "                check[idx1] = 1.5 #denote that this \"central\" is dimmer than its \"satelite\"\n",
    "#print('#central galaxies that are dimmer than their satelites are', i_dim)"
   ]
  },
  {
   "cell_type": "code",
   "execution_count": 263,
   "id": "de525557-c736-47c0-aeac-ae1030aec36c",
   "metadata": {},
   "outputs": [
    {
     "name": "stdout",
     "output_type": "stream",
     "text": [
      "[  0.    0.    0.    0.    0.    0.    0.    0.    0.    0.    0.    0.\n",
      "   0.    0.    0.    0.    0.    0.    0.    0.    0.    0.    0.    0.\n",
      "   0.    0.    0.    1.   27.    0.    0.    0.    0.    0.    0.    0.\n",
      "   1.   36.    0.    0.    0.    0.    0.    0.    0.    0.    0.    0.\n",
      "   0.    0.    0.    0.    0.    0.    0.    0.    0.    0.    0.    0.\n",
      "   0.    0.    0.    0.    0.    0.    0.    0.   69.    1.    0.    0.\n",
      "  77.    0.    1.    0.    0.    1.   74.    0.    0.    0.    0.    0.\n",
      "   0.    0.    0.   89.    0.    1.    0.   89.    0.    0.    0.    0.\n",
      "   0.    0.    0.    0.  104.    0.    0.  115.    1.    0.  115.    0.\n",
      " 104.  115.  104.  115.    0.    0.    0.    1.    0.    0.    0.    0.\n",
      " 115.    0.    0.    0.    0.    0.    0.    0.    0.    0.    0.    0.\n",
      "   0.    0.    0.    0.    0.  138.    1.5   0.    0.    0.    0.    0.\n",
      "   0.    0.    0.    0.    0.    0.    0.    0.    0.    0.    0.    0.\n",
      "   0.    0.    0.    0.    0.  164.    0.    0.    1.    0.    0.    0.\n",
      "   0.    0.    0.    1.5 171.    1.5 173.  183.  183.  183.  183.  183.\n",
      " 183.  183.  183.    1.5 183.  183.  183.  183.  183.  183.    0.    0.\n",
      "   0.    0.    0.  196.    1.    0.    0.    0.    0.    0.    1.  202.\n",
      " 205.    1.  207.    1.    0.  211.    0.    1.    0.    0.    1.  214.\n",
      "   0.    0.    0.    0. ]\n"
     ]
    }
   ],
   "source": [
    "print(check)"
   ]
  },
  {
   "cell_type": "raw",
   "id": "34e434e2-019b-43b1-b2bb-329f63296946",
   "metadata": {},
   "source": [
    "#check with other gals not matched, in A\n",
    "i_dim = 0\n",
    "for i in range (0,len(cen)):\n",
    "    idx = int(cen[i])\n",
    "    idx1 = int(cen1[i]) #since only the list cen1 has r_vir\n",
    "    for j in range(0,len(ra_A)):\n",
    "        if j != idx and j not in idx_match_in_A and distance_to_central(ra_H[idx],dec_H[idx],ra_A[j],dec_A[j])*u.Mpc < r_vir[idx1]:\n",
    "            #print('central', idx ,' satelite:', j)\n",
    "            if Mag_A[j] <= Mag_H[idx]: #check if satelite is brighter than central\n",
    "                i_dim +=1\n",
    "                print('central', idx, Mag_H[idx] ,'is dimmer than satelite:', j, Mag_A[j])\n",
    "                \n",
    "#print('#central galaxies that are dimmer than their satelites are', i_dim)"
   ]
  },
  {
   "cell_type": "raw",
   "id": "8c474286-2b99-4c4c-9561-2202c70f4d3d",
   "metadata": {},
   "source": [
    "for i in Mag_A:\n",
    "    print(i)"
   ]
  },
  {
   "cell_type": "code",
   "execution_count": 228,
   "id": "56147d0f-0598-466a-9f22-3557007f5826",
   "metadata": {},
   "outputs": [
    {
     "name": "stdout",
     "output_type": "stream",
     "text": [
      "[  0   1   2   3   4   5   6   7   8   9  10  11  12  13  14  15  16  17\n",
      "  18  19  20  21  22  23  24  25  26  29  30  31  32  33  34  35  38  39\n",
      "  40  41  42  43  44  45  46  47  48  49  50  51  52  53  54  55  56  57\n",
      "  58  59  60  61  62  63  64  65  66  67  70  71  73  75  76  79  80  81\n",
      "  82  83  84  85  86  88  90  92  93  94  95  96  97  98  99 101 102 105\n",
      " 107 112 113 114 116 117 118 119 121 122 123 124 125 126 127 128 129 130\n",
      " 131 132 133 134 135 136 139 140 141 142 143 144 145 146 147 148 149 150\n",
      " 151 152 153 154 155 156 157 158 159 160 162 163 165 166 167 168 169 170\n",
      " 190 191 192 193 194 197 198 199 200 201 208 210 212 213 216 217 218 219]\n"
     ]
    }
   ],
   "source": [
    "#single galaxy\n",
    "single1 = np.flatnonzero(check==0)\n",
    "print(single1)"
   ]
  },
  {
   "cell_type": "raw",
   "id": "236b8b8d-e093-4451-9a33-1f9704880da1",
   "metadata": {},
   "source": [
    "ra_A = data_A['RA']\n",
    "dec_A = data_A['DEC']"
   ]
  },
  {
   "cell_type": "raw",
   "id": "dd02928e-92f2-4df9-a61b-dcf7e920d649",
   "metadata": {},
   "source": [
    "i_dim = 0\n",
    "single1 = id_match[single]\n",
    "for i in range(0,len(single)):\n",
    "    idx = int(single[i])\n",
    "    idx1 = int(single1[i])\n",
    "    for j in range(0,len(ra_H)):\n",
    "        if j != idx and distance_to_central(ra_H[idx],dec_H[idx],ra_H[j],dec_H[j])*u.Mpc < r_vir[idx1]:\n",
    "            print('central', idx ,' satelite:', j)\n",
    "            if Mag_H[j] <= Mag_H[idx]: #check if satelite is brighter than central\n",
    "                i_dim +=1\n",
    "                print('central', idx, Mag_H[idx] ,'is dimmer than satelite:', j, Mag_H[j])\n",
    "                \n",
    "#print('#central galaxies that are dimmer than their satelites are', i_dim)"
   ]
  },
  {
   "cell_type": "raw",
   "id": "717a48bb-7370-4a5e-ab57-12107e5af719",
   "metadata": {},
   "source": [
    "#check with other in Atlas catalog\n",
    "single = id_match[single1]\n",
    "i_dim=0\n",
    "for i in range(0,len(single)):\n",
    "    idx = int(single[i])\n",
    "    idx1 = int(single1[i])\n",
    "    for j in range(0,len(ra_A)):\n",
    "        if j != idx and distance_to_central(ra_H[idx],dec_H[idx],ra_A[j],dec_A[j])*u.Mpc < r_vir[idx1]:\n",
    "            print('central', idx ,' satelite:', j)\n",
    "            if Mag_A[j] <= Mag_H[idx]: #check if satelite is brighter than central\n",
    "                i_dim +=1\n",
    "                print('central', idx, Mag_H[idx] ,'is dimmer than satelite:', j, Mag_A[j])\n",
    "           "
   ]
  },
  {
   "cell_type": "code",
   "execution_count": 269,
   "id": "485f914b-ec5a-4e7f-97c2-1e1aff9cc5c9",
   "metadata": {},
   "outputs": [],
   "source": [
    "#sum up all the GCs inside same halos\n",
    "sum_NGC = np.zeros(len(check))\n",
    "for i in range(0,len(check)):\n",
    "    ii = int(id_match[i])    #real id in Harris catalog\n",
    "    if check[i] == 1 or check[i] == 1.5: #sum up the number of GCs in DM halos which have true and \"fake\" centrals\n",
    "        sum_NGC[i] = N_GC[ii]\n",
    "        for j in range(0,len(ra_H)):\n",
    "            if j != ii and distance_to_central(ra_H[ii],dec_H[ii],ra_H[j],dec_H[j])*u.Mpc < r_vir[i]:\n",
    "                sum_NGC[i] += N_GC[j]\n",
    "    elif check[i] == 0:  #for single galaxies\n",
    "        sum_NGC[i] = N_GC[ii]\n",
    "#=> final results are the sum_NGC vs M_h_array"
   ]
  },
  {
   "cell_type": "markdown",
   "id": "7862d3c1-5b01-44b4-8277-0069c43a278b",
   "metadata": {},
   "source": [
    "Plot the results together with previous results"
   ]
  },
  {
   "cell_type": "code",
   "execution_count": 255,
   "id": "a0dabc7a-826d-49e9-b1db-5d13bcb7575a",
   "metadata": {},
   "outputs": [],
   "source": [
    "#load theory results\n",
    "M_halo_theo                 = np.loadtxt(\"/data/lemn/theory_results/theory_Creaseymodel.txt\" ,usecols=(0))\n",
    "N_GC_Mill_Creaseytheo       = np.loadtxt(\"/data/lemn/theory_results/theory_Creaseymodel.txt\" ,usecols=(1))\n",
    "err_N_GC_Mill_Creaseytheo   = np.loadtxt(\"/data/lemn/theory_results/theory_Creaseymodel.txt\" ,usecols=(2))\n",
    "N_GC_Planck_Creaseytheo     = np.loadtxt(\"/data/lemn/theory_results/theory_Creaseymodel.txt\" ,usecols=(3))\n",
    "err_N_GC_Planck_Creaseytheo = np.loadtxt(\"/data/lemn/theory_results/theory_Creaseymodel.txt\" ,usecols=(4))\n",
    "N_GC_COCO_Creaseytheo       = np.loadtxt(\"/data/lemn/theory_results/theory_Creaseymodel.txt\" ,usecols=(5))\n",
    "err_N_GC_COCO_Creaseytheo   = np.loadtxt(\"/data/lemn/theory_results/theory_Creaseymodel.txt\" ,usecols=(6))\n",
    "M_halo_theo2                = np.loadtxt(\"/data/lemn/theory_results/theory_ourmodel.txt\"     ,usecols=(0))\n",
    "N_GC_Mill_ourtheo           = np.loadtxt(\"/data/lemn/theory_results/theory_ourmodel.txt\"     ,usecols=(1))\n",
    "err_N_GC_Mill_ourtheo       = np.loadtxt(\"/data/lemn/theory_results/theory_ourmodel.txt\"     ,usecols=(2))\n",
    "N_GC_Planck_ourtheo         = np.loadtxt(\"/data/lemn/theory_results/theory_ourmodel.txt\"     ,usecols=(3))\n",
    "err_N_GC_Planck_ourtheo     = np.loadtxt(\"/data/lemn/theory_results/theory_ourmodel.txt\"     ,usecols=(4))\n",
    "N_GC_COCO_ourtheo           = np.loadtxt(\"/data/lemn/theory_results/theory_ourmodel.txt\"     ,usecols=(5))\n",
    "err_N_GC_COCO_ourtheo       = np.loadtxt(\"/data/lemn/theory_results/theory_ourmodel.txt\"     ,usecols=(6))"
   ]
  },
  {
   "cell_type": "code",
   "execution_count": 256,
   "id": "705897b9-2ff8-408b-904b-9f0b91b920b8",
   "metadata": {},
   "outputs": [],
   "source": [
    "#load data from Forbes et al.18\n",
    "M_halo_F = np.loadtxt('/data/lemn/datalit/Forbes18_data.txt',usecols=(2))\n",
    "N_GC_F   = np.loadtxt('/data/lemn/datalit/Forbes18_data.txt',usecols=(3))\n",
    "M_halo_F = 10**M_halo_F"
   ]
  },
  {
   "cell_type": "code",
   "execution_count": 257,
   "id": "d81a70c7-8a5c-4bfc-9896-b8a20230effc",
   "metadata": {},
   "outputs": [],
   "source": [
    "# load EMOSAICS Fig.1 data\n",
    "mass_E   = np.loadtxt('/data/lemn/datalit/EMOSAICS_data.txt', usecols =(0))\n",
    "triangle = np.loadtxt('/data/lemn/datalit/EMOSAICS_data.txt', usecols =(1))\n",
    "square   = np.loadtxt('/data/lemn/datalit/EMOSAICS_data.txt', usecols =(2))\n",
    "star     = np.loadtxt('/data/lemn/datalit/EMOSAICS_data.txt', usecols =(3))"
   ]
  },
  {
   "cell_type": "code",
   "execution_count": 291,
   "id": "eac5adba-8f6f-4e2f-8b18-14f15a16d749",
   "metadata": {},
   "outputs": [
    {
     "data": {
      "image/png": "[encoded data removed]",
      "text/plain": [
       "<Figure size 864x864 with 1 Axes>"
      ]
     },
     "metadata": {
      "needs_background": "light"
     },
     "output_type": "display_data"
    }
   ],
   "source": [
    "plt.figure(figsize=(12,12))\n",
    "plt.xscale(\"log\")\n",
    "plt.yscale(\"log\")\n",
    "plt.errorbar(M_halo_theo, N_GC_Mill_Creaseytheo,  yerr=err_N_GC_Mill_Creaseytheo,  color = '#a5c215', fmt='--',label='Creasey model, P_Mill')\n",
    "plt.errorbar(M_halo_theo, N_GC_Planck_Creaseytheo,yerr=err_N_GC_Planck_Creaseytheo,color = '#186878', fmt='--',label='Creasey model, P_Planck')\n",
    "plt.errorbar(M_halo_theo, N_GC_COCO_Creaseytheo,  yerr=err_N_GC_COCO_Creaseytheo,  color = '#c23215', fmt='--',label='Creasey model, P_COCO')\n",
    "plt.errorbar(M_halo_theo2,N_GC_Mill_ourtheo,      yerr=err_N_GC_Mill_ourtheo,      color = '#a5c215',label='our model, P_Mill')\n",
    "plt.errorbar(M_halo_theo2,N_GC_Planck_ourtheo,    yerr=err_N_GC_Planck_ourtheo,    color = '#186878',label='our model, P_Planck')\n",
    "plt.errorbar(M_halo_theo2,N_GC_COCO_ourtheo,      yerr=err_N_GC_COCO_ourtheo,      color = '#c23215',label='our model, P_COCO')\n",
    "\n",
    "plt.plot(M_halo_F,  N_GC_F,'m+', label = 'GCs in central halo (Forbes18)')\n",
    "plt.plot(mass_E, triangle, 'v-', label = 'EMOSAICS $M \\geq 10^5 M_\\odot$')\n",
    "plt.plot(mass_E, square,   's-', label = 'EMOSAICS $M \\geq 10^5 M_\\odot$ and $[Fe/H]$')\n",
    "#plt.plot(mass_E, star, '*-',     label = 'EMOSAICS $M \\geq 10^5 M_\\odot$, $[Fe/H]$ and $R > R_{1/2 M_\\star}$')\n",
    "for i in range(0,len(check)):\n",
    "    if check[i] == 1:\n",
    "        plt.plot(M_h_array[i],sum_NGC[i], 'bo')#, label = '#GCs in halos, true cen')\n",
    "    elif check[i] == 1.5:\n",
    "        plt.plot(M_h_array[i],sum_NGC[i], 'b*')#, label = '#GCs in halos, fake cen')\n",
    "    elif check[i] == 0:\n",
    "        plt.plot(M_h_array[i],sum_NGC[i], 'b+')#, label = '#GCs in halos, single gal')\n",
    "plt.xlabel('$M_h [M_\\odot]$')\n",
    "plt.ylabel('$N_{GC}$')\n",
    "plt.legend(loc=(1.1,0))\n",
    "plt.show()\n",
    "#plt.savefig('tot_GC.png')"
   ]
  },
  {
   "cell_type": "code",
   "execution_count": 292,
   "id": "e6eb77cf-c020-4d40-887b-d79fd29e7554",
   "metadata": {},
   "outputs": [
    {
     "data": {
      "image/png": "[encoded data removed]",
      "text/plain": [
       "<Figure size 864x864 with 1 Axes>"
      ]
     },
     "metadata": {
      "needs_background": "light"
     },
     "output_type": "display_data"
    }
   ],
   "source": [
    "plt.figure(figsize=(12,12))\n",
    "plt.xscale(\"log\")\n",
    "plt.yscale(\"log\")\n",
    "#plt.errorbar(M_halo_theo, N_GC_Mill_Creaseytheo,  yerr=err_N_GC_Mill_Creaseytheo,  color = '#a5c215', fmt='--',label='Creasey model, P_Mill')\n",
    "plt.errorbar(M_halo_theo, N_GC_Planck_Creaseytheo,yerr=err_N_GC_Planck_Creaseytheo,color = '#186878', fmt='--',label='Creasey model, P_Planck')\n",
    "#plt.errorbar(M_halo_theo, N_GC_COCO_Creaseytheo,  yerr=err_N_GC_COCO_Creaseytheo,  color = '#c23215', fmt='--',label='Creasey model, P_COCO')\n",
    "#plt.errorbar(M_halo_theo2,N_GC_Mill_ourtheo,      yerr=err_N_GC_Mill_ourtheo,      color = '#a5c215',label='our model, P_Mill')\n",
    "plt.errorbar(M_halo_theo2,N_GC_Planck_ourtheo,    yerr=err_N_GC_Planck_ourtheo,    color = '#186878',label='our model, P_Planck')\n",
    "#plt.errorbar(M_halo_theo2,N_GC_COCO_ourtheo,      yerr=err_N_GC_COCO_ourtheo,      color = '#c23215',label='our model, P_COCO')\n",
    "\n",
    "#plt.plot(M_halo_F,  N_GC_F,'m+', label = 'GCs in central halo (Forbes18)')\n",
    "#plt.plot(mass_E, triangle, 'v-', label = 'EMOSAICS $M \\geq 10^5 M_\\odot$')\n",
    "#plt.plot(mass_E, square,   's-', label = 'EMOSAICS $M \\geq 10^5 M_\\odot$ and $[Fe/H]$')\n",
    "#plt.plot(mass_E, star, '*-',     label = 'EMOSAICS $M \\geq 10^5 M_\\odot$, $[Fe/H]$ and $R > R_{1/2 M_\\star}$')\n",
    "for i in range(0,len(check)):\n",
    "    if check[i] == 1:\n",
    "        plt.plot(M_h_array[i],sum_NGC[i], 'bo')#, label = '#GCs in halos, true cen')\n",
    "    elif check[i] == 1.5:\n",
    "        plt.plot(M_h_array[i],sum_NGC[i], 'b*')#, label = '#GCs in halos, fake cen')\n",
    "    elif check[i] == 0:\n",
    "        plt.plot(M_h_array[i],sum_NGC[i], 'b+')#, label = '#GCs in halos, single gal')\n",
    "        \n",
    "plt.plot(M_h_array,N_GC_match,'yx', label='#GCs in each gal.')\n",
    "plt.xlabel('$M_h [M_\\odot]$')\n",
    "plt.ylabel('$N_{GC}$')\n",
    "plt.legend(loc=(1.1,0))\n",
    "plt.show()\n",
    "#plt.savefig('tot_GC.png')"
   ]
  },
  {
   "cell_type": "code",
   "execution_count": null,
   "id": "bb33357e-4650-4762-8771-479aa0d2a30c",
   "metadata": {},
   "outputs": [],
   "source": []
  }
 ],
 "metadata": {
  "kernelspec": {
   "display_name": "Python 3 (ipykernel)",
   "language": "python",
   "name": "python3"
  },
  "language_info": {
   "codemirror_mode": {
    "name": "ipython",
    "version": 3
   },
   "file_extension": ".py",
   "mimetype": "text/x-python",
   "name": "python",
   "nbconvert_exporter": "python",
   "pygments_lexer": "ipython3",
   "version": "3.10.5"
  }
 },
 "nbformat": 4,
 "nbformat_minor": 5
}

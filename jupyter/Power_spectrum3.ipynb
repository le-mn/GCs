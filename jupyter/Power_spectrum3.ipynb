{
 "cells": [
  {
   "cell_type": "markdown",
   "id": "f1dbc97c",
   "metadata": {},
   "source": [
    "Using CLASS to calculate matter Power spectrum with cosmological parameters given by Creasey et. al. 2018"
   ]
  },
  {
   "cell_type": "code",
   "execution_count": 2,
   "id": "700940ee",
   "metadata": {},
   "outputs": [],
   "source": [
    "import numpy as np\n",
    "import matplotlib.pyplot as plt\n",
    "from matplotlib import gridspec\n",
    "#from scipy.interpolate import InterpolatedUnivariateSpline as spline "
   ]
  },
  {
   "cell_type": "code",
   "execution_count": 3,
   "id": "4d7ec8e8",
   "metadata": {},
   "outputs": [],
   "source": [
    "from classy import Class"
   ]
  },
  {
   "cell_type": "code",
   "execution_count": 4,
   "id": "c2841dcd",
   "metadata": {},
   "outputs": [],
   "source": [
    "path = \"/home/je101/Desktop/GCs/ipynb/\"\n",
    "path2 = \"/home/ngoc/Downloads/GCs\""
   ]
  },
  {
   "cell_type": "code",
   "execution_count": 5,
   "id": "f460c9df",
   "metadata": {},
   "outputs": [],
   "source": [
    "#parameters from Creasey 18\n",
    "LambdaCDM = Class()\n",
    "# pass input parameters\n",
    "z     = 0.0\n",
    "tau   = 0.0925\n",
    "n_s   = 0.9603\n",
    "A_s   = 2e-9\n",
    "h     = 0.673\n",
    "omg_m = 0.315\n",
    "omg_b = 0.022032\n",
    "LambdaCDM.set({'omega_b'  :omg_b,\n",
    "               'omega_cdm':omg_m-omg_b,\n",
    "               'h'        :h,\n",
    "               #'A_s'      :A_s,\n",
    "               'sigma8'   : 0.829, \n",
    "               'n_s'      :n_s,\n",
    "               'tau_reio' :tau,\n",
    "               'z_pk'     :z,\n",
    "               'YHe'  : 0.24672})\n",
    "LambdaCDM.set({'output':'mPk','P_k_max_1/Mpc':1000.0})\n",
    "# run class\n",
    "LambdaCDM.compute()"
   ]
  },
  {
   "cell_type": "code",
   "execution_count": 6,
   "id": "2c12b775",
   "metadata": {},
   "outputs": [
    {
     "name": "stdout",
     "output_type": "stream",
     "text": [
      "0.8194801721464393 1.0\n"
     ]
    }
   ],
   "source": [
    "f = LambdaCDM.scale_independent_growth_factor_f(z)\n",
    "D = LambdaCDM.scale_independent_growth_factor(z)\n",
    "print(f,D)"
   ]
  },
  {
   "cell_type": "code",
   "execution_count": 7,
   "id": "3f91560c",
   "metadata": {},
   "outputs": [],
   "source": [
    "kbins = 1000\n",
    "kk = np.logspace(-6, 3, kbins)# k in h/Mpc\n",
    "Pk = [] # P(k) in (Mpc/h)**3"
   ]
  },
  {
   "cell_type": "code",
   "execution_count": 8,
   "id": "f29ced64",
   "metadata": {},
   "outputs": [],
   "source": [
    "#convert the unit of k[h/Mpc]->k[Mpc] then find P[h-1.Mpc]^3 \n",
    "for k in kk:\n",
    "    Pk.append(LambdaCDM.pk(k*h,0.)*h**3) "
   ]
  },
  {
   "cell_type": "raw",
   "id": "c47d3d59",
   "metadata": {},
   "source": [
    "kk_f = np.full_like(kk, 0)\n",
    "Pk_f = np.full_like(Pk,0)\n",
    "\n",
    "# change unit of power spectrum\n",
    "for i in range(0,kbins):\n",
    "    kk_f[i] = kk[i]/h\n",
    "    Pk_f[i] = Pk[i]*h**3"
   ]
  },
  {
   "cell_type": "code",
   "execution_count": 9,
   "id": "daa708ba",
   "metadata": {},
   "outputs": [
    {
     "data": {
      "text/plain": [
       "Text(0, 0.5, 'P(k)[$(h^{-1}Mpc)^3$]')"
      ]
     },
     "execution_count": 9,
     "metadata": {},
     "output_type": "execute_result"
    },
    {
     "data": {
      "image/png": "[encoded data removed]",
      "text/plain": [
       "<Figure size 432x288 with 1 Axes>"
      ]
     },
     "metadata": {
      "needs_background": "light"
     },
     "output_type": "display_data"
    }
   ],
   "source": [
    "#plt.xlim(kk[0],kk[-1])\n",
    "plt.loglog(kk, Pk)\n",
    "#plt.ylim(1,)\n",
    "plt.xlabel('k$[h.Mpc^{-1}]$')\n",
    "plt.ylabel('P(k)[$(h^{-1}Mpc)^3$]')"
   ]
  },
  {
   "cell_type": "raw",
   "id": "ce439411",
   "metadata": {},
   "source": [
    "#save result\n",
    "data = np.column_stack([kk, Pk])\n",
    "datafile_path = path2+\"/code/Pk-Creasey18.txt\"\n",
    "np.savetxt(datafile_path , data, fmt=['%f','%f'])\n"
   ]
  },
  {
   "cell_type": "code",
   "execution_count": 10,
   "id": "6d9a7dd0-76b5-47c2-a10a-cd532549b934",
   "metadata": {},
   "outputs": [],
   "source": [
    "#Mill powerspectrum in mergertree code PCH\n",
    "k_mill = np.loadtxt(path2+'/code/pk_Mill.dat', usecols =(0))\n",
    "P_mill = np.loadtxt(path2+'/code/pk_Mill.dat', usecols =(1))"
   ]
  },
  {
   "cell_type": "raw",
   "id": "d8b26639-cbe8-4b33-919f-e1273405d9a0",
   "metadata": {},
   "source": [
    "#EAGLE powerspectrum in mergertree code PCH\n",
    "k_E = np.loadtxt(path2+'/code/powerspec/pk_EAGLE_norm.dat', usecols =(0))\n",
    "P_E = np.loadtxt(path2+'/code/powerspec/pk_EAGLE_norm.dat', usecols =(1))"
   ]
  },
  {
   "cell_type": "raw",
   "id": "813c8876-837e-45e8-ae94-ce2ff73d2faa",
   "metadata": {},
   "source": [
    "#WDM Dove\n",
    "k_WDM = np.loadtxt(path2+'/code/powerspec/pk_WDMDove.dat', usecols =(0))\n",
    "P_WDM = np.loadtxt(path2+'/code/powerspec/pk_WDMDove.dat', usecols =(1))"
   ]
  },
  {
   "cell_type": "raw",
   "id": "5e517c05-b239-465f-91c8-ad80dc736376",
   "metadata": {},
   "source": [
    "#plt.xlim(kk[0],kk[-1])\n",
    "plt.loglog(kk, Pk,'b-', label='Planck (Creasey)')\n",
    "plt.loglog(k_mill, P_mill,'g', label ='Mill')\n",
    "#plt.loglog(k_E, P_E,'--', label ='EAGLE')\n",
    "#plt.loglog(k_WDM, P_WDM,'r:',label='WDM Dove')\n",
    "plt.xlabel('k$[h.Mpc^{-1}]$')\n",
    "plt.ylabel('P(k)[$(h^{-1}Mpc)^3$]')\n",
    "plt.legend()\n",
    "plt.savefig('Pk.png')\n",
    "plt.xlim(1e-3,2e1)\n",
    "plt.ylim(1e3,)"
   ]
  },
  {
   "cell_type": "raw",
   "id": "3e3ff94b",
   "metadata": {},
   "source": [
    "#plt.xlim(kk[0],kk[-1])\n",
    "plt.loglog(kk*h, Pk/P_mill,'b-', label='Planck (Creasey)')\n",
    "plt.loglog(k_mill, P_mill/P_mill,'g', label ='Mill')\n",
    "plt.xlabel('k$[h.Mpc^{-1}]$')\n",
    "plt.ylabel('P(k)[$(h^{-1}Mpc)^3$]')\n",
    "#plt.savefig('Pk.png')\n",
    "plt.xlim(1e-6,1e3)\n",
    "plt.legend()"
   ]
  },
  {
   "cell_type": "markdown",
   "id": "fe044060",
   "metadata": {},
   "source": [
    "Using the parameters from Millennium to regenerate the result and compare with the Mill one to find what's wrong with CLASS"
   ]
  },
  {
   "cell_type": "code",
   "execution_count": 11,
   "id": "d84753d9",
   "metadata": {},
   "outputs": [],
   "source": [
    "#check with Mill parameters\n",
    "LambdaCDM = Class()\n",
    "# pass input parameters\n",
    "z      = 0.0\n",
    "tau    = 0.0925\n",
    "n_s    = 1 \n",
    "A_s    = 2e-9\n",
    "h      = 0.73 \n",
    "omg_m  = 0.25 \n",
    "sigma8 = 0.9\n",
    "omg_b  = 0.045   # this value of omg_b is too high, CLASS requires to decrease it <= 0.038\n",
    "LambdaCDM.set({'omega_b'  :omg_b,\n",
    "               'omega_cdm':omg_m-omg_b,\n",
    "               'h'        :h,\n",
    "               #'A_s'      :A_s,\n",
    "               'sigma8'   : sigma8,\n",
    "               'n_s'      :n_s,\n",
    "               'tau_reio' :tau,\n",
    "               'z_pk'     :z,\n",
    "                'YHe'  : 0.24672})\n",
    "LambdaCDM.set({'output':'mPk','P_k_max_1/Mpc':100.0})\n",
    "# run class\n",
    "LambdaCDM.compute()"
   ]
  },
  {
   "cell_type": "code",
   "execution_count": 12,
   "id": "21babe0a-885c-42eb-ba9f-c6b69408ce60",
   "metadata": {},
   "outputs": [],
   "source": [
    "kbins = 1000\n",
    "kk_Mill = np.logspace(-6, 2, kbins)# k in h/Mpc\n",
    "Pk_Mill = [] # P(k) in (Mpc/h)**3"
   ]
  },
  {
   "cell_type": "code",
   "execution_count": 13,
   "id": "4520d4a9-a72f-443c-97d4-3177e75b8215",
   "metadata": {},
   "outputs": [],
   "source": [
    "#convert the unit of k[h/Mpc]->k[Mpc] then find P[h-1.Mpc]^3 \n",
    "for k in kk_Mill:\n",
    "    Pk_Mill.append(LambdaCDM.pk(k*h,0.)*h**3) "
   ]
  },
  {
   "cell_type": "code",
   "execution_count": 24,
   "id": "f4fba5bb-ea04-4c6b-a879-a693de32b870",
   "metadata": {},
   "outputs": [
    {
     "data": {
      "text/plain": [
       "<matplotlib.legend.Legend at 0x7f9e86c65eb0>"
      ]
     },
     "execution_count": 24,
     "metadata": {},
     "output_type": "execute_result"
    },
    {
     "data": {
      "image/png": "[encoded data removed]",
      "text/plain": [
       "<Figure size 432x288 with 1 Axes>"
      ]
     },
     "metadata": {
      "needs_background": "light"
     },
     "output_type": "display_data"
    }
   ],
   "source": [
    "#plt.xlim(kk[0],kk[-1])\n",
    "plt.loglog(kk, Pk,'b-', label='Creasey test in CLASS')\n",
    "plt.loglog(kk_Mill, Pk_Mill,'g', label ='Mill in CLASS')\n",
    "plt.loglog(k_mill, P_mill,'r', label ='Mill in tabular')\n",
    "#plt.loglog(k_E, P_E,'--', label ='EAGLE')\n",
    "#plt.loglog(k_WDM, P_WDM,'r:',label='WDM Dove')\n",
    "plt.xlabel('k$[h.Mpc^{-1}]$')\n",
    "plt.ylabel('P(k)[$(h^{-1}Mpc)^3$]')\n",
    "plt.xlim(1e-3,1)\n",
    "plt.ylim(1e2,)\n",
    "plt.legend()\n",
    "#plt.savefig('Pk.png')\n"
   ]
  },
  {
   "cell_type": "code",
   "execution_count": null,
   "id": "969331bc-845a-435c-b2a5-2cb870d9ff98",
   "metadata": {},
   "outputs": [],
   "source": []
  }
 ],
 "metadata": {
  "kernelspec": {
   "display_name": "Python 3",
   "language": "python",
   "name": "python3"
  },
  "language_info": {
   "codemirror_mode": {
    "name": "ipython",
    "version": 3
   },
   "file_extension": ".py",
   "mimetype": "text/x-python",
   "name": "python",
   "nbconvert_exporter": "python",
   "pygments_lexer": "ipython3",
   "version": "3.9.12"
  }
 },
 "nbformat": 4,
 "nbformat_minor": 5
}

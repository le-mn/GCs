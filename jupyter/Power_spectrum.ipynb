{
 "cells": [
  {
   "cell_type": "markdown",
   "id": "19374338",
   "metadata": {},
   "source": [
    "Using CLASS to calculate matter Power spectrum with cosmological parameters given by Creasey et. al. 2018"
   ]
  },
  {
   "cell_type": "code",
   "execution_count": 1,
   "id": "1efa9edc",
   "metadata": {},
   "outputs": [],
   "source": [
    "import numpy as np\n",
    "import matplotlib.pyplot as plt\n",
    "from matplotlib import gridspec\n",
    "#from scipy.interpolate import InterpolatedUnivariateSpline as spline "
   ]
  },
  {
   "cell_type": "code",
   "execution_count": 2,
   "id": "ab320b4b",
   "metadata": {},
   "outputs": [],
   "source": [
    "from classy import Class"
   ]
  },
  {
   "cell_type": "code",
   "execution_count": 3,
   "id": "03f7da3e",
   "metadata": {},
   "outputs": [],
   "source": [
    "\n",
    "# number of bins in k-space \n",
    "kbins     = 5000\n",
    "\n",
    "# Cosmological parameters from Creasey et. al. 2018 paper\n",
    "h         = 0.673\n",
    "z         = 0.0\n",
    "Omega_m   = 0.315\n",
    "Omega_b   = 0.022032\n",
    "sigma8    = 0.829\n",
    "n_s       = 0.9603\n",
    "LCDM      = Class()\n",
    "\n",
    "LCDM.set({'Omega_b'  : Omega_b ,\n",
    "          'Omega_cdm': Omega_m - Omega_b ,\n",
    "          'h'        : h ,\n",
    "          'A_s'      : 2e-9,\n",
    "          #'sigma8'   : sigma8,             # amplitude of density fluctuations sigma8\n",
    "          'n_s'      : n_s ,\n",
    "          'tau_reio' : 0.0925,\n",
    "          'z_pk'     : z})\n",
    "\n",
    "LCDM.set({'output'       :'mPk',\n",
    "          'P_k_max_1/Mpc':100.0})\n",
    "\n",
    "LCDM.compute()\n"
   ]
  },
  {
   "cell_type": "code",
   "execution_count": 4,
   "id": "3ce4e598",
   "metadata": {},
   "outputs": [],
   "source": [
    "f = LCDM.scale_independent_growth_factor_f(z)\n",
    "D = LCDM.scale_independent_growth_factor(z)"
   ]
  },
  {
   "cell_type": "code",
   "execution_count": 5,
   "id": "18112122",
   "metadata": {},
   "outputs": [
    {
     "name": "stdout",
     "output_type": "stream",
     "text": [
      "0.5270829542727592 1.0\n"
     ]
    }
   ],
   "source": [
    "print(f, D)"
   ]
  },
  {
   "cell_type": "code",
   "execution_count": 6,
   "id": "296bc769",
   "metadata": {},
   "outputs": [],
   "source": [
    "kk = np.logspace(-4, 2, kbins)\n",
    "#kk = np.logspace(-4, 2, kbins)\n",
    "Pk = []\n",
    "for k in kk :\n",
    "    Pk.append(LCDM.pk(k, z))"
   ]
  },
  {
   "cell_type": "code",
   "execution_count": 7,
   "id": "6b1328ce",
   "metadata": {},
   "outputs": [],
   "source": [
    "kk_f = np.full_like(kk, 0)\n",
    "Pk_f = np.full_like(Pk,0)\n",
    "\n",
    "# change unit of power spectrum\n",
    "for i in range(0,kbins):\n",
    "    kk_f[i] = kk[i]/h\n",
    "    Pk_f[i] = Pk[i]*h**3"
   ]
  },
  {
   "cell_type": "code",
   "execution_count": 8,
   "id": "a4dd1658",
   "metadata": {},
   "outputs": [
    {
     "data": {
      "text/plain": [
       "Text(0, 0.5, 'P(k)[$(h^{-1}Mpc)^3$]')"
      ]
     },
     "execution_count": 8,
     "metadata": {},
     "output_type": "execute_result"
    },
    {
     "data": {
      "image/png": "[encoded data removed]",
      "text/plain": [
       "<Figure size 432x288 with 1 Axes>"
      ]
     },
     "metadata": {
      "needs_background": "light"
     },
     "output_type": "display_data"
    }
   ],
   "source": [
    "\n",
    "plt.loglog(kk_f, Pk_f)\n",
    "#plt.ylim(1,)\n",
    "plt.xlabel('k$[h.Mpc^{-1}]$')\n",
    "plt.ylabel('P(k)[$(h^{-1}Mpc)^3$]')"
   ]
  },
  {
   "cell_type": "code",
   "execution_count": 9,
   "id": "1e241a16",
   "metadata": {},
   "outputs": [],
   "source": [
    "LambdaCDM = Class()\n",
    "z = 0.0\n",
    "# pass input parameters\n",
    "LambdaCDM.set({'omega_b'  :0.022032,\n",
    "               'omega_cdm':0.315-0.022032,\n",
    "               'h'        :0.673,\n",
    "               'A_s'      :2e-9,\n",
    "               #'sigma8'   :0.829, #why sigma8 doesnt work here!?!\n",
    "               'n_s'      :0.9603,\n",
    "               'tau_reio' :0.0925,\n",
    "               'z_pk'     :z})\n",
    "LambdaCDM.set({'output':'mPk','P_k_max_1/Mpc':100.0})\n",
    "# run class\n",
    "LambdaCDM.compute()"
   ]
  },
  {
   "cell_type": "code",
   "execution_count": 10,
   "id": "2b6c129b",
   "metadata": {},
   "outputs": [
    {
     "name": "stdout",
     "output_type": "stream",
     "text": [
      "0.8194801587982831 1.0\n"
     ]
    }
   ],
   "source": [
    "f = LambdaCDM.scale_independent_growth_factor_f(z)\n",
    "D = LambdaCDM.scale_independent_growth_factor(z)\n",
    "print(f,D)"
   ]
  },
  {
   "cell_type": "markdown",
   "id": "f4f8f036",
   "metadata": {},
   "source": [
    "why the input of sigma8 doesnt work? It worked in my previous project on Mac"
   ]
  },
  {
   "cell_type": "code",
   "execution_count": null,
   "id": "a92a4dbf",
   "metadata": {},
   "outputs": [],
   "source": []
  }
 ],
 "metadata": {
  "kernelspec": {
   "display_name": "Python 3",
   "language": "python",
   "name": "python3"
  },
  "language_info": {
   "codemirror_mode": {
    "name": "ipython",
    "version": 3
   },
   "file_extension": ".py",
   "mimetype": "text/x-python",
   "name": "python",
   "nbconvert_exporter": "python",
   "pygments_lexer": "ipython3",
   "version": "3.6.10"
  }
 },
 "nbformat": 4,
 "nbformat_minor": 5
}

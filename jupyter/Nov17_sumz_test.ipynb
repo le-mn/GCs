{
 "cells": [
  {
   "cell_type": "markdown",
   "id": "298200c0-16ee-49e6-9e33-4ea9612766b0",
   "metadata": {},
   "source": [
    "NOv 17-23"
   ]
  },
  {
   "cell_type": "markdown",
   "id": "508c12a4-79df-492b-a603-bea5544e0688",
   "metadata": {},
   "source": [
    "- find central gal that under the condition z<0.1, 0.4:\n",
    "\n",
    "   + find the galaxies that have z<0.1;\n",
    "   \n",
    "   + pick the central galaxies in that;\n",
    "   \n",
    "   + take the correspond N_GC and M_h of the central;\n",
    "   \n",
    "   + plot Mh vs N_GC;"
   ]
  },
  {
   "cell_type": "code",
   "execution_count": 1,
   "id": "f70cb10e-60ce-4585-8c25-54bef120a05c",
   "metadata": {},
   "outputs": [],
   "source": [
    "import numpy as np\n",
    "import matplotlib.pyplot as plt"
   ]
  },
  {
   "cell_type": "code",
   "execution_count": 2,
   "id": "45bc0e8e-fdc9-4aa3-88db-7f6cfa3eb00b",
   "metadata": {},
   "outputs": [],
   "source": [
    "from astropy.table import Table"
   ]
  },
  {
   "cell_type": "code",
   "execution_count": 3,
   "id": "9480bc2c-e8f2-4983-8560-0d70f0b41469",
   "metadata": {},
   "outputs": [],
   "source": [
    "import astropy.io.fits as fits"
   ]
  },
  {
   "cell_type": "code",
   "execution_count": 4,
   "id": "18c32f0d-38d8-480e-b02b-3d37a24a7261",
   "metadata": {},
   "outputs": [],
   "source": [
    "path='/data/lemn/DESIdata/'"
   ]
  },
  {
   "cell_type": "code",
   "execution_count": 6,
   "id": "10726689-7ccc-48b6-8310-6c85107cc33f",
   "metadata": {},
   "outputs": [],
   "source": [
    "#load data \n",
    "data = fits.getdata(path+'galaxies/DESIDR9_NGC_galaxy.fits')"
   ]
  },
  {
   "cell_type": "code",
   "execution_count": 7,
   "id": "4325a184-9a94-4332-8a81-022db913ae61",
   "metadata": {},
   "outputs": [],
   "source": [
    "#load infor of members in group\n",
    "mem = fits.getdata(path+'members/iDESIDR9_NGC_1.fits')"
   ]
  },
  {
   "cell_type": "code",
   "execution_count": 49,
   "id": "79aaa1ac-94f0-4dd8-b635-39124d5bbe14",
   "metadata": {},
   "outputs": [],
   "source": [
    "cen_check = np.loadtxt(path+'members/iDESIDR9_NGC_1', usecols =(2))"
   ]
  },
  {
   "cell_type": "code",
   "execution_count": 31,
   "id": "bd7ebf79-ff29-4f8f-9ee4-47546bfd117b",
   "metadata": {},
   "outputs": [],
   "source": [
    "mem_to_group = mem['groupID']"
   ]
  },
  {
   "cell_type": "code",
   "execution_count": 8,
   "id": "c6c0b3d5-5e86-47f0-b896-c17ec6fcaa8f",
   "metadata": {},
   "outputs": [],
   "source": [
    "#load infor of members in group\n",
    "group = fits.getdata(path+'groups/DESIDR9_NGC_group.fits')"
   ]
  },
  {
   "cell_type": "code",
   "execution_count": 95,
   "id": "1191811a-655e-4a23-b3cd-9793d39920cb",
   "metadata": {},
   "outputs": [],
   "source": [
    "group_ID = group['groupID']"
   ]
  },
  {
   "cell_type": "code",
   "execution_count": 79,
   "id": "5a2d13f5-2e05-4d8f-91ce-3713ac05b8c2",
   "metadata": {},
   "outputs": [],
   "source": [
    "#load theory results\n",
    "M_halo_theo                 = np.loadtxt(\"/data/lemn/theory_results/theory_Creaseymodel.txt\" ,usecols=(0))\n",
    "#N_GC_Mill_Creaseytheo       = np.loadtxt(\"/data/lemn/theory_results/theory_Creaseymodel.txt\" ,usecols=(1))\n",
    "#err_N_GC_Mill_Creaseytheo   = np.loadtxt(\"/data/lemn/theory_results/theory_Creaseymodel.txt\" ,usecols=(2))\n",
    "N_GC_Planck_Creaseytheo     = np.loadtxt(\"/data/lemn/theory_results/theory_Creaseymodel.txt\" ,usecols=(3))\n",
    "err_N_GC_Planck_Creaseytheo = np.loadtxt(\"/data/lemn/theory_results/theory_Creaseymodel.txt\" ,usecols=(4))\n",
    "#N_GC_COCO_Creaseytheo       = np.loadtxt(\"/data/lemn/theory_results/theory_Creaseymodel.txt\" ,usecols=(5))\n",
    "#err_N_GC_COCO_Creaseytheo   = np.loadtxt(\"/data/lemn/theory_results/theory_Creaseymodel.txt\" ,usecols=(6))\n",
    "M_halo_theo2                = np.loadtxt(\"/data/lemn/theory_results/theory_ourmodel.txt\"     ,usecols=(0))\n",
    "#N_GC_Mill_ourtheo           = np.loadtxt(\"/data/lemn/theory_results/theory_ourmodel.txt\"     ,usecols=(1))\n",
    "#err_N_GC_Mill_ourtheo       = np.loadtxt(\"/data/lemn/theory_results/theory_ourmodel.txt\"     ,usecols=(2))\n",
    "N_GC_Planck_ourtheo         = np.loadtxt(\"/data/lemn/theory_results/theory_ourmodel.txt\"     ,usecols=(3))\n",
    "err_N_GC_Planck_ourtheo     = np.loadtxt(\"/data/lemn/theory_results/theory_ourmodel.txt\"     ,usecols=(4))\n",
    "#N_GC_COCO_ourtheo           = np.loadtxt(\"/data/lemn/theory_results/theory_ourmodel.txt\"     ,usecols=(5))\n",
    "#err_N_GC_COCO_ourtheo       = np.loadtxt(\"/data/lemn/theory_results/theory_ourmodel.txt\"     ,usecols=(6))"
   ]
  },
  {
   "cell_type": "code",
   "execution_count": 80,
   "id": "1d34da8d-5da2-4987-8308-5e8d6168f2e7",
   "metadata": {},
   "outputs": [],
   "source": [
    "# load EMOSAICS Fig.1 data\n",
    "mass_E   = np.loadtxt('/data/lemn/datalit/EMOSAICS_data.txt', usecols =(0))\n",
    "triangle = np.loadtxt('/data/lemn/datalit/EMOSAICS_data.txt', usecols =(1))\n",
    "#square   = np.loadtxt('/data/lemn/datalit/EMOSAICS_data.txt', usecols =(2))\n",
    "#star     = np.loadtxt('/data/lemn/datalit/EMOSAICS_data.txt', usecols =(3))"
   ]
  },
  {
   "cell_type": "code",
   "execution_count": 81,
   "id": "2048c370-627f-4bba-8c3e-138b6e616066",
   "metadata": {},
   "outputs": [],
   "source": [
    "#load Forbes 18 data\n",
    "M_halo_F = np.loadtxt('/data/lemn/datalit/Forbes18_data.txt',usecols=(2))\n",
    "N_GC_F   = np.loadtxt('/data/lemn/datalit/Forbes18_data.txt',usecols=(3))\n",
    "M_halo_F = 10**M_halo_F"
   ]
  },
  {
   "cell_type": "code",
   "execution_count": 82,
   "id": "2202fa17-28f0-46e9-9839-0ebced49bd9a",
   "metadata": {},
   "outputs": [],
   "source": [
    "#load blue GCs from Creasey data\n",
    "M_Creasey = np.loadtxt('/data/lemn/datalit/Creasey_Data.txt',usecols=(0))\n",
    "N_Creasey = np.loadtxt('/data/lemn/datalit/Creasey_Data.txt',usecols=(1))"
   ]
  },
  {
   "cell_type": "code",
   "execution_count": 9,
   "id": "a7594296-6dbc-4460-8056-123d9e83684e",
   "metadata": {},
   "outputs": [],
   "source": [
    "z = data['z']"
   ]
  },
  {
   "cell_type": "code",
   "execution_count": 97,
   "id": "57e3096a-cdac-458a-9b53-741948877d66",
   "metadata": {},
   "outputs": [],
   "source": [
    "z_pick = 0.1"
   ]
  },
  {
   "cell_type": "code",
   "execution_count": 98,
   "id": "3a2fc9b4-fb07-4295-8c45-ee003edb9924",
   "metadata": {},
   "outputs": [],
   "source": [
    "arg_pick = np.argwhere(z <= z_pick)"
   ]
  },
  {
   "cell_type": "code",
   "execution_count": 99,
   "id": "5022fb85-c1d2-4736-87d6-d17ea5e2e41c",
   "metadata": {},
   "outputs": [],
   "source": [
    "arg_pick = arg_pick.reshape(len(arg_pick))"
   ]
  },
  {
   "cell_type": "raw",
   "id": "018e7ab8-c8ac-4464-a826-dfe26b591a1c",
   "metadata": {},
   "source": [
    "print(arg_pick)"
   ]
  },
  {
   "cell_type": "code",
   "execution_count": 100,
   "id": "1415243a-25ca-4c88-9274-b7278251689b",
   "metadata": {},
   "outputs": [],
   "source": [
    "cen_pick = np.argwhere(cen_check[arg_pick] == 1)"
   ]
  },
  {
   "cell_type": "code",
   "execution_count": 101,
   "id": "370b6f4c-24c7-44a8-9b46-9779d49bcba2",
   "metadata": {},
   "outputs": [
    {
     "name": "stdout",
     "output_type": "stream",
     "text": [
      "51440885.0 1.0 [1.0000000e+00 2.0000000e+00 3.0000000e+00 ... 5.1440883e+07 5.1440884e+07\n",
      " 5.1440885e+07]\n"
     ]
    }
   ],
   "source": [
    "print(max(mem_to_group), min(mem_to_group), group_ID) \n",
    "#because group_ID starts from 1, while Python index starts from 0, so we need to subtract 1 to get the right index in group_ID array"
   ]
  },
  {
   "cell_type": "raw",
   "id": "f7198bd0-57df-46ef-8fb6-fe66e9b2d8c4",
   "metadata": {},
   "source": [
    "print(z[arg_pick][cen_pick])"
   ]
  },
  {
   "cell_type": "code",
   "execution_count": 102,
   "id": "c5210b37-56c8-41d8-ae76-7bc488929259",
   "metadata": {},
   "outputs": [],
   "source": [
    "group_pick = mem_to_group[arg_pick][cen_pick] #id of groups that (contains the central gal) sastified z<0.1"
   ]
  },
  {
   "cell_type": "code",
   "execution_count": 103,
   "id": "9b5ec8e7-32c7-477e-9641-b7507216ab78",
   "metadata": {},
   "outputs": [],
   "source": [
    "group_pick = group_pick.reshape(len(group_pick)).astype(int)"
   ]
  },
  {
   "cell_type": "code",
   "execution_count": 104,
   "id": "e6a63841-9895-4023-a1fe-9c97240e63d2",
   "metadata": {},
   "outputs": [
    {
     "name": "stdout",
     "output_type": "stream",
     "text": [
      "[19900971  1319525 19900961 ... 35648500 35648582 35648553]\n"
     ]
    }
   ],
   "source": [
    "print(group_pick)"
   ]
  },
  {
   "cell_type": "code",
   "execution_count": 105,
   "id": "c0695398-3ff0-4b7e-b01a-ac9675970441",
   "metadata": {},
   "outputs": [],
   "source": [
    "z_04   = 0.4\n",
    "arg_04 = np.argwhere(z <= z_04)\n",
    "arg_04 = arg_04.reshape(len(arg_04))\n",
    "cen_04 = np.argwhere(cen_check[arg_04] == 1)\n",
    "group_04 = mem_to_group[arg_04][cen_04] \n",
    "group_04 = group_04.reshape(len(group_04)).astype(int)"
   ]
  },
  {
   "cell_type": "code",
   "execution_count": 90,
   "id": "9da2ff44-5248-446a-9a17-38e3653e18c8",
   "metadata": {},
   "outputs": [],
   "source": [
    "#load the summation GCs and M_h\n",
    "tot = fits.getdata('/data/lemn/results/M_h_NGCs_plus_minus.fits')"
   ]
  },
  {
   "cell_type": "code",
   "execution_count": 91,
   "id": "abd4f7dc-445e-4573-a6ff-667ceb6b4ef5",
   "metadata": {},
   "outputs": [],
   "source": [
    "N_GC = tot['NGCs']\n",
    "M_h  = tot['M_h M_sun']"
   ]
  },
  {
   "cell_type": "code",
   "execution_count": 107,
   "id": "c6a2b1f3-360b-4699-86de-193ec291513e",
   "metadata": {},
   "outputs": [
    {
     "data": {
      "image/png": "[encoded data removed]",
      "text/plain": [
       "<Figure size 864x864 with 1 Axes>"
      ]
     },
     "metadata": {
      "needs_background": "light"
     },
     "output_type": "display_data"
    }
   ],
   "source": [
    "\n",
    "plt.figure(figsize=(12,12))\n",
    "plt.xscale(\"log\")\n",
    "plt.yscale('log')\n",
    "#plt.errorbar(M_halo_theo, N_GC_Mill_Creaseytheo,  yerr=err_N_GC_Mill_Creaseytheo,  color = '#a5c215', fmt='--',label='Creasey model, P_Mill')\n",
    "plt.errorbar(M_halo_theo, N_GC_Planck_Creaseytheo,yerr=err_N_GC_Planck_Creaseytheo,color = '#186878', fmt='--',label='Creasey model, P_Planck')\n",
    "#plt.errorbar(M_halo_theo, N_GC_COCO_Creaseytheo,  yerr=err_N_GC_COCO_Creaseytheo,  color = '#c23215', fmt='--',label='Creasey model, P_COCO')\n",
    "#plt.errorbar(M_halo_theo2,N_GC_Mill_ourtheo,      yerr=err_N_GC_Mill_ourtheo,      color = '#a5c215',label='our model, P_Mill')\n",
    "plt.errorbar(M_halo_theo2,N_GC_Planck_ourtheo,    yerr=err_N_GC_Planck_ourtheo,    color = '#186878',label='our model, P_Planck')\n",
    "#plt.errorbar(M_halo_theo2,N_GC_COCO_ourtheo,      yerr=err_N_GC_COCO_ourtheo,      color = '#c23215',label='our model, P_COCO')\n",
    "\n",
    "plt.plot(mass_E, triangle, 'v-', label = 'EMOSAICS $M \\geq 10^5 M_\\odot$')\n",
    "#plt.plot(mass_E, square,   's-', label = 'EMOSAICS $M \\geq 10^5 M_\\odot$ and $[Fe/H]$')\n",
    "#plt.plot(mass_E, star, '*-',     label = 'EMOSAICS $M \\geq 10^5 M_\\odot$, $[Fe/H]$ and $R > R_{1/2 M_\\star}$')\n",
    "\n",
    "plt.plot(M_Creasey, N_Creasey, 'g+', label ='Creasey data')\n",
    "plt.plot(M_halo_F, N_GC_F, 'm+',     label ='Forbes18 data')\n",
    "\n",
    "plt.plot(M_h[group_pick-1],N_GC[group_pick-1],'.',color='#e11584', alpha =0.05, label = 'Yang cat, z<0.1' )\n",
    "plt.plot(M_h[group_04-1],N_GC[group_04-1],'.',color='#8F00FF', alpha =0.01, label = 'Yang cat, z<0.4' )\n",
    "\n",
    "plt.xlabel('$M_h [M_\\odot]$')\n",
    "plt.ylabel('$N_{GC}$')\n",
    "plt.legend()\n",
    "#plt.savefig('tot_GC_z01_04.pdf')\n",
    "#plt.show()"
   ]
  },
  {
   "cell_type": "code",
   "execution_count": null,
   "id": "ef14ba12-8c37-405a-914e-be0986821a84",
   "metadata": {},
   "outputs": [],
   "source": []
  },
  {
   "cell_type": "code",
   "execution_count": null,
   "id": "0363efde-28cf-46c3-b04c-f791492563a3",
   "metadata": {},
   "outputs": [],
   "source": []
  }
 ],
 "metadata": {
  "kernelspec": {
   "display_name": "Python project2",
   "language": "python",
   "name": "project2"
  },
  "language_info": {
   "codemirror_mode": {
    "name": "ipython",
    "version": 3
   },
   "file_extension": ".py",
   "mimetype": "text/x-python",
   "name": "python",
   "nbconvert_exporter": "python",
   "pygments_lexer": "ipython3",
   "version": "3.10.5"
  }
 },
 "nbformat": 4,
 "nbformat_minor": 5
}

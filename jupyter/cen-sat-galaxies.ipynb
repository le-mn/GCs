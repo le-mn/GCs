{
 "cells": [
  {
   "cell_type": "markdown",
   "id": "03b65885-91fd-4795-b45d-7eed6a131c40",
   "metadata": {},
   "source": [
    "Week of Jul 3 - 8:\n",
    "\n",
    "1. Find the central galaxies and their satellites: by compare virial radius between nearby galaxies \n",
    "\n",
    "2. Calculate total halo mass;\n",
    "\n",
    "3. Calculate total GCs;\n",
    "\n",
    "4. Compare to our model;"
   ]
  },
  {
   "cell_type": "code",
   "execution_count": 1,
   "id": "de1a0210-80ec-4e09-81eb-2030f6425a69",
   "metadata": {},
   "outputs": [],
   "source": [
    "import numpy as np\n",
    "import matplotlib.pyplot as plt\n",
    "import astropy.io.fits as pyfits\n",
    "\n",
    "path ='/home/ngoc/Downloads/GCs/'\n",
    "path1 ='/home/ngoc/Downloads/GCs/code/'"
   ]
  },
  {
   "cell_type": "code",
   "execution_count": 2,
   "id": "083f9e93-b67a-4d87-800d-d240c17c6ae7",
   "metadata": {},
   "outputs": [],
   "source": [
    "#load the coordinates, halo mass and #GC after match\n",
    "M_h  = np.loadtxt(path+\"code/data_Atlas_Harris13_by_rpes.txt\",usecols=(0))\n",
    "N_GC = np.loadtxt(path+\"code/data_Atlas_Harris13_by_rpes.txt\",usecols=(1))\n",
    "ra   = np.loadtxt(path+\"code/data_Atlas_Harris13_by_rpes.txt\",usecols=(2))\n",
    "dec  = np.loadtxt(path+\"code/data_Atlas_Harris13_by_rpes.txt\",usecols=(3))"
   ]
  },
  {
   "cell_type": "code",
   "execution_count": 3,
   "id": "212695c7-ecaa-4568-911c-7d0b2ea5e92c",
   "metadata": {},
   "outputs": [],
   "source": [
    "from halotools.empirical_models import halo_mass_to_halo_radius"
   ]
  },
  {
   "cell_type": "code",
   "execution_count": 4,
   "id": "5717ba0a-e53f-42cc-bc6f-e53765a060ee",
   "metadata": {},
   "outputs": [],
   "source": [
    "from astropy.cosmology import Planck18 as cosmo"
   ]
  },
  {
   "cell_type": "markdown",
   "id": "5a3f2645-5452-43ea-a496-b2b74b6f726e",
   "metadata": {},
   "source": [
    "halotools.empirical_models.halo_mass_to_halo_radius(mass, cosmology, redshift, mdef)\n",
    "\n",
    "Spherical overdensity radius as a function of the input mass. Note that this function is independent of the form of the density profile.\n",
    "\n",
    "Parameters:\n",
    "- mass: array_like, total halo mass in M⊙/h; can be a number or a numpy array.\n",
    "\n",
    "- cosmology : object, instance of an Astropy cosmology object.\n",
    "\n",
    "- redshift: array_like, can either be a scalar, or a numpy array of the same dimension as the input mass.\n",
    "\n",
    "- mdef: str, string specifying the halo mass definition, e.g., ‘vir’ or ‘200m’.\n",
    "\n",
    "Return:\n",
    "\n",
    "- radius: array_like, halo radius in physical Mpc/h; has the same dimensions as input mass."
   ]
  },
  {
   "cell_type": "code",
   "execution_count": 5,
   "id": "f8e2fe18-0b0a-4782-8d9b-dee446fef622",
   "metadata": {},
   "outputs": [
    {
     "name": "stderr",
     "output_type": "stream",
     "text": [
      "WARNING: AstropyDeprecationWarning: `astropy.cosmology.core.FLRW` has been moved (since v5.0) and should be imported as ``from astropy.cosmology import FLRW``. In future this will raise an exception. [astropy.cosmology.core]\n"
     ]
    }
   ],
   "source": [
    "r_vir = halo_mass_to_halo_radius(M_h, cosmo, 0, 'vir')"
   ]
  },
  {
   "cell_type": "raw",
   "id": "65f9885b-fba5-4bcd-960c-dd2714774615",
   "metadata": {},
   "source": [
    "print(r_vir)"
   ]
  },
  {
   "cell_type": "markdown",
   "id": "c10c19a2-bd54-48b1-a3a0-dfc359634c13",
   "metadata": {},
   "source": [
    "Find the galaxies which are inside the same halo:\n",
    "\n",
    "- compare their location;\n",
    "- if they stay close to one another, then compare their virial radius;\n",
    "\n"
   ]
  },
  {
   "cell_type": "code",
   "execution_count": 6,
   "id": "2baea212-b33f-47d6-8729-dacae8cbf1e4",
   "metadata": {},
   "outputs": [],
   "source": [
    "r_vir2 = r_vir"
   ]
  },
  {
   "cell_type": "code",
   "execution_count": 7,
   "id": "9faece3d-6c01-46f6-be1e-a903a5bcb455",
   "metadata": {},
   "outputs": [
    {
     "name": "stdout",
     "output_type": "stream",
     "text": [
      "[3.01123605 1.08169211 1.05701604 1.02397576 0.79526008 0.74167409\n",
      " 0.69182955 0.68782283 0.64969336 0.61947412 0.59787615 0.59760387\n",
      " 0.58965357 0.58118481 0.55189032 0.54110282 0.54024055 0.53095847\n",
      " 0.51907825 0.51731354 0.49681274 0.49135539 0.48645362 0.48430363\n",
      " 0.48430363 0.47665371 0.44162193 0.43631787 0.43474192 0.43336228\n",
      " 0.41484121 0.39212886 0.36978803 0.35532842 0.35112316 0.33289505\n",
      " 0.3182894  0.30415799 0.27546914 0.26885078 0.25656156 0.25102204\n",
      " 0.24657587 0.23910598 0.23587827 0.23398932 0.23355678 0.22890738\n",
      " 0.22833696 0.22809636 0.22589819 0.225236   0.2221307  0.22110236\n",
      " 0.2206363  0.21238546 0.20894342 0.20637972 0.2017369  0.19619221\n",
      " 0.19304397 0.19151286 0.18657259 0.18636112 0.18400051 0.18396152\n",
      " 0.18365427 0.18244498 0.17669477 0.17486539 0.17416268 0.17415039\n",
      " 0.17217338 0.16959023 0.16489307 0.16481229 0.16100567 0.15984285\n",
      " 0.15828681 0.15648326 0.15609224 0.15531406 0.15507662 0.15467101\n",
      " 0.15356583 0.15255943 0.15231999 0.15223604 0.14971619 0.14952328\n",
      " 0.14924254 0.148996   0.14844288 0.14823122 0.14777748 0.14462413\n",
      " 0.14452049 0.14439952 0.14359564 0.14257231 0.14159782 0.13953784\n",
      " 0.13864173 0.13805324 0.13798076 0.1378215  0.13471084 0.13255092\n",
      " 0.13158881 0.13085351 0.13020033 0.12800576 0.12379019 0.12351737\n",
      " 0.12264004 0.12218737 0.12211474 0.12198558 0.12132995 0.12090989\n",
      " 0.1207217  0.1202714  0.11861509 0.11858013 0.11640352 0.11615924\n",
      " 0.11435962 0.11397023 0.11240287 0.11038899 0.10820407 0.10742715\n",
      " 0.10689941 0.10453306 0.10389673 0.10385955 0.10346245 0.10330604\n",
      " 0.10301953 0.10247653 0.10223713 0.10163539 0.1011779  0.10103248\n",
      " 0.10092298 0.10031097 0.09947088 0.09945088 0.09840061 0.09764874\n",
      " 0.09725161 0.09485945 0.09478051 0.09414432 0.09354043 0.09273258\n",
      " 0.09258523 0.09177471 0.09121406 0.09007821 0.08860994 0.08857994\n",
      " 0.08744224 0.08686145 0.08680027 0.08641518 0.08608715 0.08575343\n",
      " 0.08441631 0.08388956 0.08375553 0.08368692 0.08303787 0.08303615\n",
      " 0.08297695 0.08283399 0.08244726 0.08223772 0.08207714 0.08201588\n",
      " 0.08151206 0.08143384 0.08136124 0.08093015 0.08040136 0.08011329\n",
      " 0.07982996 0.07980741 0.07977685 0.07915582 0.07882057 0.07628182\n",
      " 0.07508706 0.07486021 0.07373525 0.07279262 0.07277687 0.07144366\n",
      " 0.07106641 0.06981525 0.06805519 0.06733336 0.06541773 0.06496355\n",
      " 0.06410239 0.06305559 0.06268371 0.06247641 0.06182599 0.06174667\n",
      " 0.06171403 0.06110917 0.05846855 0.05748758 0.04952696 0.04650632\n",
      " 0.04492106 0.0397984  0.01806005]\n",
      "[0. 0. 0. 0. 0. 0. 0. 0. 0. 0. 0. 0. 0. 0. 0. 0. 0. 0. 0. 0. 0. 0. 0. 0.\n",
      " 0. 0. 0. 0. 0. 0. 0. 0. 0. 0. 0. 0. 0. 0. 0. 0. 0. 0. 0. 0. 0. 0. 0. 0.\n",
      " 0. 0. 0. 0. 0. 0. 0. 0. 0. 0. 0. 0. 0. 0. 0. 0. 0. 0. 0. 0. 0. 0. 0. 0.\n",
      " 0. 0. 0. 0. 0. 0. 0. 0. 0. 0. 0. 0. 0. 0. 0. 0. 0. 0. 0. 0. 0. 0. 0. 0.\n",
      " 0. 0. 0. 0. 0. 0. 0. 0. 0. 0. 0. 0. 0. 0. 0. 0. 0. 0. 0. 0. 0. 0. 0. 0.\n",
      " 0. 0. 0. 0. 0. 0. 0. 0. 0. 0. 0. 0. 0. 0. 0. 0. 0. 0. 0. 0. 0. 0. 0. 0.\n",
      " 0. 0. 0. 0. 0. 0. 0. 0. 0. 0. 0. 0. 0. 0. 0. 0. 0. 0. 0. 0. 0. 0. 0. 0.\n",
      " 0. 0. 0. 0. 0. 0. 0. 0. 0. 0. 0. 0. 0. 0. 0. 0. 0. 0. 0. 0. 0. 0. 0. 0.\n",
      " 0. 0. 0. 0. 0. 0. 0. 0. 0. 0. 0. 0. 0. 0. 0. 0. 0. 0. 0. 0. 0. 0. 0. 0.\n",
      " 0. 0. 0.]\n"
     ]
    }
   ],
   "source": [
    "r_new     = np.zeros(len(r_vir2))\n",
    "ra_new    = np.zeros(len(r_vir2))\n",
    "dec_new   = np.zeros(len(r_vir2))\n",
    "M_h_new   = np.zeros(len(r_vir2))\n",
    "N_GC_new  = np.zeros(len(r_vir2))\n",
    "ii     = 0\n",
    "\n",
    "while (ii < len(r_vir2)):\n",
    "    idx         = np.argmax(r_vir2)\n",
    "    r_new[ii]   = r_vir2[idx]\n",
    "    ra_new[ii]  = ra[idx]\n",
    "    dec_new[ii] = dec[idx]\n",
    "    M_h_new[ii] = M_h[idx]\n",
    "    N_GC_new[ii]= N_GC[idx]\n",
    "    r_vir2[idx] = 0\n",
    "    ii += 1\n",
    "print(r_new)\n",
    "print(r_vir2)"
   ]
  },
  {
   "cell_type": "code",
   "execution_count": 8,
   "id": "e1532a8a-a8c6-4dc3-ab90-313eac9e91d5",
   "metadata": {},
   "outputs": [],
   "source": [
    "#find central-satellite galaxies inside the same halos, True marks central galaxies, False marks satellite galaxies of the central ones above in the array\n",
    "r_boo = np.full(len(r_new),True)\n",
    "\n",
    "for j in range (0, 1):#len(r_new)):\n",
    "    if r_boo[j] == True:\n",
    "        cen = j\n",
    "    for i in range(0,len(r_new)):   \n",
    "        if i!= cen and r_boo[i] == True:\n",
    "            distance_to_cen = np.sqrt((ra_new[i]-ra_new[cen])**2+(dec_new[i]-dec_new[cen])**2)\n",
    "            if distance_to_cen < r_new[cen]:\n",
    "                r_boo[i] = False\n",
    "            else:\n",
    "                r_boo[i] = True\n",
    "            "
   ]
  },
  {
   "cell_type": "code",
   "execution_count": 9,
   "id": "12afd910-0665-4b6b-a8df-cfecfdf30433",
   "metadata": {},
   "outputs": [
    {
     "name": "stdout",
     "output_type": "stream",
     "text": [
      "[ True  True  True  True  True  True  True  True  True  True  True  True\n",
      "  True  True  True  True  True  True  True  True  True  True  True  True\n",
      "  True  True False  True  True  True False  True  True  True  True  True\n",
      "  True  True  True False  True  True  True  True  True  True  True  True\n",
      "  True  True  True  True False  True  True  True False  True  True  True\n",
      "  True  True  True  True  True  True  True  True  True  True  True  True\n",
      "  True  True  True  True False  True False  True False  True  True  True\n",
      "  True False False  True  True  True False False  True  True  True  True\n",
      "  True  True  True False  True False  True  True False  True  True  True\n",
      "  True False False  True  True  True  True  True  True False  True  True\n",
      "  True  True False  True  True False False  True False False False False\n",
      "  True  True  True False  True False False  True False False False  True\n",
      " False False False  True  True False False False  True False False  True\n",
      "  True False False False  True False False  True  True False  True  True\n",
      " False False  True False  True False False False  True False False  True\n",
      " False  True False False  True  True  True  True  True False  True  True\n",
      " False False  True  True  True False False  True  True  True False  True\n",
      " False  True False  True  True  True  True  True  True  True  True False\n",
      " False  True  True]\n"
     ]
    }
   ],
   "source": [
    "print(r_boo)"
   ]
  },
  {
   "cell_type": "code",
   "execution_count": 10,
   "id": "a6e110a8-c7a2-4d48-9f64-339d0c64244c",
   "metadata": {},
   "outputs": [],
   "source": [
    "#find central-satellite galaxies inside the same halos, True marks central galaxies, False marks satellite galaxies of the central ones above in the array\n",
    "r_boo = np.full(len(r_new),True)\n",
    "n_cen = 0\n",
    "for j in range (0, len(r_new)):\n",
    "    if r_boo[j] == True:\n",
    "        cen = j\n",
    "        n_cen += 1\n",
    "    for i in range(0,len(r_new)):   \n",
    "        if i!= cen and r_boo[i] == True:\n",
    "            distance_to_cen = np.sqrt((ra_new[i]-ra_new[cen])**2+(dec_new[i]-dec_new[cen])**2)\n",
    "            if distance_to_cen < r_new[cen]:\n",
    "                r_boo[i] = False   #this galaxy is a sat of the cen\n",
    "                M_h_new[cen] += M_h_new[i]\n",
    "                N_GC_new[cen]+= N_GC_new[i]\n",
    "            else:\n",
    "                r_boo[i] = True    #this galaxy is not a sat of the cen (perhaps it is another cen or a sat of the other cen)\n",
    "            "
   ]
  },
  {
   "cell_type": "code",
   "execution_count": 11,
   "id": "f189ec40-06df-4fd8-a1fc-50a64ce2a5e3",
   "metadata": {},
   "outputs": [
    {
     "name": "stdout",
     "output_type": "stream",
     "text": [
      "[ True  True  True  True  True  True False  True  True  True  True  True\n",
      " False  True False  True False  True  True False False  True False False\n",
      " False  True False False  True  True False  True  True  True  True  True\n",
      "  True  True  True False False  True  True False  True False  True  True\n",
      "  True  True  True False False  True  True  True False False False False\n",
      " False  True False  True  True  True False  True  True  True False False\n",
      " False  True  True  True False  True False False False  True  True False\n",
      "  True False False False False  True False False  True False  True  True\n",
      " False False False False False False  True  True False False False  True\n",
      " False False False  True  True False False  True  True False False  True\n",
      " False  True False  True  True False False  True False False False False\n",
      "  True False  True False  True False False False False False False  True\n",
      " False False False  True  True False False False False False False  True\n",
      "  True False False False  True False False  True False False False  True\n",
      " False False False False  True False False False  True False False  True\n",
      " False  True False False False  True  True  True False False False False\n",
      " False False  True False False False False  True False  True False  True\n",
      " False  True False  True  True  True False False False  True  True False\n",
      " False  True  True]\n",
      "98\n"
     ]
    }
   ],
   "source": [
    "print(r_boo)\n",
    "print(n_cen)"
   ]
  },
  {
   "cell_type": "code",
   "execution_count": 12,
   "id": "a82b65b7-e387-4284-bd21-e180f58f582c",
   "metadata": {},
   "outputs": [],
   "source": [
    "r_boo2 = r_boo\n",
    "i_test = len(M_h_new)\n",
    "for i in range(0,len(r_boo)):\n",
    "    if r_boo[i] == False:\n",
    "        M_h_new[i]  = 0\n",
    "        N_GC_new[i]  = 0\n",
    "        i_test -= 1"
   ]
  },
  {
   "cell_type": "code",
   "execution_count": 13,
   "id": "bfc109d2-df1d-4b84-9aae-4de4edabf27f",
   "metadata": {},
   "outputs": [
    {
     "name": "stdout",
     "output_type": "stream",
     "text": [
      "[3.28502043e+15 1.90195792e+14 1.40670457e+14 1.42493402e+14\n",
      " 1.46425253e+14 4.85956608e+13 0.00000000e+00 3.87603702e+13\n",
      " 3.26650586e+13 2.83157242e+13 2.54560992e+13 2.57799729e+13\n",
      " 0.00000000e+00 2.33830372e+13 0.00000000e+00 3.53610786e+13\n",
      " 0.00000000e+00 1.78295267e+13 1.66592963e+13 0.00000000e+00\n",
      " 0.00000000e+00 5.10848387e+13 0.00000000e+00 0.00000000e+00\n",
      " 0.00000000e+00 1.28993284e+13 0.00000000e+00 0.00000000e+00\n",
      " 9.78707064e+12 9.69418876e+12 0.00000000e+00 7.18198631e+12\n",
      " 7.07008372e+12 7.68630706e+12 5.15628117e+12 4.39420370e+12\n",
      " 3.86463452e+12 3.35162821e+12 4.34261510e+12 0.00000000e+00\n",
      " 0.00000000e+00 3.24509772e+12 1.78570560e+12 0.00000000e+00\n",
      " 1.56322679e+12 0.00000000e+00 1.51752406e+12 1.42868843e+12\n",
      " 1.41803459e+12 1.41355668e+12 1.37308175e+12 0.00000000e+00\n",
      " 0.00000000e+00 1.99271665e+12 1.69076801e+12 1.14112319e+12\n",
      " 0.00000000e+00 0.00000000e+00 0.00000000e+00 0.00000000e+00\n",
      " 0.00000000e+00 8.36665774e+11 0.00000000e+00 7.70946302e+11\n",
      " 8.12003359e+11 7.41547783e+11 0.00000000e+00 7.23359069e+11\n",
      " 1.31755172e+12 6.36897797e+11 0.00000000e+00 0.00000000e+00\n",
      " 0.00000000e+00 9.33660175e+11 5.34029688e+11 5.33245203e+11\n",
      " 0.00000000e+00 4.86449528e+11 0.00000000e+00 0.00000000e+00\n",
      " 0.00000000e+00 4.46262589e+11 4.44219015e+11 0.00000000e+00\n",
      " 4.31362018e+11 0.00000000e+00 0.00000000e+00 0.00000000e+00\n",
      " 0.00000000e+00 8.16398442e+11 0.00000000e+00 0.00000000e+00\n",
      " 3.89615580e+11 0.00000000e+00 5.93962390e+11 3.60313447e+11\n",
      " 0.00000000e+00 0.00000000e+00 0.00000000e+00 0.00000000e+00\n",
      " 0.00000000e+00 0.00000000e+00 3.17424216e+11 3.13399239e+11\n",
      " 0.00000000e+00 0.00000000e+00 0.00000000e+00 2.77399940e+11\n",
      " 0.00000000e+00 0.00000000e+00 0.00000000e+00 2.49831218e+11\n",
      " 2.25952357e+11 0.00000000e+00 0.00000000e+00 6.64906076e+11\n",
      " 2.16901464e+11 0.00000000e+00 0.00000000e+00 2.10544364e+11\n",
      " 0.00000000e+00 2.07226504e+11 0.00000000e+00 1.98606704e+11\n",
      " 1.87869607e+11 0.00000000e+00 0.00000000e+00 2.04329429e+11\n",
      " 0.00000000e+00 0.00000000e+00 0.00000000e+00 0.00000000e+00\n",
      " 1.45507066e+11 0.00000000e+00 1.33586864e+11 0.00000000e+00\n",
      " 2.33336772e+11 0.00000000e+00 0.00000000e+00 0.00000000e+00\n",
      " 0.00000000e+00 0.00000000e+00 0.00000000e+00 1.22840381e+11\n",
      " 0.00000000e+00 0.00000000e+00 0.00000000e+00 1.17161259e+11\n",
      " 1.13488427e+11 0.00000000e+00 0.00000000e+00 0.00000000e+00\n",
      " 0.00000000e+00 0.00000000e+00 0.00000000e+00 9.49850283e+10\n",
      " 9.45329763e+10 0.00000000e+00 0.00000000e+00 0.00000000e+00\n",
      " 8.28715493e+10 0.00000000e+00 0.00000000e+00 7.80619600e+10\n",
      " 0.00000000e+00 0.00000000e+00 0.00000000e+00 7.51125797e+10\n",
      " 0.00000000e+00 0.00000000e+00 0.00000000e+00 0.00000000e+00\n",
      " 6.82003696e+10 0.00000000e+00 0.00000000e+00 0.00000000e+00\n",
      " 6.67554581e+10 0.00000000e+00 0.00000000e+00 6.57131089e+10\n",
      " 0.00000000e+00 6.43239812e+10 0.00000000e+00 0.00000000e+00\n",
      " 0.00000000e+00 6.12451735e+10 6.05976743e+10 6.05463282e+10\n",
      " 0.00000000e+00 0.00000000e+00 0.00000000e+00 0.00000000e+00\n",
      " 0.00000000e+00 0.00000000e+00 4.77511302e+10 0.00000000e+00\n",
      " 0.00000000e+00 0.00000000e+00 0.00000000e+00 4.05330363e+10\n",
      " 0.00000000e+00 3.63621104e+10 0.00000000e+00 3.26563346e+10\n",
      " 0.00000000e+00 2.98626941e+10 0.00000000e+00 2.90473383e+10\n",
      " 2.81495483e+10 2.80413433e+10 0.00000000e+00 0.00000000e+00\n",
      " 0.00000000e+00 2.26297795e+10 1.44704923e+10 0.00000000e+00\n",
      " 0.00000000e+00 7.50853381e+09 7.01641536e+08] [2.65422e+04 9.16000e+03 2.70000e+04 2.10000e+04 6.13550e+04 4.88000e+03\n",
      " 0.00000e+00 1.70000e+04 1.80000e+04 3.47000e+03 9.20000e+03 4.52000e+03\n",
      " 0.00000e+00 3.61300e+03 0.00000e+00 2.48300e+04 0.00000e+00 2.69000e+03\n",
      " 1.20000e+04 0.00000e+00 0.00000e+00 4.00000e+04 0.00000e+00 0.00000e+00\n",
      " 0.00000e+00 8.30000e+03 0.00000e+00 0.00000e+00 3.30000e+03 1.33000e+03\n",
      " 0.00000e+00 2.83300e+03 3.45000e+03 4.70500e+03 7.80000e+03 4.20000e+03\n",
      " 1.24960e+03 1.49700e+03 7.75000e+03 0.00000e+00 0.00000e+00 5.96000e+02\n",
      " 1.90000e+03 0.00000e+00 3.50000e+03 0.00000e+00 2.29000e+02 2.10000e+02\n",
      " 1.62000e+03 4.00000e+02 1.60000e+03 0.00000e+00 0.00000e+00 2.47300e+02\n",
      " 1.47600e+02 5.00000e+02 0.00000e+00 0.00000e+00 0.00000e+00 0.00000e+00\n",
      " 0.00000e+00 4.50000e+02 0.00000e+00 6.09000e+02 1.11920e+03 4.00000e+02\n",
      " 0.00000e+00 4.00000e+02 1.07900e+03 6.00000e+01 0.00000e+00 0.00000e+00\n",
      " 0.00000e+00 4.45000e+02 1.50000e+02 3.00000e+02 0.00000e+00 4.70000e+02\n",
      " 0.00000e+00 0.00000e+00 0.00000e+00 1.50000e+02 3.70000e+02 0.00000e+00\n",
      " 1.10000e+03 0.00000e+00 0.00000e+00 0.00000e+00 0.00000e+00 4.90000e+02\n",
      " 0.00000e+00 0.00000e+00 2.10000e+02 0.00000e+00 2.50000e+02 5.00000e+01\n",
      " 0.00000e+00 0.00000e+00 0.00000e+00 0.00000e+00 0.00000e+00 0.00000e+00\n",
      " 1.70000e+02 1.14000e+02 0.00000e+00 0.00000e+00 0.00000e+00 2.20000e+02\n",
      " 0.00000e+00 0.00000e+00 0.00000e+00 1.90000e+02 8.00000e+01 0.00000e+00\n",
      " 0.00000e+00 1.96200e+02 1.60000e+02 0.00000e+00 0.00000e+00 3.51000e+01\n",
      " 0.00000e+00 2.90000e+01 0.00000e+00 1.15000e+02 0.00000e+00 0.00000e+00\n",
      " 0.00000e+00 8.84000e+01 0.00000e+00 0.00000e+00 0.00000e+00 0.00000e+00\n",
      " 8.00000e+00 0.00000e+00 1.78000e+02 0.00000e+00 4.14000e+01 0.00000e+00\n",
      " 0.00000e+00 0.00000e+00 0.00000e+00 0.00000e+00 0.00000e+00 2.20000e+01\n",
      " 0.00000e+00 0.00000e+00 0.00000e+00 1.30000e+02 1.72000e+01 0.00000e+00\n",
      " 0.00000e+00 0.00000e+00 0.00000e+00 0.00000e+00 0.00000e+00 7.00000e+00\n",
      " 4.34000e+01 0.00000e+00 0.00000e+00 0.00000e+00 4.50000e+00 0.00000e+00\n",
      " 0.00000e+00 1.20000e+01 0.00000e+00 0.00000e+00 0.00000e+00 2.31000e+01\n",
      " 0.00000e+00 0.00000e+00 0.00000e+00 0.00000e+00 3.76000e+01 0.00000e+00\n",
      " 0.00000e+00 0.00000e+00 1.09000e+01 0.00000e+00 0.00000e+00 1.02000e+01\n",
      " 0.00000e+00 4.10000e+00 0.00000e+00 0.00000e+00 0.00000e+00 1.30000e+01\n",
      " 2.50000e+00 9.80000e+00 0.00000e+00 0.00000e+00 0.00000e+00 0.00000e+00\n",
      " 0.00000e+00 0.00000e+00 2.00000e+00 0.00000e+00 0.00000e+00 0.00000e+00\n",
      " 0.00000e+00 1.08000e+01 0.00000e+00 6.00000e-01 0.00000e+00 2.00000e+00\n",
      " 0.00000e+00 2.00000e+00 0.00000e+00 2.07000e+01 2.20000e+01 2.90000e+00\n",
      " 0.00000e+00 0.00000e+00 0.00000e+00 5.00000e+00 7.20000e+02 0.00000e+00\n",
      " 0.00000e+00 1.17000e+01 1.10000e+01]\n",
      "98\n"
     ]
    }
   ],
   "source": [
    "print(M_h_new, N_GC_new)\n",
    "print(i_test)"
   ]
  },
  {
   "cell_type": "code",
   "execution_count": 14,
   "id": "12f2fbed-142d-4f46-afb8-6573499d47b9",
   "metadata": {},
   "outputs": [
    {
     "data": {
      "text/plain": [
       "[<matplotlib.lines.Line2D at 0x7fa208fe33a0>]"
      ]
     },
     "execution_count": 14,
     "metadata": {},
     "output_type": "execute_result"
    },
    {
     "data": {
      "image/png": "[encoded data removed]",
      "text/plain": [
       "<Figure size 720x720 with 1 Axes>"
      ]
     },
     "metadata": {
      "needs_background": "light"
     },
     "output_type": "display_data"
    }
   ],
   "source": [
    "plt.figure(figsize=(10,10))\n",
    "plt.loglog(M_h_new,N_GC_new,'.')"
   ]
  },
  {
   "cell_type": "raw",
   "id": "6b39f7d4-e307-427b-8ca5-589337bf6288",
   "metadata": {},
   "source": [
    "#save data into file\n",
    "data = np.column_stack([M_h_new, N_GC_new])\n",
    "datafile_path = path+\"code/data_tot_GC_of_DMhalo.txt\"\n",
    "np.savetxt(datafile_path , data, fmt='%f')"
   ]
  },
  {
   "cell_type": "code",
   "execution_count": 15,
   "id": "07af2db9-da40-4f54-b1eb-c9c10df0e409",
   "metadata": {},
   "outputs": [],
   "source": [
    "#load theory results\n",
    "M_halo_theo                 = np.loadtxt(path1+\"theory_Creaseymodel.txt\" ,usecols=(0))\n",
    "N_GC_Mill_Creaseytheo       = np.loadtxt(path1+\"theory_Creaseymodel.txt\" ,usecols=(1))\n",
    "err_N_GC_Mill_Creaseytheo   = np.loadtxt(path1+\"theory_Creaseymodel.txt\" ,usecols=(2))\n",
    "N_GC_Planck_Creaseytheo     = np.loadtxt(path1+\"theory_Creaseymodel.txt\" ,usecols=(3))\n",
    "err_N_GC_Planck_Creaseytheo = np.loadtxt(path1+\"theory_Creaseymodel.txt\" ,usecols=(4))\n",
    "N_GC_COCO_Creaseytheo       = np.loadtxt(path1+\"theory_Creaseymodel.txt\" ,usecols=(5))\n",
    "err_N_GC_COCO_Creaseytheo   = np.loadtxt(path1+\"theory_Creaseymodel.txt\" ,usecols=(6))\n",
    "M_halo_theo2                = np.loadtxt(path1+\"theory_ourmodel.txt\"     ,usecols=(0))\n",
    "N_GC_Mill_ourtheo           = np.loadtxt(path1+\"theory_ourmodel.txt\"     ,usecols=(1))\n",
    "err_N_GC_Mill_ourtheo       = np.loadtxt(path1+\"theory_ourmodel.txt\"     ,usecols=(2))\n",
    "N_GC_Planck_ourtheo         = np.loadtxt(path1+\"theory_ourmodel.txt\"     ,usecols=(3))\n",
    "err_N_GC_Planck_ourtheo     = np.loadtxt(path1+\"theory_ourmodel.txt\"     ,usecols=(4))\n",
    "N_GC_COCO_ourtheo           = np.loadtxt(path1+\"theory_ourmodel.txt\"     ,usecols=(5))\n",
    "err_N_GC_COCO_ourtheo       = np.loadtxt(path1+\"theory_ourmodel.txt\"     ,usecols=(6))"
   ]
  },
  {
   "cell_type": "code",
   "execution_count": 27,
   "id": "90b39206-730c-4af7-a2d1-81b50a837031",
   "metadata": {},
   "outputs": [],
   "source": [
    "#load data from Forbes et al.18\n",
    "M_halo_F = np.loadtxt(path1+'Forbes18_data.txt',usecols=(2))\n",
    "N_GC_F   = np.loadtxt(path1+'Forbes18_data.txt',usecols=(3))\n",
    "M_halo_F = 10**M_halo_F"
   ]
  },
  {
   "cell_type": "code",
   "execution_count": 17,
   "id": "0683daf7-55f1-4af0-86a4-0903eb148b52",
   "metadata": {},
   "outputs": [],
   "source": [
    "# load EMOSAICS Fig.1 data\n",
    "mass_E   = np.loadtxt(path1+'EMOSAICS_data.txt', usecols =(0))\n",
    "triangle = np.loadtxt(path1+'EMOSAICS_data.txt', usecols =(1))\n",
    "square   = np.loadtxt(path1+'EMOSAICS_data.txt', usecols =(2))\n",
    "star     = np.loadtxt(path1+'EMOSAICS_data.txt', usecols =(3))"
   ]
  },
  {
   "cell_type": "code",
   "execution_count": 36,
   "id": "5a0df97d-73ef-4e40-ad1e-9e548715d485",
   "metadata": {},
   "outputs": [
    {
     "data": {
      "image/png": "[encoded data removed]",
      "text/plain": [
       "<Figure size 864x864 with 1 Axes>"
      ]
     },
     "metadata": {
      "needs_background": "light"
     },
     "output_type": "display_data"
    }
   ],
   "source": [
    "plt.figure(figsize=(12,12))\n",
    "plt.xscale(\"log\")\n",
    "plt.yscale(\"log\")\n",
    "plt.errorbar(M_halo_theo, N_GC_Mill_Creaseytheo,  yerr=err_N_GC_Mill_Creaseytheo,  color = '#a5c215', fmt='--',label='Creasey model, P_Mill')\n",
    "plt.errorbar(M_halo_theo, N_GC_Planck_Creaseytheo,yerr=err_N_GC_Planck_Creaseytheo,color = '#186878', fmt='--',label='Creasey model, P_Planck')\n",
    "plt.errorbar(M_halo_theo, N_GC_COCO_Creaseytheo,  yerr=err_N_GC_COCO_Creaseytheo,  color = '#c23215', fmt='--',label='Creasey model, P_COCO')\n",
    "plt.errorbar(M_halo_theo2,N_GC_Mill_ourtheo,      yerr=err_N_GC_Mill_ourtheo,      color = '#a5c215',label='our model, P_Mill')\n",
    "plt.errorbar(M_halo_theo2,N_GC_Planck_ourtheo,    yerr=err_N_GC_Planck_ourtheo,    color = '#186878',label='our model, P_Planck')\n",
    "plt.errorbar(M_halo_theo2,N_GC_COCO_ourtheo,      yerr=err_N_GC_COCO_ourtheo,      color = '#c23215',label='our model, P_COCO')\n",
    "plt.plot(M_h_new,N_GC_new, 'b.', label = 'total GCs in halos')\n",
    "plt.plot(M_h,    N_GC,     'c+', label = 'GCs in each halo')\n",
    "plt.plot(M_halo_F,  N_GC_F,'m+', label = 'GCs in central halo (Forbes18)')\n",
    "plt.plot(mass_E, triangle, 'v-', label = 'EMOSAICS $M \\geq 10^5 M_\\odot$')\n",
    "plt.plot(mass_E, square,   's-', label = 'EMOSAICS $M \\geq 10^5 M_\\odot$ and $[Fe/H]$')\n",
    "plt.plot(mass_E, star, '*-',     label = 'EMOSAICS $M \\geq 10^5 M_\\odot$, $[Fe/H]$ and $R > R_{1/2 M_\\star}$')\n",
    "plt.xlabel('$M_h [M_\\odot]$')\n",
    "plt.ylabel('$N_{GC}$')\n",
    "plt.legend()#loc=(1.1,0))\n",
    "#plt.show()\n",
    "plt.savefig('tot_GC_vs_EMOSAICS.png')"
   ]
  },
  {
   "cell_type": "code",
   "execution_count": 258,
   "id": "2c92f7bd-b564-4af6-b9e9-0a2b6d944327",
   "metadata": {},
   "outputs": [
    {
     "name": "stdout",
     "output_type": "stream",
     "text": [
      "True True\n"
     ]
    }
   ],
   "source": [
    "a = np.inf\n",
    "b = np.inf\n",
    "print(a == b, a is b)"
   ]
  },
  {
   "cell_type": "code",
   "execution_count": 259,
   "id": "d577eeb2-6498-42be-8146-e7e02f2f42a7",
   "metadata": {},
   "outputs": [
    {
     "name": "stdout",
     "output_type": "stream",
     "text": [
      "True True\n"
     ]
    }
   ],
   "source": [
    "a = None\n",
    "b = None\n",
    "print(a == b, a is b)"
   ]
  },
  {
   "cell_type": "code",
   "execution_count": 257,
   "id": "a3196988-16d9-4879-bead-3e31214e6256",
   "metadata": {},
   "outputs": [
    {
     "name": "stdout",
     "output_type": "stream",
     "text": [
      "False True\n"
     ]
    }
   ],
   "source": [
    "a = np.nan\n",
    "b = np.nan\n",
    "print(a == b, a is b)"
   ]
  },
  {
   "cell_type": "code",
   "execution_count": 256,
   "id": "513b2fe3-cf5f-46e8-91cb-4cb29842ae4b",
   "metadata": {},
   "outputs": [
    {
     "name": "stdout",
     "output_type": "stream",
     "text": [
      "True True\n"
     ]
    }
   ],
   "source": [
    "a = True\n",
    "b = True\n",
    "print(a == b, a is b)"
   ]
  },
  {
   "cell_type": "code",
   "execution_count": 260,
   "id": "7d2df95c-6b51-4136-9ab8-fe78c88fdd89",
   "metadata": {},
   "outputs": [
    {
     "data": {
      "text/plain": [
       "139902892452288"
      ]
     },
     "execution_count": 260,
     "metadata": {},
     "output_type": "execute_result"
    }
   ],
   "source": [
    "a =[1,2,3]\n",
    "id(a)"
   ]
  },
  {
   "cell_type": "code",
   "execution_count": 261,
   "id": "6356af4e-82b2-4858-895c-eddc4a00dc0c",
   "metadata": {},
   "outputs": [
    {
     "data": {
      "text/plain": [
       "139902891539520"
      ]
     },
     "execution_count": 261,
     "metadata": {},
     "output_type": "execute_result"
    }
   ],
   "source": [
    "b =[1,2,3]\n",
    "id(b)"
   ]
  },
  {
   "cell_type": "code",
   "execution_count": 262,
   "id": "6e0baea1-ac41-4466-89de-7d08cc14372f",
   "metadata": {},
   "outputs": [
    {
     "data": {
      "text/plain": [
       "94841007021312"
      ]
     },
     "execution_count": 262,
     "metadata": {},
     "output_type": "execute_result"
    }
   ],
   "source": [
    "a =None\n",
    "id(a)"
   ]
  },
  {
   "cell_type": "code",
   "execution_count": 263,
   "id": "c0152237-eefb-41cd-b40c-9fd4b9ef82ee",
   "metadata": {},
   "outputs": [
    {
     "data": {
      "text/plain": [
       "94841007021312"
      ]
     },
     "execution_count": 263,
     "metadata": {},
     "output_type": "execute_result"
    }
   ],
   "source": [
    "b=None\n",
    "id(b)"
   ]
  },
  {
   "cell_type": "code",
   "execution_count": 264,
   "id": "679357cf-de4c-4551-9763-92c56daa1e06",
   "metadata": {},
   "outputs": [
    {
     "data": {
      "text/plain": [
       "139903934461296"
      ]
     },
     "execution_count": 264,
     "metadata": {},
     "output_type": "execute_result"
    }
   ],
   "source": [
    "a=np.inf\n",
    "id(a)"
   ]
  },
  {
   "cell_type": "code",
   "execution_count": 265,
   "id": "14d198bd-b089-4214-aac5-90bb951556d7",
   "metadata": {},
   "outputs": [
    {
     "data": {
      "text/plain": [
       "139903934461296"
      ]
     },
     "execution_count": 265,
     "metadata": {},
     "output_type": "execute_result"
    }
   ],
   "source": [
    "b=np.inf\n",
    "id(b)"
   ]
  },
  {
   "cell_type": "code",
   "execution_count": null,
   "id": "7e8eab3c-99b7-45d1-bd49-ff97e2fba20b",
   "metadata": {},
   "outputs": [],
   "source": []
  }
 ],
 "metadata": {
  "kernelspec": {
   "display_name": "Python 3 (ipykernel)",
   "language": "python",
   "name": "python3"
  },
  "language_info": {
   "codemirror_mode": {
    "name": "ipython",
    "version": 3
   },
   "file_extension": ".py",
   "mimetype": "text/x-python",
   "name": "python",
   "nbconvert_exporter": "python",
   "pygments_lexer": "ipython3",
   "version": "3.10.5"
  }
 },
 "nbformat": 4,
 "nbformat_minor": 5
}

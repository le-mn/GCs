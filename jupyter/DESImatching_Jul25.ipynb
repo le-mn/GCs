{
 "cells": [
  {
   "cell_type": "markdown",
   "id": "132bd1df-2723-4f22-a698-3a9806a799c3",
   "metadata": {},
   "source": [
    "Jul 25-29\n",
    "\n",
    " - Find the matched galaxies in Harris and DESI DR9 catalogs:"
   ]
  },
  {
   "cell_type": "code",
   "execution_count": 2,
   "id": "9b37de62-8893-4816-810d-22f8fc95da23",
   "metadata": {},
   "outputs": [],
   "source": [
    "import numpy as np\n",
    "import matplotlib.pyplot as plt\n",
    "import astropy.io.fits as pyfits\n",
    "\n",
    "path ='/home/ngoc/Downloads/GCs/'\n",
    "path1 ='/home/ngoc/Downloads/GCs/code/'"
   ]
  },
  {
   "cell_type": "code",
   "execution_count": 3,
   "id": "43d54610-78e0-450c-abf0-466f4702cbce",
   "metadata": {},
   "outputs": [],
   "source": [
    "from astropy.table import Table\n",
    "from astropy import units as u\n",
    "from astropy.coordinates import Angle\n",
    "from astropy.coordinates import SkyCoord"
   ]
  },
  {
   "cell_type": "code",
   "execution_count": 4,
   "id": "8e3f3acc-5829-450d-b61f-d82d98fcafe3",
   "metadata": {},
   "outputs": [],
   "source": [
    "import astropy.io.fits as fits"
   ]
  },
  {
   "cell_type": "code",
   "execution_count": 8,
   "id": "1db087b3-8bc8-4052-b072-3817a646ed56",
   "metadata": {},
   "outputs": [],
   "source": [
    "d = fits.getdata('/home/ngoc/DESIdata/galaxies/DESIDR9_NGC_galaxy.fits')"
   ]
  },
  {
   "cell_type": "code",
   "execution_count": 9,
   "id": "78355530-e1d7-497c-a379-e6e30106c7ca",
   "metadata": {},
   "outputs": [],
   "source": [
    "coor_D = SkyCoord(d['ra'], d['dec'], frame='icrs')"
   ]
  },
  {
   "cell_type": "code",
   "execution_count": null,
   "id": "96217ad0-bb60-45cd-8061-fe85cb271efc",
   "metadata": {},
   "outputs": [],
   "source": [
    "d2 = fits.getdata(path1+'GC_cat_H13.fits')"
   ]
  },
  {
   "cell_type": "code",
   "execution_count": 9,
   "id": "cb5114a3-97d0-4577-ba9d-57f9daee0d9d",
   "metadata": {},
   "outputs": [],
   "source": [
    "coor_H = SkyCoord(d2['ra'], d2['dec'], frame='icrs')"
   ]
  },
  {
   "cell_type": "code",
   "execution_count": null,
   "id": "335038e7-eed6-424b-b0de-327fc9e2ac84",
   "metadata": {},
   "outputs": [],
   "source": [
    "del(d,d2)"
   ]
  },
  {
   "cell_type": "raw",
   "id": "e6cc4840-e0dc-447f-be1c-14cb2b09e75f",
   "metadata": {},
   "source": [
    "import gc"
   ]
  },
  {
   "cell_type": "raw",
   "id": "48a246be-8584-45a1-a6b6-45bd7aefe227",
   "metadata": {},
   "source": [
    "gc.collect()"
   ]
  },
  {
   "cell_type": "code",
   "execution_count": null,
   "id": "d08c93d7-d82b-4c5c-b833-675533eccc89",
   "metadata": {},
   "outputs": [],
   "source": [
    "#source.match_to_catalog_sky(catalog)\n",
    "idx, d2d, d3d = coor_H.match_to_catalog_sky(coor_D)"
   ]
  },
  {
   "cell_type": "code",
   "execution_count": null,
   "id": "f96f8e8f-c079-4ae1-b11a-7c603229f561",
   "metadata": {},
   "outputs": [],
   "source": [
    "d2d = d2d.arcsec #convert d2d to [arcsec], then take the value and remove the unit\n",
    "#print(d2d)"
   ]
  },
  {
   "cell_type": "code",
   "execution_count": null,
   "id": "a67c84f5-8c37-4bba-bcba-1d82b2e0591e",
   "metadata": {},
   "outputs": [],
   "source": []
  }
 ],
 "metadata": {
  "kernelspec": {
   "display_name": "Python 3 (ipykernel)",
   "language": "python",
   "name": "python3"
  },
  "language_info": {
   "codemirror_mode": {
    "name": "ipython",
    "version": 3
   },
   "file_extension": ".py",
   "mimetype": "text/x-python",
   "name": "python",
   "nbconvert_exporter": "python",
   "pygments_lexer": "ipython3",
   "version": "3.9.12"
  }
 },
 "nbformat": 4,
 "nbformat_minor": 5
}
